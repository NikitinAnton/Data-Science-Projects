{
  "cells": [
    {
      "cell_type": "markdown",
      "id": "0e0f5403",
      "metadata": {
        "id": "0e0f5403"
      },
      "source": [
        "## Проект: Оценка рисков ДТП\n",
        "Нужно создать систему, которая могла бы оценить риск ДТП по выбранному маршруту движения. Под риском понимается вероятность ДТП __с любым повреждением транспортного средства__. Как только водитель забронировал автомобиль, сел за руль и выбрал маршрут, система должна оценить уровень риска. Если уровень риска высок, водитель увидит предупреждение и рекомендации по маршруту."
      ]
    },
    {
      "cell_type": "markdown",
      "id": "c9218b61",
      "metadata": {
        "ExecuteTime": {
          "end_time": "2022-05-05T04:58:05.692448Z",
          "start_time": "2022-05-05T04:58:05.688565Z"
        },
        "id": "c9218b61"
      },
      "source": [
        "## Подключитесь к базе. Загрузите таблицы sql"
      ]
    },
    {
      "cell_type": "code",
      "execution_count": null,
      "id": "7a0ea738",
      "metadata": {
        "id": "7a0ea738",
        "outputId": "f7daffb3-9836-4da9-ade5-3eae29f9d02c"
      },
      "outputs": [
        {
          "name": "stdout",
          "output_type": "stream",
          "text": [
            "Requirement already satisfied: scikit-learn in /opt/conda/lib/python3.9/site-packages (1.5.2)\n",
            "Requirement already satisfied: joblib>=1.2.0 in /opt/conda/lib/python3.9/site-packages (from scikit-learn) (1.4.2)\n",
            "Requirement already satisfied: threadpoolctl>=3.1.0 in /opt/conda/lib/python3.9/site-packages (from scikit-learn) (3.1.0)\n",
            "Requirement already satisfied: scipy>=1.6.0 in /opt/conda/lib/python3.9/site-packages (from scikit-learn) (1.9.1)\n",
            "Requirement already satisfied: numpy>=1.19.5 in /opt/conda/lib/python3.9/site-packages (from scikit-learn) (1.21.1)\n"
          ]
        }
      ],
      "source": [
        "!pip install -U scikit-learn"
      ]
    },
    {
      "cell_type": "code",
      "execution_count": null,
      "id": "884ddb4c",
      "metadata": {
        "id": "884ddb4c",
        "outputId": "772c5845-2712-4f31-c887-6373deb40fc3"
      },
      "outputs": [
        {
          "name": "stdout",
          "output_type": "stream",
          "text": [
            "Requirement already satisfied: sqlalchemy in /opt/conda/lib/python3.9/site-packages (1.4.20)\n",
            "Requirement already satisfied: greenlet!=0.4.17 in /opt/conda/lib/python3.9/site-packages (from sqlalchemy) (1.1.0)\n"
          ]
        }
      ],
      "source": [
        "!pip install sqlalchemy"
      ]
    },
    {
      "cell_type": "code",
      "execution_count": null,
      "id": "12772cd0",
      "metadata": {
        "id": "12772cd0",
        "outputId": "470d0f10-ce28-464d-c117-8e7ab56740ad"
      },
      "outputs": [
        {
          "name": "stdout",
          "output_type": "stream",
          "text": [
            "Requirement already satisfied: shap in /opt/conda/lib/python3.9/site-packages (0.46.0)\n",
            "Requirement already satisfied: scikit-learn in /opt/conda/lib/python3.9/site-packages (from shap) (1.5.2)\n",
            "Requirement already satisfied: scipy in /opt/conda/lib/python3.9/site-packages (from shap) (1.9.1)\n",
            "Requirement already satisfied: tqdm>=4.27.0 in /opt/conda/lib/python3.9/site-packages (from shap) (4.61.2)\n",
            "Requirement already satisfied: numba in /opt/conda/lib/python3.9/site-packages (from shap) (0.56.0)\n",
            "Requirement already satisfied: numpy in /opt/conda/lib/python3.9/site-packages (from shap) (1.21.1)\n",
            "Requirement already satisfied: packaging>20.9 in /opt/conda/lib/python3.9/site-packages (from shap) (21.3)\n",
            "Requirement already satisfied: slicer==0.0.8 in /opt/conda/lib/python3.9/site-packages (from shap) (0.0.8)\n",
            "Requirement already satisfied: pandas in /opt/conda/lib/python3.9/site-packages (from shap) (1.2.4)\n",
            "Requirement already satisfied: cloudpickle in /opt/conda/lib/python3.9/site-packages (from shap) (3.1.0)\n",
            "Requirement already satisfied: pyparsing!=3.0.5,>=2.0.2 in /opt/conda/lib/python3.9/site-packages (from packaging>20.9->shap) (2.4.7)\n",
            "Requirement already satisfied: setuptools in /opt/conda/lib/python3.9/site-packages (from numba->shap) (49.6.0.post20210108)\n",
            "Requirement already satisfied: llvmlite<0.40,>=0.39.0dev0 in /opt/conda/lib/python3.9/site-packages (from numba->shap) (0.39.0)\n",
            "Requirement already satisfied: python-dateutil>=2.7.3 in /opt/conda/lib/python3.9/site-packages (from pandas->shap) (2.8.1)\n",
            "Requirement already satisfied: pytz>=2017.3 in /opt/conda/lib/python3.9/site-packages (from pandas->shap) (2021.1)\n",
            "Requirement already satisfied: six>=1.5 in /opt/conda/lib/python3.9/site-packages (from python-dateutil>=2.7.3->pandas->shap) (1.16.0)\n",
            "Requirement already satisfied: joblib>=1.2.0 in /opt/conda/lib/python3.9/site-packages (from scikit-learn->shap) (1.4.2)\n",
            "Requirement already satisfied: threadpoolctl>=3.1.0 in /opt/conda/lib/python3.9/site-packages (from scikit-learn->shap) (3.1.0)\n"
          ]
        }
      ],
      "source": [
        "!pip install shap"
      ]
    },
    {
      "cell_type": "code",
      "execution_count": null,
      "id": "c5a1b88a",
      "metadata": {
        "id": "c5a1b88a"
      },
      "outputs": [],
      "source": [
        "# Загружаем библиотеки\n",
        "import pandas as pd\n",
        "import numpy as np\n",
        "import matplotlib.pyplot as plt\n",
        "import seaborn as sns\n",
        "\n",
        "from sklearn.model_selection import train_test_split\n",
        "from sklearn.preprocessing import (StandardScaler,\n",
        "                                   OneHotEncoder,\n",
        "                                   OrdinalEncoder,\n",
        "                                   LabelEncoder\n",
        "                                  )\n",
        "from sklearn.compose import ColumnTransformer\n",
        "from sklearn.pipeline import Pipeline\n",
        "from sklearn.impute import SimpleImputer\n",
        "from sklearn.tree import DecisionTreeClassifier\n",
        "from sklearn.neighbors import KNeighborsClassifier\n",
        "from sklearn.ensemble import RandomForestClassifier\n",
        "from sklearn.neural_network import MLPClassifier\n",
        "from sklearn.metrics import accuracy_score, f1_score\n",
        "from sklearn.metrics import (\n",
        "    accuracy_score,\n",
        "    roc_auc_score,\n",
        "    confusion_matrix,\n",
        "    ConfusionMatrixDisplay,\n",
        "    precision_score,\n",
        "    recall_score\n",
        ")\n",
        "from sklearn.model_selection import (\n",
        "    RandomizedSearchCV,\n",
        "    train_test_split,\n",
        "    GridSearchCV\n",
        ")\n",
        "\n",
        "from sqlalchemy import create_engine\n",
        "\n",
        "import shap"
      ]
    },
    {
      "cell_type": "code",
      "execution_count": null,
      "id": "783a5888",
      "metadata": {
        "id": "783a5888"
      },
      "outputs": [],
      "source": [
        "db_config = {\n",
        "'user': 'praktikum_student', # имя пользователя,\n",
        "'pwd': 'Sdf4$2;d-d30pp', # пароль,\n",
        "'host': 'rc1b-wcoijxj3yxfsf3fs.mdb.yandexcloud.net',\n",
        "'port': 6432, # порт подключения,\n",
        "'db': 'data-science-vehicle-db' # название базы данных,\n",
        "}"
      ]
    },
    {
      "cell_type": "code",
      "execution_count": null,
      "id": "6a5da2b2",
      "metadata": {
        "id": "6a5da2b2"
      },
      "outputs": [],
      "source": [
        "# Строка для подключения к БД\n",
        "connection_string = 'postgresql://{}:{}@{}:{}/{}'.format(\n",
        "    db_config['user'],\n",
        "    db_config['pwd'],\n",
        "    db_config['host'],\n",
        "    db_config['port'],\n",
        "    db_config['db'],\n",
        ")"
      ]
    },
    {
      "cell_type": "code",
      "execution_count": null,
      "id": "a9720e1a",
      "metadata": {
        "id": "a9720e1a"
      },
      "outputs": [],
      "source": [
        "# Создаем соединение\n",
        "engine = create_engine(connection_string)"
      ]
    },
    {
      "cell_type": "markdown",
      "id": "d491b014",
      "metadata": {
        "id": "d491b014"
      },
      "source": [
        "## Проведите первичное исследование таблиц"
      ]
    },
    {
      "cell_type": "code",
      "execution_count": null,
      "id": "d53bb0c6",
      "metadata": {
        "id": "d53bb0c6"
      },
      "outputs": [],
      "source": [
        "def table_out(table_name):\n",
        "    \"\"\"\n",
        "    Функция выполнения запроса по выводу содержимого таблицы\n",
        "    \"\"\"\n",
        "    query_collisions = f'''\n",
        "                    SELECT *\n",
        "                    FROM {table_name}\n",
        "                    LIMIT 5\n",
        "                    '''\n",
        "    df = pd.read_sql_query(query_collisions, con = engine)\n",
        "    return df"
      ]
    },
    {
      "cell_type": "code",
      "execution_count": null,
      "id": "a3e24385",
      "metadata": {
        "id": "a3e24385",
        "outputId": "87f6bed2-2679-460b-dc29-522fc1071eef"
      },
      "outputs": [
        {
          "data": {
            "text/html": [
              "<div>\n",
              "<style scoped>\n",
              "    .dataframe tbody tr th:only-of-type {\n",
              "        vertical-align: middle;\n",
              "    }\n",
              "\n",
              "    .dataframe tbody tr th {\n",
              "        vertical-align: top;\n",
              "    }\n",
              "\n",
              "    .dataframe thead th {\n",
              "        text-align: right;\n",
              "    }\n",
              "</style>\n",
              "<table border=\"1\" class=\"dataframe\">\n",
              "  <thead>\n",
              "    <tr style=\"text-align: right;\">\n",
              "      <th></th>\n",
              "      <th>case_id</th>\n",
              "      <th>county_city_location</th>\n",
              "      <th>county_location</th>\n",
              "      <th>distance</th>\n",
              "      <th>direction</th>\n",
              "      <th>intersection</th>\n",
              "      <th>weather_1</th>\n",
              "      <th>location_type</th>\n",
              "      <th>collision_damage</th>\n",
              "      <th>party_count</th>\n",
              "      <th>primary_collision_factor</th>\n",
              "      <th>pcf_violation_category</th>\n",
              "      <th>type_of_collision</th>\n",
              "      <th>motor_vehicle_involved_with</th>\n",
              "      <th>road_surface</th>\n",
              "      <th>road_condition_1</th>\n",
              "      <th>lighting</th>\n",
              "      <th>control_device</th>\n",
              "      <th>collision_date</th>\n",
              "      <th>collision_time</th>\n",
              "    </tr>\n",
              "  </thead>\n",
              "  <tbody>\n",
              "    <tr>\n",
              "      <th>0</th>\n",
              "      <td>4083072</td>\n",
              "      <td>1942</td>\n",
              "      <td>los angeles</td>\n",
              "      <td>528.0</td>\n",
              "      <td>north</td>\n",
              "      <td>0</td>\n",
              "      <td>cloudy</td>\n",
              "      <td>highway</td>\n",
              "      <td>small damage</td>\n",
              "      <td>2</td>\n",
              "      <td>vehicle code violation</td>\n",
              "      <td>unsafe lane change</td>\n",
              "      <td>sideswipe</td>\n",
              "      <td>other motor vehicle</td>\n",
              "      <td>wet</td>\n",
              "      <td>normal</td>\n",
              "      <td>daylight</td>\n",
              "      <td>none</td>\n",
              "      <td>2009-01-22</td>\n",
              "      <td>07:25:00</td>\n",
              "    </tr>\n",
              "    <tr>\n",
              "      <th>1</th>\n",
              "      <td>4083075</td>\n",
              "      <td>4313</td>\n",
              "      <td>santa clara</td>\n",
              "      <td>0.0</td>\n",
              "      <td>None</td>\n",
              "      <td>1</td>\n",
              "      <td>clear</td>\n",
              "      <td>None</td>\n",
              "      <td>small damage</td>\n",
              "      <td>1</td>\n",
              "      <td>vehicle code violation</td>\n",
              "      <td>improper passing</td>\n",
              "      <td>hit object</td>\n",
              "      <td>fixed object</td>\n",
              "      <td>dry</td>\n",
              "      <td>normal</td>\n",
              "      <td>dark with street lights</td>\n",
              "      <td>functioning</td>\n",
              "      <td>2009-01-03</td>\n",
              "      <td>02:26:00</td>\n",
              "    </tr>\n",
              "    <tr>\n",
              "      <th>2</th>\n",
              "      <td>4083073</td>\n",
              "      <td>0109</td>\n",
              "      <td>alameda</td>\n",
              "      <td>0.0</td>\n",
              "      <td>None</td>\n",
              "      <td>1</td>\n",
              "      <td>clear</td>\n",
              "      <td>None</td>\n",
              "      <td>scratch</td>\n",
              "      <td>2</td>\n",
              "      <td>vehicle code violation</td>\n",
              "      <td>improper turning</td>\n",
              "      <td>broadside</td>\n",
              "      <td>other motor vehicle</td>\n",
              "      <td>dry</td>\n",
              "      <td>normal</td>\n",
              "      <td>dark with street lights</td>\n",
              "      <td>functioning</td>\n",
              "      <td>2009-01-11</td>\n",
              "      <td>03:32:00</td>\n",
              "    </tr>\n",
              "    <tr>\n",
              "      <th>3</th>\n",
              "      <td>4083077</td>\n",
              "      <td>0109</td>\n",
              "      <td>alameda</td>\n",
              "      <td>0.0</td>\n",
              "      <td>None</td>\n",
              "      <td>1</td>\n",
              "      <td>clear</td>\n",
              "      <td>None</td>\n",
              "      <td>scratch</td>\n",
              "      <td>2</td>\n",
              "      <td>vehicle code violation</td>\n",
              "      <td>automobile right of way</td>\n",
              "      <td>broadside</td>\n",
              "      <td>other motor vehicle</td>\n",
              "      <td>dry</td>\n",
              "      <td>normal</td>\n",
              "      <td>daylight</td>\n",
              "      <td>functioning</td>\n",
              "      <td>2009-01-11</td>\n",
              "      <td>10:35:00</td>\n",
              "    </tr>\n",
              "    <tr>\n",
              "      <th>4</th>\n",
              "      <td>4083087</td>\n",
              "      <td>4313</td>\n",
              "      <td>santa clara</td>\n",
              "      <td>0.0</td>\n",
              "      <td>None</td>\n",
              "      <td>1</td>\n",
              "      <td>clear</td>\n",
              "      <td>None</td>\n",
              "      <td>scratch</td>\n",
              "      <td>2</td>\n",
              "      <td>vehicle code violation</td>\n",
              "      <td>speeding</td>\n",
              "      <td>rear end</td>\n",
              "      <td>other motor vehicle</td>\n",
              "      <td>dry</td>\n",
              "      <td>None</td>\n",
              "      <td>dark with street lights</td>\n",
              "      <td>functioning</td>\n",
              "      <td>2009-01-02</td>\n",
              "      <td>22:43:00</td>\n",
              "    </tr>\n",
              "  </tbody>\n",
              "</table>\n",
              "</div>"
            ],
            "text/plain": [
              "   case_id county_city_location county_location  distance direction  \\\n",
              "0  4083072                 1942     los angeles     528.0     north   \n",
              "1  4083075                 4313     santa clara       0.0      None   \n",
              "2  4083073                 0109         alameda       0.0      None   \n",
              "3  4083077                 0109         alameda       0.0      None   \n",
              "4  4083087                 4313     santa clara       0.0      None   \n",
              "\n",
              "   intersection weather_1 location_type collision_damage  party_count  \\\n",
              "0             0    cloudy       highway     small damage            2   \n",
              "1             1     clear          None     small damage            1   \n",
              "2             1     clear          None          scratch            2   \n",
              "3             1     clear          None          scratch            2   \n",
              "4             1     clear          None          scratch            2   \n",
              "\n",
              "  primary_collision_factor   pcf_violation_category type_of_collision  \\\n",
              "0   vehicle code violation       unsafe lane change         sideswipe   \n",
              "1   vehicle code violation         improper passing        hit object   \n",
              "2   vehicle code violation         improper turning         broadside   \n",
              "3   vehicle code violation  automobile right of way         broadside   \n",
              "4   vehicle code violation                 speeding          rear end   \n",
              "\n",
              "  motor_vehicle_involved_with road_surface road_condition_1  \\\n",
              "0         other motor vehicle          wet           normal   \n",
              "1                fixed object          dry           normal   \n",
              "2         other motor vehicle          dry           normal   \n",
              "3         other motor vehicle          dry           normal   \n",
              "4         other motor vehicle          dry             None   \n",
              "\n",
              "                  lighting control_device collision_date collision_time  \n",
              "0                 daylight           none     2009-01-22       07:25:00  \n",
              "1  dark with street lights    functioning     2009-01-03       02:26:00  \n",
              "2  dark with street lights    functioning     2009-01-11       03:32:00  \n",
              "3                 daylight    functioning     2009-01-11       10:35:00  \n",
              "4  dark with street lights    functioning     2009-01-02       22:43:00  "
            ]
          },
          "execution_count": 9,
          "metadata": {},
          "output_type": "execute_result"
        }
      ],
      "source": [
        "# Общая информация о ДТП\n",
        "table_collisions = table_out('collisions')\n",
        "table_collisions"
      ]
    },
    {
      "cell_type": "markdown",
      "id": "66447651",
      "metadata": {
        "id": "66447651"
      },
      "source": [
        "Описание таблицы __collisions:__   \n",
        "Имеет уникальный case_id. Эта таблица описывает общую информацию о ДТП. Например, где оно произошло и когда."
      ]
    },
    {
      "cell_type": "code",
      "execution_count": null,
      "id": "a07c99eb",
      "metadata": {
        "id": "a07c99eb",
        "outputId": "d2442882-5d43-46e7-a1ee-3ce8f2ffe398"
      },
      "outputs": [
        {
          "data": {
            "text/html": [
              "<div>\n",
              "<style scoped>\n",
              "    .dataframe tbody tr th:only-of-type {\n",
              "        vertical-align: middle;\n",
              "    }\n",
              "\n",
              "    .dataframe tbody tr th {\n",
              "        vertical-align: top;\n",
              "    }\n",
              "\n",
              "    .dataframe thead th {\n",
              "        text-align: right;\n",
              "    }\n",
              "</style>\n",
              "<table border=\"1\" class=\"dataframe\">\n",
              "  <thead>\n",
              "    <tr style=\"text-align: right;\">\n",
              "      <th></th>\n",
              "      <th>id</th>\n",
              "      <th>case_id</th>\n",
              "      <th>party_number</th>\n",
              "      <th>party_type</th>\n",
              "      <th>at_fault</th>\n",
              "      <th>insurance_premium</th>\n",
              "      <th>party_sobriety</th>\n",
              "      <th>party_drug_physical</th>\n",
              "      <th>cellphone_in_use</th>\n",
              "    </tr>\n",
              "  </thead>\n",
              "  <tbody>\n",
              "    <tr>\n",
              "      <th>0</th>\n",
              "      <td>22</td>\n",
              "      <td>3899454</td>\n",
              "      <td>1</td>\n",
              "      <td>road signs</td>\n",
              "      <td>1</td>\n",
              "      <td>29.0</td>\n",
              "      <td>had not been drinking</td>\n",
              "      <td>None</td>\n",
              "      <td>0</td>\n",
              "    </tr>\n",
              "    <tr>\n",
              "      <th>1</th>\n",
              "      <td>23</td>\n",
              "      <td>3899454</td>\n",
              "      <td>2</td>\n",
              "      <td>road signs</td>\n",
              "      <td>0</td>\n",
              "      <td>7.0</td>\n",
              "      <td>had not been drinking</td>\n",
              "      <td>None</td>\n",
              "      <td>0</td>\n",
              "    </tr>\n",
              "    <tr>\n",
              "      <th>2</th>\n",
              "      <td>29</td>\n",
              "      <td>3899462</td>\n",
              "      <td>2</td>\n",
              "      <td>car</td>\n",
              "      <td>0</td>\n",
              "      <td>21.0</td>\n",
              "      <td>had not been drinking</td>\n",
              "      <td>None</td>\n",
              "      <td>0</td>\n",
              "    </tr>\n",
              "    <tr>\n",
              "      <th>3</th>\n",
              "      <td>31</td>\n",
              "      <td>3899465</td>\n",
              "      <td>2</td>\n",
              "      <td>road signs</td>\n",
              "      <td>0</td>\n",
              "      <td>24.0</td>\n",
              "      <td>had not been drinking</td>\n",
              "      <td>None</td>\n",
              "      <td>0</td>\n",
              "    </tr>\n",
              "    <tr>\n",
              "      <th>4</th>\n",
              "      <td>41</td>\n",
              "      <td>3899478</td>\n",
              "      <td>2</td>\n",
              "      <td>road bumper</td>\n",
              "      <td>0</td>\n",
              "      <td>NaN</td>\n",
              "      <td>not applicable</td>\n",
              "      <td>not applicable</td>\n",
              "      <td>0</td>\n",
              "    </tr>\n",
              "  </tbody>\n",
              "</table>\n",
              "</div>"
            ],
            "text/plain": [
              "   id  case_id  party_number   party_type  at_fault  insurance_premium  \\\n",
              "0  22  3899454             1   road signs         1               29.0   \n",
              "1  23  3899454             2   road signs         0                7.0   \n",
              "2  29  3899462             2          car         0               21.0   \n",
              "3  31  3899465             2   road signs         0               24.0   \n",
              "4  41  3899478             2  road bumper         0                NaN   \n",
              "\n",
              "          party_sobriety party_drug_physical  cellphone_in_use  \n",
              "0  had not been drinking                None                 0  \n",
              "1  had not been drinking                None                 0  \n",
              "2  had not been drinking                None                 0  \n",
              "3  had not been drinking                None                 0  \n",
              "4         not applicable      not applicable                 0  "
            ]
          },
          "execution_count": 10,
          "metadata": {},
          "output_type": "execute_result"
        }
      ],
      "source": [
        "# Информация об участниках ДТП\n",
        "table_parties = table_out('parties')\n",
        "table_parties"
      ]
    },
    {
      "cell_type": "markdown",
      "id": "cdf511e3",
      "metadata": {
        "id": "cdf511e3"
      },
      "source": [
        "Описание таблицы __parties:__    \n",
        "Имеет неуникальный case_id, который сопоставляется с соответствующим ДТП в таблице collisions. Каждая строка здесь описывает одну из сторон, участвующих в ДТП. Если столкнулись две машины, в этой таблице должно быть две строки с совпадением case_id. Если нужен уникальный идентификатор, это case_id and party_number."
      ]
    },
    {
      "cell_type": "code",
      "execution_count": null,
      "id": "ebf6e44f",
      "metadata": {
        "id": "ebf6e44f",
        "outputId": "3bcf8b8d-47be-40b7-b584-419e1d337b4a"
      },
      "outputs": [
        {
          "data": {
            "text/html": [
              "<div>\n",
              "<style scoped>\n",
              "    .dataframe tbody tr th:only-of-type {\n",
              "        vertical-align: middle;\n",
              "    }\n",
              "\n",
              "    .dataframe tbody tr th {\n",
              "        vertical-align: top;\n",
              "    }\n",
              "\n",
              "    .dataframe thead th {\n",
              "        text-align: right;\n",
              "    }\n",
              "</style>\n",
              "<table border=\"1\" class=\"dataframe\">\n",
              "  <thead>\n",
              "    <tr style=\"text-align: right;\">\n",
              "      <th></th>\n",
              "      <th>id</th>\n",
              "      <th>case_id</th>\n",
              "      <th>party_number</th>\n",
              "      <th>vehicle_type</th>\n",
              "      <th>vehicle_transmission</th>\n",
              "      <th>vehicle_age</th>\n",
              "    </tr>\n",
              "  </thead>\n",
              "  <tbody>\n",
              "    <tr>\n",
              "      <th>0</th>\n",
              "      <td>1175713</td>\n",
              "      <td>5305032</td>\n",
              "      <td>2</td>\n",
              "      <td>sedan</td>\n",
              "      <td>manual</td>\n",
              "      <td>3</td>\n",
              "    </tr>\n",
              "    <tr>\n",
              "      <th>1</th>\n",
              "      <td>1</td>\n",
              "      <td>3858022</td>\n",
              "      <td>1</td>\n",
              "      <td>sedan</td>\n",
              "      <td>auto</td>\n",
              "      <td>3</td>\n",
              "    </tr>\n",
              "    <tr>\n",
              "      <th>2</th>\n",
              "      <td>1175712</td>\n",
              "      <td>5305030</td>\n",
              "      <td>1</td>\n",
              "      <td>sedan</td>\n",
              "      <td>auto</td>\n",
              "      <td>3</td>\n",
              "    </tr>\n",
              "    <tr>\n",
              "      <th>3</th>\n",
              "      <td>1175717</td>\n",
              "      <td>5305033</td>\n",
              "      <td>3</td>\n",
              "      <td>sedan</td>\n",
              "      <td>auto</td>\n",
              "      <td>5</td>\n",
              "    </tr>\n",
              "    <tr>\n",
              "      <th>4</th>\n",
              "      <td>1175722</td>\n",
              "      <td>5305034</td>\n",
              "      <td>2</td>\n",
              "      <td>sedan</td>\n",
              "      <td>auto</td>\n",
              "      <td>5</td>\n",
              "    </tr>\n",
              "  </tbody>\n",
              "</table>\n",
              "</div>"
            ],
            "text/plain": [
              "        id  case_id  party_number vehicle_type vehicle_transmission  \\\n",
              "0  1175713  5305032             2        sedan               manual   \n",
              "1        1  3858022             1        sedan                 auto   \n",
              "2  1175712  5305030             1        sedan                 auto   \n",
              "3  1175717  5305033             3        sedan                 auto   \n",
              "4  1175722  5305034             2        sedan                 auto   \n",
              "\n",
              "   vehicle_age  \n",
              "0            3  \n",
              "1            3  \n",
              "2            3  \n",
              "3            5  \n",
              "4            5  "
            ]
          },
          "execution_count": 11,
          "metadata": {},
          "output_type": "execute_result"
        }
      ],
      "source": [
        "# Информация о пострадавших машинах\n",
        "table_vehicles = table_out('vehicles')\n",
        "table_vehicles"
      ]
    },
    {
      "cell_type": "markdown",
      "id": "5fd04287",
      "metadata": {
        "id": "5fd04287"
      },
      "source": [
        "Описание таблицы __vehicles:__   \n",
        "Имеет неуникальные case_id и неуникальные party_number, которые сопоставляются с таблицей collisions и таблицей parties. Если нужен уникальный идентификатор, это case_id and party_number."
      ]
    },
    {
      "cell_type": "markdown",
      "id": "1bc257f0",
      "metadata": {
        "id": "1bc257f0"
      },
      "source": [
        "__Вывод:__\n",
        "1) Количество таблиц соответствует условию задачи;    \n",
        "2) Все таблицы имеют общий ключ для связи."
      ]
    },
    {
      "cell_type": "markdown",
      "id": "ba980286",
      "metadata": {
        "id": "ba980286"
      },
      "source": [
        "##  Проведите статистический анализ факторов ДТП"
      ]
    },
    {
      "cell_type": "markdown",
      "id": "54762be1",
      "metadata": {
        "id": "54762be1"
      },
      "source": [
        "Выясним, в какие __месяцы__ происходит __наибольшее__ количество аварий. Проанализируем весь период наблюдений (таблица collisions)."
      ]
    },
    {
      "cell_type": "code",
      "execution_count": null,
      "id": "f60e5b1a",
      "metadata": {
        "id": "f60e5b1a"
      },
      "outputs": [],
      "source": [
        "query = \"\"\"\n",
        "SELECT\n",
        "    EXTRACT(YEAR FROM collision_date) AS year,\n",
        "    EXTRACT(MONTH FROM collision_date) AS month,\n",
        "    COUNT(*) AS accident_count\n",
        "FROM\n",
        "    collisions\n",
        "GROUP BY\n",
        "    EXTRACT(YEAR FROM collision_date),\n",
        "    EXTRACT(MONTH FROM collision_date)\n",
        "HAVING\n",
        "    COUNT(*) > 0\n",
        "ORDER BY\n",
        "    year, month;\n",
        "\"\"\""
      ]
    },
    {
      "cell_type": "code",
      "execution_count": null,
      "id": "089987ea",
      "metadata": {
        "id": "089987ea"
      },
      "outputs": [],
      "source": [
        "accident_df = pd.read_sql_query(query, con = engine)"
      ]
    },
    {
      "cell_type": "code",
      "execution_count": null,
      "id": "7bcc8838",
      "metadata": {
        "id": "7bcc8838",
        "outputId": "f59e00ff-d108-423b-cfea-d517f962ed92"
      },
      "outputs": [
        {
          "data": {
            "text/html": [
              "<div>\n",
              "<style scoped>\n",
              "    .dataframe tbody tr th:only-of-type {\n",
              "        vertical-align: middle;\n",
              "    }\n",
              "\n",
              "    .dataframe tbody tr th {\n",
              "        vertical-align: top;\n",
              "    }\n",
              "\n",
              "    .dataframe thead th {\n",
              "        text-align: right;\n",
              "    }\n",
              "</style>\n",
              "<table border=\"1\" class=\"dataframe\">\n",
              "  <thead>\n",
              "    <tr style=\"text-align: right;\">\n",
              "      <th></th>\n",
              "      <th>year</th>\n",
              "      <th>month</th>\n",
              "      <th>accident_count</th>\n",
              "    </tr>\n",
              "  </thead>\n",
              "  <tbody>\n",
              "    <tr>\n",
              "      <th>0</th>\n",
              "      <td>2009.0</td>\n",
              "      <td>1.0</td>\n",
              "      <td>35062</td>\n",
              "    </tr>\n",
              "    <tr>\n",
              "      <th>1</th>\n",
              "      <td>2009.0</td>\n",
              "      <td>2.0</td>\n",
              "      <td>34480</td>\n",
              "    </tr>\n",
              "    <tr>\n",
              "      <th>2</th>\n",
              "      <td>2009.0</td>\n",
              "      <td>3.0</td>\n",
              "      <td>36648</td>\n",
              "    </tr>\n",
              "    <tr>\n",
              "      <th>3</th>\n",
              "      <td>2009.0</td>\n",
              "      <td>4.0</td>\n",
              "      <td>35239</td>\n",
              "    </tr>\n",
              "    <tr>\n",
              "      <th>4</th>\n",
              "      <td>2009.0</td>\n",
              "      <td>5.0</td>\n",
              "      <td>36916</td>\n",
              "    </tr>\n",
              "    <tr>\n",
              "      <th>5</th>\n",
              "      <td>2009.0</td>\n",
              "      <td>6.0</td>\n",
              "      <td>34202</td>\n",
              "    </tr>\n",
              "    <tr>\n",
              "      <th>6</th>\n",
              "      <td>2009.0</td>\n",
              "      <td>7.0</td>\n",
              "      <td>35161</td>\n",
              "    </tr>\n",
              "    <tr>\n",
              "      <th>7</th>\n",
              "      <td>2009.0</td>\n",
              "      <td>8.0</td>\n",
              "      <td>34508</td>\n",
              "    </tr>\n",
              "    <tr>\n",
              "      <th>8</th>\n",
              "      <td>2009.0</td>\n",
              "      <td>9.0</td>\n",
              "      <td>35555</td>\n",
              "    </tr>\n",
              "    <tr>\n",
              "      <th>9</th>\n",
              "      <td>2009.0</td>\n",
              "      <td>10.0</td>\n",
              "      <td>37835</td>\n",
              "    </tr>\n",
              "    <tr>\n",
              "      <th>10</th>\n",
              "      <td>2009.0</td>\n",
              "      <td>11.0</td>\n",
              "      <td>34562</td>\n",
              "    </tr>\n",
              "    <tr>\n",
              "      <th>11</th>\n",
              "      <td>2009.0</td>\n",
              "      <td>12.0</td>\n",
              "      <td>36060</td>\n",
              "    </tr>\n",
              "    <tr>\n",
              "      <th>12</th>\n",
              "      <td>2010.0</td>\n",
              "      <td>1.0</td>\n",
              "      <td>32892</td>\n",
              "    </tr>\n",
              "    <tr>\n",
              "      <th>13</th>\n",
              "      <td>2010.0</td>\n",
              "      <td>2.0</td>\n",
              "      <td>31918</td>\n",
              "    </tr>\n",
              "    <tr>\n",
              "      <th>14</th>\n",
              "      <td>2010.0</td>\n",
              "      <td>3.0</td>\n",
              "      <td>35803</td>\n",
              "    </tr>\n",
              "    <tr>\n",
              "      <th>15</th>\n",
              "      <td>2010.0</td>\n",
              "      <td>4.0</td>\n",
              "      <td>34416</td>\n",
              "    </tr>\n",
              "    <tr>\n",
              "      <th>16</th>\n",
              "      <td>2010.0</td>\n",
              "      <td>5.0</td>\n",
              "      <td>34862</td>\n",
              "    </tr>\n",
              "    <tr>\n",
              "      <th>17</th>\n",
              "      <td>2010.0</td>\n",
              "      <td>6.0</td>\n",
              "      <td>33367</td>\n",
              "    </tr>\n",
              "    <tr>\n",
              "      <th>18</th>\n",
              "      <td>2010.0</td>\n",
              "      <td>7.0</td>\n",
              "      <td>33645</td>\n",
              "    </tr>\n",
              "    <tr>\n",
              "      <th>19</th>\n",
              "      <td>2010.0</td>\n",
              "      <td>8.0</td>\n",
              "      <td>34620</td>\n",
              "    </tr>\n",
              "    <tr>\n",
              "      <th>20</th>\n",
              "      <td>2010.0</td>\n",
              "      <td>9.0</td>\n",
              "      <td>34957</td>\n",
              "    </tr>\n",
              "    <tr>\n",
              "      <th>21</th>\n",
              "      <td>2010.0</td>\n",
              "      <td>10.0</td>\n",
              "      <td>37480</td>\n",
              "    </tr>\n",
              "    <tr>\n",
              "      <th>22</th>\n",
              "      <td>2010.0</td>\n",
              "      <td>11.0</td>\n",
              "      <td>35460</td>\n",
              "    </tr>\n",
              "    <tr>\n",
              "      <th>23</th>\n",
              "      <td>2010.0</td>\n",
              "      <td>12.0</td>\n",
              "      <td>37070</td>\n",
              "    </tr>\n",
              "    <tr>\n",
              "      <th>24</th>\n",
              "      <td>2011.0</td>\n",
              "      <td>1.0</td>\n",
              "      <td>31926</td>\n",
              "    </tr>\n",
              "    <tr>\n",
              "      <th>25</th>\n",
              "      <td>2011.0</td>\n",
              "      <td>2.0</td>\n",
              "      <td>31975</td>\n",
              "    </tr>\n",
              "    <tr>\n",
              "      <th>26</th>\n",
              "      <td>2011.0</td>\n",
              "      <td>3.0</td>\n",
              "      <td>34585</td>\n",
              "    </tr>\n",
              "    <tr>\n",
              "      <th>27</th>\n",
              "      <td>2011.0</td>\n",
              "      <td>4.0</td>\n",
              "      <td>31377</td>\n",
              "    </tr>\n",
              "    <tr>\n",
              "      <th>28</th>\n",
              "      <td>2011.0</td>\n",
              "      <td>5.0</td>\n",
              "      <td>33370</td>\n",
              "    </tr>\n",
              "    <tr>\n",
              "      <th>29</th>\n",
              "      <td>2011.0</td>\n",
              "      <td>6.0</td>\n",
              "      <td>31962</td>\n",
              "    </tr>\n",
              "    <tr>\n",
              "      <th>30</th>\n",
              "      <td>2011.0</td>\n",
              "      <td>7.0</td>\n",
              "      <td>33029</td>\n",
              "    </tr>\n",
              "    <tr>\n",
              "      <th>31</th>\n",
              "      <td>2011.0</td>\n",
              "      <td>8.0</td>\n",
              "      <td>34339</td>\n",
              "    </tr>\n",
              "    <tr>\n",
              "      <th>32</th>\n",
              "      <td>2011.0</td>\n",
              "      <td>9.0</td>\n",
              "      <td>34137</td>\n",
              "    </tr>\n",
              "    <tr>\n",
              "      <th>33</th>\n",
              "      <td>2011.0</td>\n",
              "      <td>10.0</td>\n",
              "      <td>36618</td>\n",
              "    </tr>\n",
              "    <tr>\n",
              "      <th>34</th>\n",
              "      <td>2011.0</td>\n",
              "      <td>11.0</td>\n",
              "      <td>34495</td>\n",
              "    </tr>\n",
              "    <tr>\n",
              "      <th>35</th>\n",
              "      <td>2011.0</td>\n",
              "      <td>12.0</td>\n",
              "      <td>34615</td>\n",
              "    </tr>\n",
              "    <tr>\n",
              "      <th>36</th>\n",
              "      <td>2012.0</td>\n",
              "      <td>1.0</td>\n",
              "      <td>32020</td>\n",
              "    </tr>\n",
              "    <tr>\n",
              "      <th>37</th>\n",
              "      <td>2012.0</td>\n",
              "      <td>2.0</td>\n",
              "      <td>30377</td>\n",
              "    </tr>\n",
              "    <tr>\n",
              "      <th>38</th>\n",
              "      <td>2012.0</td>\n",
              "      <td>3.0</td>\n",
              "      <td>32498</td>\n",
              "    </tr>\n",
              "    <tr>\n",
              "      <th>39</th>\n",
              "      <td>2012.0</td>\n",
              "      <td>4.0</td>\n",
              "      <td>29143</td>\n",
              "    </tr>\n",
              "    <tr>\n",
              "      <th>40</th>\n",
              "      <td>2012.0</td>\n",
              "      <td>5.0</td>\n",
              "      <td>25168</td>\n",
              "    </tr>\n",
              "    <tr>\n",
              "      <th>41</th>\n",
              "      <td>2012.0</td>\n",
              "      <td>6.0</td>\n",
              "      <td>3062</td>\n",
              "    </tr>\n",
              "    <tr>\n",
              "      <th>42</th>\n",
              "      <td>2012.0</td>\n",
              "      <td>7.0</td>\n",
              "      <td>390</td>\n",
              "    </tr>\n",
              "    <tr>\n",
              "      <th>43</th>\n",
              "      <td>2012.0</td>\n",
              "      <td>8.0</td>\n",
              "      <td>622</td>\n",
              "    </tr>\n",
              "    <tr>\n",
              "      <th>44</th>\n",
              "      <td>2012.0</td>\n",
              "      <td>9.0</td>\n",
              "      <td>510</td>\n",
              "    </tr>\n",
              "    <tr>\n",
              "      <th>45</th>\n",
              "      <td>2012.0</td>\n",
              "      <td>10.0</td>\n",
              "      <td>304</td>\n",
              "    </tr>\n",
              "    <tr>\n",
              "      <th>46</th>\n",
              "      <td>2012.0</td>\n",
              "      <td>11.0</td>\n",
              "      <td>253</td>\n",
              "    </tr>\n",
              "    <tr>\n",
              "      <th>47</th>\n",
              "      <td>2012.0</td>\n",
              "      <td>12.0</td>\n",
              "      <td>200</td>\n",
              "    </tr>\n",
              "    <tr>\n",
              "      <th>48</th>\n",
              "      <td>2013.0</td>\n",
              "      <td>1.0</td>\n",
              "      <td>144</td>\n",
              "    </tr>\n",
              "    <tr>\n",
              "      <th>49</th>\n",
              "      <td>2013.0</td>\n",
              "      <td>2.0</td>\n",
              "      <td>108</td>\n",
              "    </tr>\n",
              "    <tr>\n",
              "      <th>50</th>\n",
              "      <td>2013.0</td>\n",
              "      <td>3.0</td>\n",
              "      <td>46</td>\n",
              "    </tr>\n",
              "    <tr>\n",
              "      <th>51</th>\n",
              "      <td>2013.0</td>\n",
              "      <td>4.0</td>\n",
              "      <td>5</td>\n",
              "    </tr>\n",
              "    <tr>\n",
              "      <th>52</th>\n",
              "      <td>2013.0</td>\n",
              "      <td>6.0</td>\n",
              "      <td>1</td>\n",
              "    </tr>\n",
              "    <tr>\n",
              "      <th>53</th>\n",
              "      <td>2013.0</td>\n",
              "      <td>7.0</td>\n",
              "      <td>1</td>\n",
              "    </tr>\n",
              "    <tr>\n",
              "      <th>54</th>\n",
              "      <td>2020.0</td>\n",
              "      <td>3.0</td>\n",
              "      <td>1</td>\n",
              "    </tr>\n",
              "    <tr>\n",
              "      <th>55</th>\n",
              "      <td>2020.0</td>\n",
              "      <td>7.0</td>\n",
              "      <td>1</td>\n",
              "    </tr>\n",
              "  </tbody>\n",
              "</table>\n",
              "</div>"
            ],
            "text/plain": [
              "      year  month  accident_count\n",
              "0   2009.0    1.0           35062\n",
              "1   2009.0    2.0           34480\n",
              "2   2009.0    3.0           36648\n",
              "3   2009.0    4.0           35239\n",
              "4   2009.0    5.0           36916\n",
              "5   2009.0    6.0           34202\n",
              "6   2009.0    7.0           35161\n",
              "7   2009.0    8.0           34508\n",
              "8   2009.0    9.0           35555\n",
              "9   2009.0   10.0           37835\n",
              "10  2009.0   11.0           34562\n",
              "11  2009.0   12.0           36060\n",
              "12  2010.0    1.0           32892\n",
              "13  2010.0    2.0           31918\n",
              "14  2010.0    3.0           35803\n",
              "15  2010.0    4.0           34416\n",
              "16  2010.0    5.0           34862\n",
              "17  2010.0    6.0           33367\n",
              "18  2010.0    7.0           33645\n",
              "19  2010.0    8.0           34620\n",
              "20  2010.0    9.0           34957\n",
              "21  2010.0   10.0           37480\n",
              "22  2010.0   11.0           35460\n",
              "23  2010.0   12.0           37070\n",
              "24  2011.0    1.0           31926\n",
              "25  2011.0    2.0           31975\n",
              "26  2011.0    3.0           34585\n",
              "27  2011.0    4.0           31377\n",
              "28  2011.0    5.0           33370\n",
              "29  2011.0    6.0           31962\n",
              "30  2011.0    7.0           33029\n",
              "31  2011.0    8.0           34339\n",
              "32  2011.0    9.0           34137\n",
              "33  2011.0   10.0           36618\n",
              "34  2011.0   11.0           34495\n",
              "35  2011.0   12.0           34615\n",
              "36  2012.0    1.0           32020\n",
              "37  2012.0    2.0           30377\n",
              "38  2012.0    3.0           32498\n",
              "39  2012.0    4.0           29143\n",
              "40  2012.0    5.0           25168\n",
              "41  2012.0    6.0            3062\n",
              "42  2012.0    7.0             390\n",
              "43  2012.0    8.0             622\n",
              "44  2012.0    9.0             510\n",
              "45  2012.0   10.0             304\n",
              "46  2012.0   11.0             253\n",
              "47  2012.0   12.0             200\n",
              "48  2013.0    1.0             144\n",
              "49  2013.0    2.0             108\n",
              "50  2013.0    3.0              46\n",
              "51  2013.0    4.0               5\n",
              "52  2013.0    6.0               1\n",
              "53  2013.0    7.0               1\n",
              "54  2020.0    3.0               1\n",
              "55  2020.0    7.0               1"
            ]
          },
          "execution_count": 14,
          "metadata": {},
          "output_type": "execute_result"
        }
      ],
      "source": [
        "accident_df"
      ]
    },
    {
      "cell_type": "markdown",
      "id": "d6a45785",
      "metadata": {
        "id": "d6a45785"
      },
      "source": [
        "Заметим, что 2012, 2013 и 2020 года являются неполными в сравнении с другими. Они могут сказаться не очень на обучении модели, но по условию заказчика, мы должны их оставить"
      ]
    },
    {
      "cell_type": "code",
      "execution_count": null,
      "id": "6a3e05c8",
      "metadata": {
        "id": "6a3e05c8"
      },
      "outputs": [],
      "source": [
        "filtered_df = accident_df[accident_df['year'] < 2012]"
      ]
    },
    {
      "cell_type": "code",
      "execution_count": null,
      "id": "1ee86c95",
      "metadata": {
        "scrolled": false,
        "id": "1ee86c95",
        "outputId": "9f47eada-115a-4521-fdca-664838008aec"
      },
      "outputs": [
        {
          "data": {
            "image/png": "[encoded data removed]",
            "text/plain": [
              "<Figure size 864x432 with 1 Axes>"
            ]
          },
          "metadata": {
            "needs_background": "light"
          },
          "output_type": "display_data"
        }
      ],
      "source": [
        "plt.figure(figsize=(12, 6))\n",
        "plt.bar(filtered_df['month'], filtered_df['accident_count'], color='blue')\n",
        "plt.xlabel('Месяц')\n",
        "plt.ylabel('Количество аварий')\n",
        "plt.title('Количество аварий по месяцам')\n",
        "plt.xticks(filtered_df['month'])\n",
        "plt.show()"
      ]
    },
    {
      "cell_type": "markdown",
      "id": "6f49deae",
      "metadata": {
        "id": "6f49deae"
      },
      "source": [
        "__Вывод:__    \n",
        "Наибольшее число аварий происходит в 3, 5 и 10 месяцы."
      ]
    },
    {
      "cell_type": "markdown",
      "id": "2799cb7d",
      "metadata": {
        "id": "2799cb7d"
      },
      "source": [
        "### Задачи для коллег на совещание"
      ]
    },
    {
      "cell_type": "markdown",
      "id": "fa5fc6bf",
      "metadata": {
        "id": "fa5fc6bf"
      },
      "source": [
        "1. Определите самые частые причины для ДТП (таблица parties);\n",
        "2. Определите серьезность происшествий из-за погодных условий (таблица collisions);\n",
        "3. Определите зависимости между типом автомобиля и серьезностью аварии (связать таблицы vehicles и collisions);\n",
        "4. Определите самые частые категорий нарушений (таблица collsions);\n",
        "5. Проведите сравнение типов автомобилей по количеству аварий (таблица vehicles);\n",
        "6. Определите серьезность происшествий в зависимотси от трезвости участника (связать таблицы parties и collisions);\n",
        "7. Определите количество дтп в зависимотси от трезвости участника (связать таблицы parties и collisions)."
      ]
    },
    {
      "cell_type": "markdown",
      "id": "95a6a9b3",
      "metadata": {
        "id": "95a6a9b3"
      },
      "source": [
        "### Порядок решения задач"
      ]
    },
    {
      "cell_type": "markdown",
      "id": "188f6fd5",
      "metadata": {
        "id": "188f6fd5"
      },
      "source": [
        "#### Задача 1: Определите серьезность происшествий в зависимотси от трезвости участника (связать таблицы parties и collisions)"
      ]
    },
    {
      "cell_type": "markdown",
      "id": "342bb57d",
      "metadata": {
        "id": "342bb57d"
      },
      "source": [
        "1. Создайте sql-запрос"
      ]
    },
    {
      "cell_type": "code",
      "execution_count": null,
      "id": "65333669",
      "metadata": {
        "id": "65333669"
      },
      "outputs": [],
      "source": [
        "query = '''\n",
        "SELECT p.party_sobriety,\n",
        "       c.collision_damage,\n",
        "       COUNT(*)\n",
        "FROM parties p\n",
        "JOIN collisions c\n",
        "    ON p.case_id = c.case_id\n",
        "GROUP BY\n",
        "    c.collision_damage, p.party_sobriety;\n",
        "\n",
        "'''"
      ]
    },
    {
      "cell_type": "code",
      "execution_count": null,
      "id": "7c7fde87",
      "metadata": {
        "id": "7c7fde87"
      },
      "outputs": [],
      "source": [
        "party_sobriety_depend = pd.read_sql_query(query, con = engine)"
      ]
    },
    {
      "cell_type": "markdown",
      "id": "b3417d67",
      "metadata": {
        "id": "b3417d67"
      },
      "source": [
        "2. Постройте график (если возможно)"
      ]
    },
    {
      "cell_type": "code",
      "execution_count": null,
      "id": "42216683",
      "metadata": {
        "scrolled": false,
        "id": "42216683",
        "outputId": "8e9c8fa4-3ff2-457d-d2d1-891f8d380e5d"
      },
      "outputs": [
        {
          "data": {
            "image/png": "[encoded data removed]",
            "text/plain": [
              "<Figure size 864x432 with 1 Axes>"
            ]
          },
          "metadata": {
            "needs_background": "light"
          },
          "output_type": "display_data"
        }
      ],
      "source": [
        "# Построение графика\n",
        "plt.figure(figsize=(12, 6))\n",
        "sns.barplot(x='party_sobriety', y='count', hue = 'collision_damage', data=party_sobriety_depend)\n",
        "plt.title('Серьезность и количество ДТП по состоянию алкогольного опьянения')\n",
        "plt.xlabel('Состояние алкогольного опьянения')\n",
        "plt.ylabel('Количество случаев')\n",
        "plt.xticks(rotation=45, ha='right')\n",
        "plt.show()"
      ]
    },
    {
      "cell_type": "markdown",
      "id": "13eefb13",
      "metadata": {
        "id": "13eefb13"
      },
      "source": [
        "3. Сделайте вывод"
      ]
    },
    {
      "cell_type": "markdown",
      "id": "e97a5749",
      "metadata": {
        "id": "e97a5749"
      },
      "source": [
        "__Вывод:__\n",
        "Из графика видно, что большинство ДТП происходит с водителями, которые не употребляли алкоголь. Однако, важно отметить, что ДТП с участием водителей, находящихся под влиянием алкоголя, также имеют место. Это подчеркивает важность учета уровня трезвости водителя для предотвращения ДТП."
      ]
    },
    {
      "cell_type": "markdown",
      "id": "4d31aeb1",
      "metadata": {
        "id": "4d31aeb1"
      },
      "source": [
        "#### Задача 2: Определите зависимости между типом автомобиля и серьезностью аварии (связать таблицы vehicles и collisions)"
      ]
    },
    {
      "cell_type": "markdown",
      "id": "5199432f",
      "metadata": {
        "id": "5199432f"
      },
      "source": [
        "1. Создайте sql-запрос"
      ]
    },
    {
      "cell_type": "code",
      "execution_count": null,
      "id": "57410d2d",
      "metadata": {
        "id": "57410d2d"
      },
      "outputs": [],
      "source": [
        "query = '''\n",
        "SELECT v.vehicle_type,\n",
        "       c.collision_damage,\n",
        "       COUNT(*)\n",
        "FROM vehicles v\n",
        "JOIN collisions c\n",
        "    ON v.case_id = c.case_id\n",
        "GROUP BY\n",
        "    c.collision_damage, v.vehicle_type;\n",
        "\n",
        "'''"
      ]
    },
    {
      "cell_type": "code",
      "execution_count": null,
      "id": "bd19ef66",
      "metadata": {
        "id": "bd19ef66"
      },
      "outputs": [],
      "source": [
        "type_car_depend = pd.read_sql_query(query, con = engine)"
      ]
    },
    {
      "cell_type": "markdown",
      "id": "22048b74",
      "metadata": {
        "id": "22048b74"
      },
      "source": [
        "2. Постройте график (если возможно)"
      ]
    },
    {
      "cell_type": "code",
      "execution_count": null,
      "id": "b968ecdb",
      "metadata": {
        "id": "b968ecdb",
        "outputId": "fbeb770b-74e3-435e-a616-69e12a23fd94"
      },
      "outputs": [
        {
          "data": {
            "image/png": "[encoded data removed]",
            "text/plain": [
              "<Figure size 864x432 with 1 Axes>"
            ]
          },
          "metadata": {
            "needs_background": "light"
          },
          "output_type": "display_data"
        }
      ],
      "source": [
        "# Построение графика\n",
        "plt.figure(figsize=(12, 6))\n",
        "sns.barplot(x='vehicle_type', y='count', hue = 'collision_damage', data=type_car_depend)\n",
        "plt.title('Зависимость между типом автомобиля и серьезностью аварии')\n",
        "plt.xlabel('Тип автомобиля')\n",
        "plt.ylabel('Количество случаев')\n",
        "plt.xticks(rotation=45, ha='right')\n",
        "plt.show()"
      ]
    },
    {
      "cell_type": "markdown",
      "id": "9c767783",
      "metadata": {
        "id": "9c767783"
      },
      "source": [
        "3. Сделайте вывод"
      ]
    },
    {
      "cell_type": "markdown",
      "id": "76a035b6",
      "metadata": {
        "id": "76a035b6"
      },
      "source": [
        "__Вывод:__По графику видим, что наибольшее число ДТП происходит на авто типа седан. Эти ДТП характеризуются как небольшие"
      ]
    },
    {
      "cell_type": "markdown",
      "id": "cb0f6649",
      "metadata": {
        "id": "cb0f6649"
      },
      "source": [
        "## Создайте модель для оценки водительского риска"
      ]
    },
    {
      "cell_type": "markdown",
      "id": "d1080c87",
      "metadata": {
        "id": "d1080c87"
      },
      "source": [
        "Отберем факторы, которые необходимы для модели и подготовим набор данных"
      ]
    },
    {
      "cell_type": "markdown",
      "id": "ff494a29",
      "metadata": {
        "id": "ff494a29"
      },
      "source": [
        "Факторы:   \n",
        "1) __party_sobriety:__ Уровень трезвости участника. Этот фактор прямо влияет на способность водителя управлять автомобилем и является критически важным для оценки риска;     \n",
        "2) __at_fault:__ Указывает на виновность участника (виновен или нет). Это поможет определить, насколько часто водители, признанные виновными, участвуют в серьезных ДТП;     \n",
        "3) __vehicle_type:__ Тип кузова автомобиля. Разные кузова имеют свои скоростные характеристики, свой уровень безопасноти и маневренности;   \n",
        "4) __vehicle_transmission:__ Тип коробки передач (автоматическая или ручная). Это может влиять на управление автомобилем в экстренных ситуациях;  \n",
        "5) __vehicle_age:__ Возраст автомобиля. Более старые автомобили могут быть менее безопасными из-за устаревших технологий и износа;     \n",
        "6) __collision_date:__ Дата происшествия. Важно учитывать временные аспекты, такие как сезонные изменения или время суток;                 \n",
        "7) __weather_1:__ Погодные условия во время происшествия. Плохая погода может значительно увеличить риск аварийности;  \n",
        "8) __road_surface:__ Состояние дорожного покрытия в момент ДТП. Это также влияет на безопасность вождения и вероятность аварии;    \n",
        "9) __lighting:__ Условия освещения во время происшествия (дневное время, темнота и т.д.). Это может влиять на видимость и, соответственно, на вероятность ДТП;  \n",
        "10) __road_condition_1:__ Состояние дороги (Ямы, глубокая колея, cыпучий материал на проезжей части и тд);   \n",
        "11) __insurance_premium:__ Сумма страховки (тыс. долларов);   \n",
        "12) __intersection:__ Является ли место происшествие перекрёстком;   \n",
        "13) __cellphone_in_use:__ Наличие телефона в автомобиле (возможности разговаривать по громкой связи);   \n",
        "14) __county_city_location:__ Номер географических районов, где произошло ДТП;  \n",
        "15) __county_location:__ Названия географических районов, где произошло ДТП;   \n",
        "16) __direction:__ Направление движения;  \n",
        "17) __distance:__ Расстояние от главной дороги (метры);  "
      ]
    },
    {
      "cell_type": "markdown",
      "id": "5c16552b",
      "metadata": {
        "id": "5c16552b"
      },
      "source": [
        "целевое значение — at_fault (виновник) в таблице parties"
      ]
    },
    {
      "cell_type": "markdown",
      "id": "7f485f4f",
      "metadata": {
        "id": "7f485f4f"
      },
      "source": [
        "Набор данных"
      ]
    },
    {
      "cell_type": "code",
      "execution_count": null,
      "id": "6e165616",
      "metadata": {
        "id": "6e165616"
      },
      "outputs": [],
      "source": [
        "query = '''\n",
        "SELECT\n",
        "    p.party_sobriety,\n",
        "    p.at_fault,\n",
        "    p.insurance_premium,\n",
        "    p.cellphone_in_use,\n",
        "    v.vehicle_type,\n",
        "    v.vehicle_transmission,\n",
        "    v.vehicle_age,\n",
        "    c.collision_date,\n",
        "    c.weather_1,\n",
        "    c.road_surface,\n",
        "    c.lighting,\n",
        "    c.road_condition_1,\n",
        "    c.intersection,\n",
        "    c.county_city_location,\n",
        "    c.county_location,\n",
        "    c.direction,\n",
        "    c.distance\n",
        "\n",
        "FROM parties AS p\n",
        "JOIN vehicles AS v\n",
        "    ON p.case_id = v.case_id AND p.party_number = v.party_number\n",
        "JOIN collisions c\n",
        "    ON p.case_id = c.case_id\n",
        "WHERE\n",
        "    p.party_type = 'car'  -- Только автомобили\n",
        "    AND c.collision_damage <> 'scratch'  -- Исключаем царапины\n",
        "    AND EXTRACT(YEAR FROM c.collision_date) = 2012;  -- Данные только за 2012 год\n",
        "'''"
      ]
    },
    {
      "cell_type": "code",
      "execution_count": null,
      "id": "1f256873",
      "metadata": {
        "id": "1f256873"
      },
      "outputs": [],
      "source": [
        "factors = pd.read_sql_query(query, con = engine)"
      ]
    },
    {
      "cell_type": "code",
      "execution_count": null,
      "id": "3b2bc51e",
      "metadata": {
        "id": "3b2bc51e",
        "outputId": "2afdc062-d54b-4597-f2a8-09895ecc3b1e"
      },
      "outputs": [
        {
          "data": {
            "text/html": [
              "<div>\n",
              "<style scoped>\n",
              "    .dataframe tbody tr th:only-of-type {\n",
              "        vertical-align: middle;\n",
              "    }\n",
              "\n",
              "    .dataframe tbody tr th {\n",
              "        vertical-align: top;\n",
              "    }\n",
              "\n",
              "    .dataframe thead th {\n",
              "        text-align: right;\n",
              "    }\n",
              "</style>\n",
              "<table border=\"1\" class=\"dataframe\">\n",
              "  <thead>\n",
              "    <tr style=\"text-align: right;\">\n",
              "      <th></th>\n",
              "      <th>party_sobriety</th>\n",
              "      <th>at_fault</th>\n",
              "      <th>insurance_premium</th>\n",
              "      <th>cellphone_in_use</th>\n",
              "      <th>vehicle_type</th>\n",
              "      <th>vehicle_transmission</th>\n",
              "      <th>vehicle_age</th>\n",
              "      <th>collision_date</th>\n",
              "      <th>weather_1</th>\n",
              "      <th>road_surface</th>\n",
              "      <th>lighting</th>\n",
              "      <th>road_condition_1</th>\n",
              "      <th>intersection</th>\n",
              "      <th>county_city_location</th>\n",
              "      <th>county_location</th>\n",
              "      <th>direction</th>\n",
              "      <th>distance</th>\n",
              "    </tr>\n",
              "  </thead>\n",
              "  <tbody>\n",
              "    <tr>\n",
              "      <th>0</th>\n",
              "      <td>impairment unknown</td>\n",
              "      <td>1</td>\n",
              "      <td>37.60717</td>\n",
              "      <td>0.0</td>\n",
              "      <td>sedan</td>\n",
              "      <td>manual</td>\n",
              "      <td>3.0</td>\n",
              "      <td>2012-01-20</td>\n",
              "      <td>clear</td>\n",
              "      <td>dry</td>\n",
              "      <td>dark with street lights</td>\n",
              "      <td>normal</td>\n",
              "      <td>0.0</td>\n",
              "      <td>3711</td>\n",
              "      <td>san diego</td>\n",
              "      <td>south</td>\n",
              "      <td>1500.0</td>\n",
              "    </tr>\n",
              "    <tr>\n",
              "      <th>1</th>\n",
              "      <td>had not been drinking</td>\n",
              "      <td>0</td>\n",
              "      <td>46.00000</td>\n",
              "      <td>0.0</td>\n",
              "      <td>sedan</td>\n",
              "      <td>auto</td>\n",
              "      <td>2.0</td>\n",
              "      <td>2012-04-15</td>\n",
              "      <td>clear</td>\n",
              "      <td>dry</td>\n",
              "      <td>daylight</td>\n",
              "      <td>normal</td>\n",
              "      <td>0.0</td>\n",
              "      <td>1942</td>\n",
              "      <td>los angeles</td>\n",
              "      <td>south</td>\n",
              "      <td>20.0</td>\n",
              "    </tr>\n",
              "    <tr>\n",
              "      <th>2</th>\n",
              "      <td>had been drinking, under influence</td>\n",
              "      <td>1</td>\n",
              "      <td>38.00000</td>\n",
              "      <td>0.0</td>\n",
              "      <td>sedan</td>\n",
              "      <td>auto</td>\n",
              "      <td>5.0</td>\n",
              "      <td>2012-05-01</td>\n",
              "      <td>clear</td>\n",
              "      <td>dry</td>\n",
              "      <td>dark with no street lights</td>\n",
              "      <td>other</td>\n",
              "      <td>0.0</td>\n",
              "      <td>4100</td>\n",
              "      <td>san mateo</td>\n",
              "      <td>east</td>\n",
              "      <td>40.0</td>\n",
              "    </tr>\n",
              "    <tr>\n",
              "      <th>3</th>\n",
              "      <td>had not been drinking</td>\n",
              "      <td>0</td>\n",
              "      <td>67.00000</td>\n",
              "      <td>0.0</td>\n",
              "      <td>sedan</td>\n",
              "      <td>auto</td>\n",
              "      <td>10.0</td>\n",
              "      <td>2012-04-19</td>\n",
              "      <td>clear</td>\n",
              "      <td>dry</td>\n",
              "      <td>daylight</td>\n",
              "      <td>normal</td>\n",
              "      <td>1.0</td>\n",
              "      <td>2002</td>\n",
              "      <td>madera</td>\n",
              "      <td>north</td>\n",
              "      <td>0.0</td>\n",
              "    </tr>\n",
              "    <tr>\n",
              "      <th>4</th>\n",
              "      <td>had not been drinking</td>\n",
              "      <td>0</td>\n",
              "      <td>41.00000</td>\n",
              "      <td>0.0</td>\n",
              "      <td>sedan</td>\n",
              "      <td>auto</td>\n",
              "      <td>5.0</td>\n",
              "      <td>2012-03-16</td>\n",
              "      <td>cloudy</td>\n",
              "      <td>dry</td>\n",
              "      <td>dusk or dawn</td>\n",
              "      <td>normal</td>\n",
              "      <td>0.0</td>\n",
              "      <td>0109</td>\n",
              "      <td>alameda</td>\n",
              "      <td>west</td>\n",
              "      <td>500.0</td>\n",
              "    </tr>\n",
              "  </tbody>\n",
              "</table>\n",
              "</div>"
            ],
            "text/plain": [
              "                       party_sobriety at_fault  insurance_premium  \\\n",
              "0                  impairment unknown        1           37.60717   \n",
              "1               had not been drinking        0           46.00000   \n",
              "2  had been drinking, under influence        1           38.00000   \n",
              "3               had not been drinking        0           67.00000   \n",
              "4               had not been drinking        0           41.00000   \n",
              "\n",
              "  cellphone_in_use vehicle_type vehicle_transmission  vehicle_age  \\\n",
              "0              0.0        sedan               manual          3.0   \n",
              "1              0.0        sedan                 auto          2.0   \n",
              "2              0.0        sedan                 auto          5.0   \n",
              "3              0.0        sedan                 auto         10.0   \n",
              "4              0.0        sedan                 auto          5.0   \n",
              "\n",
              "  collision_date weather_1 road_surface                    lighting  \\\n",
              "0     2012-01-20     clear          dry     dark with street lights   \n",
              "1     2012-04-15     clear          dry                    daylight   \n",
              "2     2012-05-01     clear          dry  dark with no street lights   \n",
              "3     2012-04-19     clear          dry                    daylight   \n",
              "4     2012-03-16    cloudy          dry                dusk or dawn   \n",
              "\n",
              "  road_condition_1  intersection county_city_location county_location  \\\n",
              "0           normal           0.0                 3711       san diego   \n",
              "1           normal           0.0                 1942     los angeles   \n",
              "2            other           0.0                 4100       san mateo   \n",
              "3           normal           1.0                 2002          madera   \n",
              "4           normal           0.0                 0109         alameda   \n",
              "\n",
              "  direction  distance  \n",
              "0     south    1500.0  \n",
              "1     south      20.0  \n",
              "2      east      40.0  \n",
              "3     north       0.0  \n",
              "4      west     500.0  "
            ]
          },
          "execution_count": 58,
          "metadata": {},
          "output_type": "execute_result"
        }
      ],
      "source": [
        "factors.head()"
      ]
    },
    {
      "cell_type": "markdown",
      "id": "af6a8315",
      "metadata": {
        "id": "af6a8315"
      },
      "source": [
        "Проведем статистическое исследование отобранных факторов"
      ]
    },
    {
      "cell_type": "code",
      "execution_count": null,
      "id": "937587ea",
      "metadata": {
        "id": "937587ea",
        "outputId": "7b02404e-2586-4392-93a4-e5d9e93b9e53"
      },
      "outputs": [
        {
          "name": "stdout",
          "output_type": "stream",
          "text": [
            "Количество строк - 56248\n",
            "Количество столбцов - 17\n"
          ]
        }
      ],
      "source": [
        "print(f'Количество строк - {factors.shape[0]}\\nКоличество столбцов - {factors.shape[1]}')"
      ]
    },
    {
      "cell_type": "code",
      "execution_count": null,
      "id": "073bb948",
      "metadata": {
        "id": "073bb948",
        "outputId": "c7776ef1-4c5f-498a-9035-33cec7ce1e14"
      },
      "outputs": [
        {
          "name": "stdout",
          "output_type": "stream",
          "text": [
            "<class 'pandas.core.frame.DataFrame'>\n",
            "RangeIndex: 56248 entries, 0 to 56247\n",
            "Data columns (total 17 columns):\n",
            " #   Column                Non-Null Count  Dtype  \n",
            "---  ------                --------------  -----  \n",
            " 0   party_sobriety        55376 non-null  object \n",
            " 1   at_fault              56248 non-null  int64  \n",
            " 2   insurance_premium     55701 non-null  float64\n",
            " 3   cellphone_in_use      51777 non-null  float64\n",
            " 4   vehicle_type          56248 non-null  object \n",
            " 5   vehicle_transmission  55389 non-null  object \n",
            " 6   vehicle_age           54554 non-null  float64\n",
            " 7   collision_date        56248 non-null  object \n",
            " 8   weather_1             56080 non-null  object \n",
            " 9   road_surface          55900 non-null  object \n",
            " 10  lighting              56094 non-null  object \n",
            " 11  road_condition_1      55999 non-null  object \n",
            " 12  intersection          56073 non-null  float64\n",
            " 13  county_city_location  56248 non-null  object \n",
            " 14  county_location       56248 non-null  object \n",
            " 15  direction             43230 non-null  object \n",
            " 16  distance              56248 non-null  float64\n",
            "dtypes: float64(5), int64(1), object(11)\n",
            "memory usage: 7.3+ MB\n"
          ]
        }
      ],
      "source": [
        "factors.info()"
      ]
    },
    {
      "cell_type": "code",
      "execution_count": null,
      "id": "84f53b48",
      "metadata": {
        "scrolled": false,
        "id": "84f53b48",
        "outputId": "f4f53ff4-7960-4a26-9436-d00beb4e459d"
      },
      "outputs": [
        {
          "data": {
            "text/plain": [
              "party_sobriety            872\n",
              "at_fault                    0\n",
              "insurance_premium         547\n",
              "cellphone_in_use         4471\n",
              "vehicle_type                0\n",
              "vehicle_transmission      859\n",
              "vehicle_age              1694\n",
              "collision_date              0\n",
              "weather_1                 168\n",
              "road_surface              348\n",
              "lighting                  154\n",
              "road_condition_1          249\n",
              "intersection              175\n",
              "county_city_location        0\n",
              "county_location             0\n",
              "direction               13018\n",
              "distance                    0\n",
              "dtype: int64"
            ]
          },
          "execution_count": 48,
          "metadata": {},
          "output_type": "execute_result"
        }
      ],
      "source": [
        "factors.isna().sum()"
      ]
    },
    {
      "cell_type": "markdown",
      "id": "f12fa20f",
      "metadata": {
        "id": "f12fa20f"
      },
      "source": [
        "Видим, что в данных есть пропуски. Их небольшое количество, следовательно, имеем такие варианты решения:\n",
        "1) Заполнить категориальные - модой, а количественные - медианой;     \n",
        "2) Удалить пропущенные значения (сохраниться более 90% данных);  \n",
        "3) Заполнить пропуски словами 'Неизвестно'.  "
      ]
    },
    {
      "cell_type": "code",
      "execution_count": null,
      "id": "7d102a58",
      "metadata": {
        "id": "7d102a58"
      },
      "outputs": [],
      "source": [
        "# Удалим пропуски\n",
        "factros = factors.dropna(subset=['cellphone_in_use'])"
      ]
    },
    {
      "cell_type": "code",
      "execution_count": null,
      "id": "c2ae4501",
      "metadata": {
        "id": "c2ae4501"
      },
      "outputs": [],
      "source": [
        "factors['cellphone_in_use'] = factors['cellphone_in_use'].astype(str)\n",
        "factors['at_fault'] = factors['at_fault'].astype(str)\n",
        "\n",
        "# Преобразование в тип object\n",
        "factors['cellphone_in_use'] = factors['cellphone_in_use'].astype('object')\n",
        "factors['at_fault'] = factors['at_fault'].astype('object')\n",
        "\n",
        "#Преобразование в тип float64\n",
        "factors['county_city_location'] = factors['county_city_location'].astype('float64')"
      ]
    },
    {
      "cell_type": "code",
      "execution_count": null,
      "id": "5de4b359",
      "metadata": {
        "id": "5de4b359",
        "outputId": "a53409eb-1732-407b-b439-520552bd4e3f"
      },
      "outputs": [
        {
          "name": "stdout",
          "output_type": "stream",
          "text": [
            "party_sobriety          0\n",
            "at_fault                0\n",
            "insurance_premium       0\n",
            "cellphone_in_use        0\n",
            "vehicle_type            0\n",
            "vehicle_transmission    0\n",
            "vehicle_age             0\n",
            "collision_date          0\n",
            "weather_1               0\n",
            "road_surface            0\n",
            "lighting                0\n",
            "road_condition_1        0\n",
            "intersection            0\n",
            "county_city_location    0\n",
            "county_location         0\n",
            "direction               0\n",
            "distance                0\n",
            "dtype: int64\n"
          ]
        }
      ],
      "source": [
        "# Заполнение пропусков модой для категориальных признаков\n",
        "factors['party_sobriety'].fillna(factors['party_sobriety'].mode()[0], inplace=True)\n",
        "factors['vehicle_transmission'].fillna(factors['vehicle_transmission'].mode()[0], inplace=True)\n",
        "factors['weather_1'].fillna(factors['weather_1'].mode()[0], inplace=True)\n",
        "factors['road_surface'].fillna(factors['road_surface'].mode()[0], inplace=True)\n",
        "factors['lighting'].fillna(factors['lighting'].mode()[0], inplace=True)\n",
        "factors['road_condition_1'].fillna(factors['road_condition_1'].mode()[0], inplace=True)\n",
        "factors['direction'].fillna(factors['direction'].mode()[0], inplace=True)\n",
        "factors['intersection'].fillna(factors['intersection'].mode()[0], inplace=True)\n",
        "\n",
        "# Заполнение пропусков медианой и средним для числовых признаков\n",
        "factors['insurance_premium'].fillna(factors['insurance_premium'].mean(), inplace=True)\n",
        "factors['vehicle_age'].fillna(factors['vehicle_age'].median(), inplace=True)\n",
        "\n",
        "# Проверка наличия пропусков после заполнения\n",
        "print(factors.isna().sum())"
      ]
    },
    {
      "cell_type": "markdown",
      "id": "625c6835",
      "metadata": {
        "id": "625c6835"
      },
      "source": [
        "Пропуски устранены"
      ]
    },
    {
      "cell_type": "code",
      "execution_count": null,
      "id": "60402d19",
      "metadata": {
        "id": "60402d19",
        "outputId": "bb7cd6ff-1a90-4d31-a7b8-8a94f04d6ead"
      },
      "outputs": [
        {
          "data": {
            "text/html": [
              "<div>\n",
              "<style scoped>\n",
              "    .dataframe tbody tr th:only-of-type {\n",
              "        vertical-align: middle;\n",
              "    }\n",
              "\n",
              "    .dataframe tbody tr th {\n",
              "        vertical-align: top;\n",
              "    }\n",
              "\n",
              "    .dataframe thead th {\n",
              "        text-align: right;\n",
              "    }\n",
              "</style>\n",
              "<table border=\"1\" class=\"dataframe\">\n",
              "  <thead>\n",
              "    <tr style=\"text-align: right;\">\n",
              "      <th></th>\n",
              "      <th>party_sobriety</th>\n",
              "      <th>at_fault</th>\n",
              "      <th>insurance_premium</th>\n",
              "      <th>cellphone_in_use</th>\n",
              "      <th>vehicle_type</th>\n",
              "      <th>vehicle_transmission</th>\n",
              "      <th>vehicle_age</th>\n",
              "      <th>collision_date</th>\n",
              "      <th>weather_1</th>\n",
              "      <th>road_surface</th>\n",
              "      <th>lighting</th>\n",
              "      <th>road_condition_1</th>\n",
              "      <th>intersection</th>\n",
              "      <th>county_city_location</th>\n",
              "      <th>county_location</th>\n",
              "      <th>direction</th>\n",
              "      <th>distance</th>\n",
              "    </tr>\n",
              "  </thead>\n",
              "  <tbody>\n",
              "    <tr>\n",
              "      <th>0</th>\n",
              "      <td>impairment unknown</td>\n",
              "      <td>1</td>\n",
              "      <td>37.60717</td>\n",
              "      <td>0.0</td>\n",
              "      <td>sedan</td>\n",
              "      <td>manual</td>\n",
              "      <td>3.0</td>\n",
              "      <td>2012-01-20</td>\n",
              "      <td>clear</td>\n",
              "      <td>dry</td>\n",
              "      <td>dark with street lights</td>\n",
              "      <td>normal</td>\n",
              "      <td>0.0</td>\n",
              "      <td>3711.0</td>\n",
              "      <td>san diego</td>\n",
              "      <td>south</td>\n",
              "      <td>1500.0</td>\n",
              "    </tr>\n",
              "    <tr>\n",
              "      <th>1</th>\n",
              "      <td>had not been drinking</td>\n",
              "      <td>0</td>\n",
              "      <td>46.00000</td>\n",
              "      <td>0.0</td>\n",
              "      <td>sedan</td>\n",
              "      <td>auto</td>\n",
              "      <td>2.0</td>\n",
              "      <td>2012-04-15</td>\n",
              "      <td>clear</td>\n",
              "      <td>dry</td>\n",
              "      <td>daylight</td>\n",
              "      <td>normal</td>\n",
              "      <td>0.0</td>\n",
              "      <td>1942.0</td>\n",
              "      <td>los angeles</td>\n",
              "      <td>south</td>\n",
              "      <td>20.0</td>\n",
              "    </tr>\n",
              "    <tr>\n",
              "      <th>2</th>\n",
              "      <td>had been drinking, under influence</td>\n",
              "      <td>1</td>\n",
              "      <td>38.00000</td>\n",
              "      <td>0.0</td>\n",
              "      <td>sedan</td>\n",
              "      <td>auto</td>\n",
              "      <td>5.0</td>\n",
              "      <td>2012-05-01</td>\n",
              "      <td>clear</td>\n",
              "      <td>dry</td>\n",
              "      <td>dark with no street lights</td>\n",
              "      <td>other</td>\n",
              "      <td>0.0</td>\n",
              "      <td>4100.0</td>\n",
              "      <td>san mateo</td>\n",
              "      <td>east</td>\n",
              "      <td>40.0</td>\n",
              "    </tr>\n",
              "    <tr>\n",
              "      <th>3</th>\n",
              "      <td>had not been drinking</td>\n",
              "      <td>0</td>\n",
              "      <td>67.00000</td>\n",
              "      <td>0.0</td>\n",
              "      <td>sedan</td>\n",
              "      <td>auto</td>\n",
              "      <td>10.0</td>\n",
              "      <td>2012-04-19</td>\n",
              "      <td>clear</td>\n",
              "      <td>dry</td>\n",
              "      <td>daylight</td>\n",
              "      <td>normal</td>\n",
              "      <td>1.0</td>\n",
              "      <td>2002.0</td>\n",
              "      <td>madera</td>\n",
              "      <td>north</td>\n",
              "      <td>0.0</td>\n",
              "    </tr>\n",
              "    <tr>\n",
              "      <th>4</th>\n",
              "      <td>had not been drinking</td>\n",
              "      <td>0</td>\n",
              "      <td>41.00000</td>\n",
              "      <td>0.0</td>\n",
              "      <td>sedan</td>\n",
              "      <td>auto</td>\n",
              "      <td>5.0</td>\n",
              "      <td>2012-03-16</td>\n",
              "      <td>cloudy</td>\n",
              "      <td>dry</td>\n",
              "      <td>dusk or dawn</td>\n",
              "      <td>normal</td>\n",
              "      <td>0.0</td>\n",
              "      <td>109.0</td>\n",
              "      <td>alameda</td>\n",
              "      <td>west</td>\n",
              "      <td>500.0</td>\n",
              "    </tr>\n",
              "  </tbody>\n",
              "</table>\n",
              "</div>"
            ],
            "text/plain": [
              "                       party_sobriety at_fault  insurance_premium  \\\n",
              "0                  impairment unknown        1           37.60717   \n",
              "1               had not been drinking        0           46.00000   \n",
              "2  had been drinking, under influence        1           38.00000   \n",
              "3               had not been drinking        0           67.00000   \n",
              "4               had not been drinking        0           41.00000   \n",
              "\n",
              "  cellphone_in_use vehicle_type vehicle_transmission  vehicle_age  \\\n",
              "0              0.0        sedan               manual          3.0   \n",
              "1              0.0        sedan                 auto          2.0   \n",
              "2              0.0        sedan                 auto          5.0   \n",
              "3              0.0        sedan                 auto         10.0   \n",
              "4              0.0        sedan                 auto          5.0   \n",
              "\n",
              "  collision_date weather_1 road_surface                    lighting  \\\n",
              "0     2012-01-20     clear          dry     dark with street lights   \n",
              "1     2012-04-15     clear          dry                    daylight   \n",
              "2     2012-05-01     clear          dry  dark with no street lights   \n",
              "3     2012-04-19     clear          dry                    daylight   \n",
              "4     2012-03-16    cloudy          dry                dusk or dawn   \n",
              "\n",
              "  road_condition_1  intersection  county_city_location county_location  \\\n",
              "0           normal           0.0                3711.0       san diego   \n",
              "1           normal           0.0                1942.0     los angeles   \n",
              "2            other           0.0                4100.0       san mateo   \n",
              "3           normal           1.0                2002.0          madera   \n",
              "4           normal           0.0                 109.0         alameda   \n",
              "\n",
              "  direction  distance  \n",
              "0     south    1500.0  \n",
              "1     south      20.0  \n",
              "2      east      40.0  \n",
              "3     north       0.0  \n",
              "4      west     500.0  "
            ]
          },
          "execution_count": 66,
          "metadata": {},
          "output_type": "execute_result"
        }
      ],
      "source": [
        "factors.head()"
      ]
    },
    {
      "cell_type": "code",
      "execution_count": null,
      "id": "4f611d2b",
      "metadata": {
        "scrolled": true,
        "id": "4f611d2b",
        "outputId": "71aae372-315b-4227-c7f1-be8079926f5d"
      },
      "outputs": [
        {
          "data": {
            "text/html": [
              "<div>\n",
              "<style scoped>\n",
              "    .dataframe tbody tr th:only-of-type {\n",
              "        vertical-align: middle;\n",
              "    }\n",
              "\n",
              "    .dataframe tbody tr th {\n",
              "        vertical-align: top;\n",
              "    }\n",
              "\n",
              "    .dataframe thead th {\n",
              "        text-align: right;\n",
              "    }\n",
              "</style>\n",
              "<table border=\"1\" class=\"dataframe\">\n",
              "  <thead>\n",
              "    <tr style=\"text-align: right;\">\n",
              "      <th></th>\n",
              "      <th>party_sobriety</th>\n",
              "      <th>at_fault</th>\n",
              "      <th>insurance_premium</th>\n",
              "      <th>cellphone_in_use</th>\n",
              "      <th>vehicle_type</th>\n",
              "      <th>vehicle_transmission</th>\n",
              "      <th>vehicle_age</th>\n",
              "      <th>collision_date</th>\n",
              "      <th>weather_1</th>\n",
              "      <th>road_surface</th>\n",
              "      <th>lighting</th>\n",
              "      <th>road_condition_1</th>\n",
              "      <th>intersection</th>\n",
              "      <th>county_city_location</th>\n",
              "      <th>county_location</th>\n",
              "      <th>direction</th>\n",
              "      <th>distance</th>\n",
              "    </tr>\n",
              "  </thead>\n",
              "  <tbody>\n",
              "    <tr>\n",
              "      <th>count</th>\n",
              "      <td>56248</td>\n",
              "      <td>56248</td>\n",
              "      <td>56248.000000</td>\n",
              "      <td>56248</td>\n",
              "      <td>56248</td>\n",
              "      <td>56248</td>\n",
              "      <td>56248.000000</td>\n",
              "      <td>56248</td>\n",
              "      <td>56248</td>\n",
              "      <td>56248</td>\n",
              "      <td>56248</td>\n",
              "      <td>56248</td>\n",
              "      <td>56248.000000</td>\n",
              "      <td>56248.000000</td>\n",
              "      <td>56248</td>\n",
              "      <td>56248</td>\n",
              "      <td>5.624800e+04</td>\n",
              "    </tr>\n",
              "    <tr>\n",
              "      <th>unique</th>\n",
              "      <td>6</td>\n",
              "      <td>2</td>\n",
              "      <td>NaN</td>\n",
              "      <td>3</td>\n",
              "      <td>3</td>\n",
              "      <td>2</td>\n",
              "      <td>NaN</td>\n",
              "      <td>366</td>\n",
              "      <td>7</td>\n",
              "      <td>4</td>\n",
              "      <td>5</td>\n",
              "      <td>8</td>\n",
              "      <td>NaN</td>\n",
              "      <td>NaN</td>\n",
              "      <td>58</td>\n",
              "      <td>4</td>\n",
              "      <td>NaN</td>\n",
              "    </tr>\n",
              "    <tr>\n",
              "      <th>top</th>\n",
              "      <td>had not been drinking</td>\n",
              "      <td>1</td>\n",
              "      <td>NaN</td>\n",
              "      <td>0.0</td>\n",
              "      <td>sedan</td>\n",
              "      <td>manual</td>\n",
              "      <td>NaN</td>\n",
              "      <td>2012-03-17</td>\n",
              "      <td>clear</td>\n",
              "      <td>dry</td>\n",
              "      <td>daylight</td>\n",
              "      <td>normal</td>\n",
              "      <td>NaN</td>\n",
              "      <td>NaN</td>\n",
              "      <td>los angeles</td>\n",
              "      <td>north</td>\n",
              "      <td>NaN</td>\n",
              "    </tr>\n",
              "    <tr>\n",
              "      <th>freq</th>\n",
              "      <td>49449</td>\n",
              "      <td>28373</td>\n",
              "      <td>NaN</td>\n",
              "      <td>50723</td>\n",
              "      <td>37180</td>\n",
              "      <td>30177</td>\n",
              "      <td>NaN</td>\n",
              "      <td>571</td>\n",
              "      <td>45260</td>\n",
              "      <td>50590</td>\n",
              "      <td>38218</td>\n",
              "      <td>54315</td>\n",
              "      <td>NaN</td>\n",
              "      <td>NaN</td>\n",
              "      <td>16236</td>\n",
              "      <td>25147</td>\n",
              "      <td>NaN</td>\n",
              "    </tr>\n",
              "    <tr>\n",
              "      <th>mean</th>\n",
              "      <td>NaN</td>\n",
              "      <td>NaN</td>\n",
              "      <td>37.607170</td>\n",
              "      <td>NaN</td>\n",
              "      <td>NaN</td>\n",
              "      <td>NaN</td>\n",
              "      <td>4.830678</td>\n",
              "      <td>NaN</td>\n",
              "      <td>NaN</td>\n",
              "      <td>NaN</td>\n",
              "      <td>NaN</td>\n",
              "      <td>NaN</td>\n",
              "      <td>0.220843</td>\n",
              "      <td>2844.491217</td>\n",
              "      <td>NaN</td>\n",
              "      <td>NaN</td>\n",
              "      <td>8.594387e+02</td>\n",
              "    </tr>\n",
              "    <tr>\n",
              "      <th>std</th>\n",
              "      <td>NaN</td>\n",
              "      <td>NaN</td>\n",
              "      <td>16.249129</td>\n",
              "      <td>NaN</td>\n",
              "      <td>NaN</td>\n",
              "      <td>NaN</td>\n",
              "      <td>3.188786</td>\n",
              "      <td>NaN</td>\n",
              "      <td>NaN</td>\n",
              "      <td>NaN</td>\n",
              "      <td>NaN</td>\n",
              "      <td>NaN</td>\n",
              "      <td>0.414819</td>\n",
              "      <td>1293.948517</td>\n",
              "      <td>NaN</td>\n",
              "      <td>NaN</td>\n",
              "      <td>7.240295e+03</td>\n",
              "    </tr>\n",
              "    <tr>\n",
              "      <th>min</th>\n",
              "      <td>NaN</td>\n",
              "      <td>NaN</td>\n",
              "      <td>0.000000</td>\n",
              "      <td>NaN</td>\n",
              "      <td>NaN</td>\n",
              "      <td>NaN</td>\n",
              "      <td>0.000000</td>\n",
              "      <td>NaN</td>\n",
              "      <td>NaN</td>\n",
              "      <td>NaN</td>\n",
              "      <td>NaN</td>\n",
              "      <td>NaN</td>\n",
              "      <td>0.000000</td>\n",
              "      <td>100.000000</td>\n",
              "      <td>NaN</td>\n",
              "      <td>NaN</td>\n",
              "      <td>0.000000e+00</td>\n",
              "    </tr>\n",
              "    <tr>\n",
              "      <th>25%</th>\n",
              "      <td>NaN</td>\n",
              "      <td>NaN</td>\n",
              "      <td>24.000000</td>\n",
              "      <td>NaN</td>\n",
              "      <td>NaN</td>\n",
              "      <td>NaN</td>\n",
              "      <td>3.000000</td>\n",
              "      <td>NaN</td>\n",
              "      <td>NaN</td>\n",
              "      <td>NaN</td>\n",
              "      <td>NaN</td>\n",
              "      <td>NaN</td>\n",
              "      <td>0.000000</td>\n",
              "      <td>1942.000000</td>\n",
              "      <td>NaN</td>\n",
              "      <td>NaN</td>\n",
              "      <td>7.000000e+00</td>\n",
              "    </tr>\n",
              "    <tr>\n",
              "      <th>50%</th>\n",
              "      <td>NaN</td>\n",
              "      <td>NaN</td>\n",
              "      <td>34.000000</td>\n",
              "      <td>NaN</td>\n",
              "      <td>NaN</td>\n",
              "      <td>NaN</td>\n",
              "      <td>4.000000</td>\n",
              "      <td>NaN</td>\n",
              "      <td>NaN</td>\n",
              "      <td>NaN</td>\n",
              "      <td>NaN</td>\n",
              "      <td>NaN</td>\n",
              "      <td>0.000000</td>\n",
              "      <td>3009.000000</td>\n",
              "      <td>NaN</td>\n",
              "      <td>NaN</td>\n",
              "      <td>1.350000e+02</td>\n",
              "    </tr>\n",
              "    <tr>\n",
              "      <th>75%</th>\n",
              "      <td>NaN</td>\n",
              "      <td>NaN</td>\n",
              "      <td>48.000000</td>\n",
              "      <td>NaN</td>\n",
              "      <td>NaN</td>\n",
              "      <td>NaN</td>\n",
              "      <td>7.000000</td>\n",
              "      <td>NaN</td>\n",
              "      <td>NaN</td>\n",
              "      <td>NaN</td>\n",
              "      <td>NaN</td>\n",
              "      <td>NaN</td>\n",
              "      <td>0.000000</td>\n",
              "      <td>3701.000000</td>\n",
              "      <td>NaN</td>\n",
              "      <td>NaN</td>\n",
              "      <td>5.450000e+02</td>\n",
              "    </tr>\n",
              "    <tr>\n",
              "      <th>max</th>\n",
              "      <td>NaN</td>\n",
              "      <td>NaN</td>\n",
              "      <td>105.000000</td>\n",
              "      <td>NaN</td>\n",
              "      <td>NaN</td>\n",
              "      <td>NaN</td>\n",
              "      <td>161.000000</td>\n",
              "      <td>NaN</td>\n",
              "      <td>NaN</td>\n",
              "      <td>NaN</td>\n",
              "      <td>NaN</td>\n",
              "      <td>NaN</td>\n",
              "      <td>1.000000</td>\n",
              "      <td>5802.000000</td>\n",
              "      <td>NaN</td>\n",
              "      <td>NaN</td>\n",
              "      <td>1.584000e+06</td>\n",
              "    </tr>\n",
              "  </tbody>\n",
              "</table>\n",
              "</div>"
            ],
            "text/plain": [
              "               party_sobriety at_fault  insurance_premium cellphone_in_use  \\\n",
              "count                   56248    56248       56248.000000            56248   \n",
              "unique                      6        2                NaN                3   \n",
              "top     had not been drinking        1                NaN              0.0   \n",
              "freq                    49449    28373                NaN            50723   \n",
              "mean                      NaN      NaN          37.607170              NaN   \n",
              "std                       NaN      NaN          16.249129              NaN   \n",
              "min                       NaN      NaN           0.000000              NaN   \n",
              "25%                       NaN      NaN          24.000000              NaN   \n",
              "50%                       NaN      NaN          34.000000              NaN   \n",
              "75%                       NaN      NaN          48.000000              NaN   \n",
              "max                       NaN      NaN         105.000000              NaN   \n",
              "\n",
              "       vehicle_type vehicle_transmission   vehicle_age collision_date  \\\n",
              "count         56248                56248  56248.000000          56248   \n",
              "unique            3                    2           NaN            366   \n",
              "top           sedan               manual           NaN     2012-03-17   \n",
              "freq          37180                30177           NaN            571   \n",
              "mean            NaN                  NaN      4.830678            NaN   \n",
              "std             NaN                  NaN      3.188786            NaN   \n",
              "min             NaN                  NaN      0.000000            NaN   \n",
              "25%             NaN                  NaN      3.000000            NaN   \n",
              "50%             NaN                  NaN      4.000000            NaN   \n",
              "75%             NaN                  NaN      7.000000            NaN   \n",
              "max             NaN                  NaN    161.000000            NaN   \n",
              "\n",
              "       weather_1 road_surface  lighting road_condition_1  intersection  \\\n",
              "count      56248        56248     56248            56248  56248.000000   \n",
              "unique         7            4         5                8           NaN   \n",
              "top        clear          dry  daylight           normal           NaN   \n",
              "freq       45260        50590     38218            54315           NaN   \n",
              "mean         NaN          NaN       NaN              NaN      0.220843   \n",
              "std          NaN          NaN       NaN              NaN      0.414819   \n",
              "min          NaN          NaN       NaN              NaN      0.000000   \n",
              "25%          NaN          NaN       NaN              NaN      0.000000   \n",
              "50%          NaN          NaN       NaN              NaN      0.000000   \n",
              "75%          NaN          NaN       NaN              NaN      0.000000   \n",
              "max          NaN          NaN       NaN              NaN      1.000000   \n",
              "\n",
              "        county_city_location county_location direction      distance  \n",
              "count           56248.000000           56248     56248  5.624800e+04  \n",
              "unique                   NaN              58         4           NaN  \n",
              "top                      NaN     los angeles     north           NaN  \n",
              "freq                     NaN           16236     25147           NaN  \n",
              "mean             2844.491217             NaN       NaN  8.594387e+02  \n",
              "std              1293.948517             NaN       NaN  7.240295e+03  \n",
              "min               100.000000             NaN       NaN  0.000000e+00  \n",
              "25%              1942.000000             NaN       NaN  7.000000e+00  \n",
              "50%              3009.000000             NaN       NaN  1.350000e+02  \n",
              "75%              3701.000000             NaN       NaN  5.450000e+02  \n",
              "max              5802.000000             NaN       NaN  1.584000e+06  "
            ]
          },
          "execution_count": 67,
          "metadata": {},
          "output_type": "execute_result"
        }
      ],
      "source": [
        "# Проведем статистический анализ признаков\n",
        "factors.describe(include='all')"
      ]
    },
    {
      "cell_type": "markdown",
      "id": "a180c4fe",
      "metadata": {
        "id": "a180c4fe"
      },
      "source": [
        "Посмотрев на стандартное отклонение (std) по каждому признаку, видим, что в данных нет большого разброса относительно их среднего значения"
      ]
    },
    {
      "cell_type": "markdown",
      "id": "e8d9b814",
      "metadata": {
        "id": "e8d9b814"
      },
      "source": [
        "Смотря на строку top в таблице, видим:\n",
        "Самые частые случаи, когда водитель:  \n",
        "1) трезвый;  \n",
        "2) виновен;  \n",
        "3) без телефона в авто;  \n",
        "4) тип кузова авто - седан;  \n",
        "5) коробка автомат;  \n",
        "6) день, ясная погода, но поверхность дороги сухая. Дорога ровная.  "
      ]
    },
    {
      "cell_type": "code",
      "execution_count": null,
      "id": "49ca5352",
      "metadata": {
        "scrolled": false,
        "id": "49ca5352",
        "outputId": "b37854f6-82c3-4cc5-ed30-3cdaf180c3b8"
      },
      "outputs": [
        {
          "name": "stdout",
          "output_type": "stream",
          "text": [
            "(42186, 15) (14062, 15)\n",
            "Лучшая модель и ее параметры:\n",
            "\n",
            " Pipeline(steps=[('preprocessor',\n",
            "                 ColumnTransformer(remainder='passthrough',\n",
            "                                   transformers=[('ohe',\n",
            "                                                  Pipeline(steps=[('simpleImputer_ohe',\n",
            "                                                                   SimpleImputer(strategy='most_frequent')),\n",
            "                                                                  ('ohe',\n",
            "                                                                   OneHotEncoder(drop='first'))]),\n",
            "                                                  ['party_sobriety',\n",
            "                                                   'vehicle_type',\n",
            "                                                   'vehicle_transmission',\n",
            "                                                   'weather_1', 'road_surface',\n",
            "                                                   'lighting',\n",
            "                                                   'road_condition_1',\n",
            "                                                   'county_location',\n",
            "                                                   'direction']),\n",
            "                                                 ('ord',\n",
            "                                                  Pipeline(steps=[('simpleImputer_ordinal',\n",
            "                                                                   SimpleImputer(strategy='most_frequent')),\n",
            "                                                                  ('ordinal',\n",
            "                                                                   OrdinalEncoder())]),\n",
            "                                                  ['cellphone_in_use']),\n",
            "                                                 ('num', 'passthrough',\n",
            "                                                  ['insurance_premium',\n",
            "                                                   'vehicle_age',\n",
            "                                                   'intersection', 'distance',\n",
            "                                                   'county_city_location'])])),\n",
            "                ('models',\n",
            "                 RandomForestClassifier(max_depth=10, n_estimators=50,\n",
            "                                        random_state=42))])\n",
            "Метрика лучшей модели на тренировочной выборке: 0.7119881124850297\n",
            "Метрика ROC-AUC на тестовой выборке: 0.6580864288044872\n"
          ]
        }
      ],
      "source": [
        "# Целевой признак и данные\n",
        "X = factors.drop(['at_fault', 'collision_date'], axis=1)\n",
        "y = factors['at_fault']\n",
        "\n",
        "# Разделение данных на тренировочную и тестовую выборки\n",
        "X_train, X_test, y_train, y_test = train_test_split(\n",
        "    X,\n",
        "    y,\n",
        "    train_size=0.75,\n",
        "    random_state=RANDOM_STATE\n",
        ")\n",
        "\n",
        "print(X_train.shape, X_test.shape)\n",
        "\n",
        "# Пайплайн для OHE-кодирования и заполнения пропусков\n",
        "ohe_pipe = Pipeline(\n",
        "    [('simpleImputer_ohe', SimpleImputer(missing_values=np.nan, strategy='most_frequent')),\n",
        "     ('ohe', OneHotEncoder(drop='first', handle_unknown='error'))]\n",
        ")\n",
        "\n",
        "# Пайплайн для OrdinalEncoder для признака 'cellphone_in_use'\n",
        "ord_pipe = Pipeline(\n",
        "    [('simpleImputer_ordinal', SimpleImputer(missing_values=np.nan, strategy='most_frequent')),\n",
        "     ('ordinal', OrdinalEncoder())]\n",
        ")\n",
        "\n",
        "# Общий пайплайн для подготовки данных\n",
        "data_preprocessor = ColumnTransformer(\n",
        "    [('ohe', ohe_pipe, ['party_sobriety',\n",
        "                         'vehicle_type',\n",
        "                         'vehicle_transmission',\n",
        "                         'weather_1',\n",
        "                         'road_surface',\n",
        "                         'lighting',\n",
        "                         'road_condition_1',\n",
        "                         'county_location',\n",
        "                         'direction']),\n",
        "\n",
        "     ('ord', ord_pipe, ['cellphone_in_use']),\n",
        "\n",
        "     ('num', StandardScaler(), ['insurance_premium', 'vehicle_age', 'intersection', 'distance', 'county_city_location'])\n",
        "    ],\n",
        "    remainder='passthrough'\n",
        ")\n",
        "\n",
        "# Итоговый пайплайн: подготовка данных и модель\n",
        "pipe_final = Pipeline([\n",
        "    ('preprocessor', data_preprocessor),\n",
        "    ('models', DecisionTreeClassifier(random_state=RANDOM_STATE))\n",
        "])\n",
        "\n",
        "# Параметры для поиска\n",
        "param_grid = [\n",
        "    # Словарь для модели DecisionTreeClassifier()\n",
        "    {\n",
        "        'models': [DecisionTreeClassifier(random_state=RANDOM_STATE)],\n",
        "        'models__max_depth': range(2, 5),\n",
        "        'models__max_features': range(2, 5),\n",
        "        'preprocessor__num': [StandardScaler(), 'passthrough']\n",
        "    },\n",
        "\n",
        "    # Словарь для модели KNeighborsClassifier()\n",
        "    {\n",
        "        'models': [KNeighborsClassifier()],\n",
        "        'models__n_neighbors': range(2, 5),\n",
        "        'preprocessor__num': [StandardScaler(), 'passthrough']\n",
        "    },\n",
        "\n",
        "    # Словарь для модели RandomForestClassifier()\n",
        "    {\n",
        "        'models': [RandomForestClassifier(random_state=RANDOM_STATE)],\n",
        "        'models__n_estimators': [10, 50],\n",
        "        'models__max_depth': [5, 10],\n",
        "        'preprocessor__num': [StandardScaler(), 'passthrough']\n",
        "    }\n",
        "]\n",
        "\n",
        "# Поиск лучшей модели\n",
        "random_search = RandomizedSearchCV(\n",
        "    pipe_final,\n",
        "    param_grid,\n",
        "    cv=3,\n",
        "    scoring='roc_auc',\n",
        "    n_jobs=-1\n",
        ")\n",
        "random_search.fit(X_train, y_train)\n",
        "\n",
        "print('Лучшая модель и ее параметры:\\n\\n', random_search.best_estimator_)\n",
        "print('Метрика лучшей модели на тренировочной выборке:', random_search.best_score_)\n",
        "\n",
        "# Оценка модели на тестовой выборке\n",
        "y_test_pred = random_search.best_estimator_.predict(X_test)\n",
        "roc_auc = roc_auc_score(y_test, y_test_pred)\n",
        "print(f\"Метрика ROC-AUC на тестовой выборке: {roc_auc}\")"
      ]
    },
    {
      "cell_type": "markdown",
      "id": "6fce3746",
      "metadata": {
        "id": "6fce3746"
      },
      "source": [
        "Лучшая модель: RandomForestClassifier"
      ]
    },
    {
      "cell_type": "markdown",
      "id": "91007bde",
      "metadata": {
        "id": "91007bde"
      },
      "source": [
        "Для решения данной задачи была выбрана метрика ROC-AUС, так как является мощной метрикой для оценки качества моделей классификации, особенно в случаях с несбалансированными данными и задачами, где важны как положительные, так и отрицательные предсказания. Она предоставляет сбалансированную оценку качества модели и позволяет сравнивать различные модели на основе единой метрики."
      ]
    },
    {
      "cell_type": "markdown",
      "id": "5d146442",
      "metadata": {
        "id": "5d146442"
      },
      "source": [
        "## Проведите анализ важности факторов ДТП"
      ]
    },
    {
      "cell_type": "code",
      "execution_count": null,
      "id": "51023756",
      "metadata": {
        "id": "51023756",
        "outputId": "9647a9eb-5561-418e-c0aa-0dcc41fdff8c"
      },
      "outputs": [
        {
          "name": "stdout",
          "output_type": "stream",
          "text": [
            "Точность: 0.67\n",
            "Полнота: 0.66\n"
          ]
        }
      ],
      "source": [
        "# Рассчитываем точность и полноту\n",
        "precision = precision_score(y_test, y_test_pred, average='weighted')\n",
        "recall = recall_score(y_test, y_test_pred, average='weighted')\n",
        "\n",
        "\n",
        "print(f'Точность: {precision:.2f}')\n",
        "print(f'Полнота: {recall:.2f}')"
      ]
    },
    {
      "cell_type": "markdown",
      "id": "b0ff51fa",
      "metadata": {
        "id": "b0ff51fa"
      },
      "source": [
        "__Точность (Precision)__ говорит о доле правильно предсказанных положительных примеров среди всех примеров. В нашем случае доля равняется 67%, что означает, что из всех примеров, которые модель предсказала как положительные, 67% действительно являются положительными. 67% действительно были виновными\n",
        "\n",
        "__Полнота (Recall)__ говорит о доле правильно предсказанных положительных примеров среди всех действительно положительных примеров. В нашем случае доля равняется 66%, что означает, что из всех действительно положительных примеров модель правильно предсказала 66%. Из всех действительно виновных случаев модель правильно предсказала 66%."
      ]
    },
    {
      "cell_type": "code",
      "execution_count": null,
      "id": "c3aa2f14",
      "metadata": {
        "id": "c3aa2f14",
        "outputId": "63a796df-6006-4c70-9cbe-9545217a6cea"
      },
      "outputs": [
        {
          "data": {
            "image/png": "[encoded data removed]",
            "text/plain": [
              "<Figure size 576x576 with 2 Axes>"
            ]
          },
          "metadata": {
            "needs_background": "light"
          },
          "output_type": "display_data"
        }
      ],
      "source": [
        "# Строим матрицу\n",
        "cm = confusion_matrix(y_test, y_test_pred)\n",
        "\n",
        "# Получаем метки классов\n",
        "class_labels = random_search.best_estimator_.named_steps['models'].classes_\n",
        "\n",
        "# Отображаем матрицу ошибок с метками классов\n",
        "disp = ConfusionMatrixDisplay(confusion_matrix=cm, display_labels=class_labels)\n",
        "fig, ax = plt.subplots(figsize=(8, 8))\n",
        "disp.plot(cmap='Blues', ax=ax)\n",
        "plt.title('Матрица ошибок')\n",
        "plt.show()"
      ]
    },
    {
      "cell_type": "markdown",
      "id": "0530c39a",
      "metadata": {
        "id": "0530c39a"
      },
      "source": [
        "* __Матрица ошибок:__ Чем больше значение на диагонали, тем лучше модель предсказывает соответствующий класс. Элементы на противоположной диагонали показывают, какие классы модель чаще всего путает;\n",
        "* __Точность и полнота:__ Высокие значения точности и полноты  указывают на то, что модель хорошо предсказывает  классы."
      ]
    },
    {
      "cell_type": "markdown",
      "id": "9c9331d9",
      "metadata": {
        "id": "9c9331d9"
      },
      "source": [
        "### Важные факторы"
      ]
    },
    {
      "cell_type": "code",
      "execution_count": null,
      "id": "775976f2",
      "metadata": {
        "scrolled": false,
        "id": "775976f2",
        "outputId": "899dbd87-0f38-42da-ec55-4709ff616ef8"
      },
      "outputs": [
        {
          "data": {
            "text/html": [
              "<div>\n",
              "<style scoped>\n",
              "    .dataframe tbody tr th:only-of-type {\n",
              "        vertical-align: middle;\n",
              "    }\n",
              "\n",
              "    .dataframe tbody tr th {\n",
              "        vertical-align: top;\n",
              "    }\n",
              "\n",
              "    .dataframe thead th {\n",
              "        text-align: right;\n",
              "    }\n",
              "</style>\n",
              "<table border=\"1\" class=\"dataframe\">\n",
              "  <thead>\n",
              "    <tr style=\"text-align: right;\">\n",
              "      <th></th>\n",
              "      <th>Feature</th>\n",
              "      <th>Importance</th>\n",
              "    </tr>\n",
              "  </thead>\n",
              "  <tbody>\n",
              "    <tr>\n",
              "      <th>2</th>\n",
              "      <td>ohe__party_sobriety_had not been drinking</td>\n",
              "      <td>0.248464</td>\n",
              "    </tr>\n",
              "    <tr>\n",
              "      <th>1</th>\n",
              "      <td>ohe__party_sobriety_had been drinking, under i...</td>\n",
              "      <td>0.193859</td>\n",
              "    </tr>\n",
              "    <tr>\n",
              "      <th>89</th>\n",
              "      <td>num__insurance_premium</td>\n",
              "      <td>0.136268</td>\n",
              "    </tr>\n",
              "    <tr>\n",
              "      <th>6</th>\n",
              "      <td>ohe__vehicle_type_sedan</td>\n",
              "      <td>0.090812</td>\n",
              "    </tr>\n",
              "    <tr>\n",
              "      <th>90</th>\n",
              "      <td>num__vehicle_age</td>\n",
              "      <td>0.055848</td>\n",
              "    </tr>\n",
              "    <tr>\n",
              "      <th>...</th>\n",
              "      <td>...</td>\n",
              "      <td>...</td>\n",
              "    </tr>\n",
              "    <tr>\n",
              "      <th>28</th>\n",
              "      <td>ohe__county_location_alpine</td>\n",
              "      <td>0.000069</td>\n",
              "    </tr>\n",
              "    <tr>\n",
              "      <th>81</th>\n",
              "      <td>ohe__county_location_tuolumne</td>\n",
              "      <td>0.000059</td>\n",
              "    </tr>\n",
              "    <tr>\n",
              "      <th>51</th>\n",
              "      <td>ohe__county_location_modoc</td>\n",
              "      <td>0.000056</td>\n",
              "    </tr>\n",
              "    <tr>\n",
              "      <th>5</th>\n",
              "      <td>ohe__vehicle_type_other</td>\n",
              "      <td>0.000013</td>\n",
              "    </tr>\n",
              "    <tr>\n",
              "      <th>13</th>\n",
              "      <td>ohe__weather_1_wind</td>\n",
              "      <td>0.000009</td>\n",
              "    </tr>\n",
              "  </tbody>\n",
              "</table>\n",
              "<p>94 rows × 2 columns</p>\n",
              "</div>"
            ],
            "text/plain": [
              "                                              Feature  Importance\n",
              "2           ohe__party_sobriety_had not been drinking    0.248464\n",
              "1   ohe__party_sobriety_had been drinking, under i...    0.193859\n",
              "89                             num__insurance_premium    0.136268\n",
              "6                             ohe__vehicle_type_sedan    0.090812\n",
              "90                                   num__vehicle_age    0.055848\n",
              "..                                                ...         ...\n",
              "28                        ohe__county_location_alpine    0.000069\n",
              "81                      ohe__county_location_tuolumne    0.000059\n",
              "51                         ohe__county_location_modoc    0.000056\n",
              "5                             ohe__vehicle_type_other    0.000013\n",
              "13                                ohe__weather_1_wind    0.000009\n",
              "\n",
              "[94 rows x 2 columns]"
            ]
          },
          "execution_count": 128,
          "metadata": {},
          "output_type": "execute_result"
        }
      ],
      "source": [
        "X_transformed = best_model['preprocessor'].fit_transform(X_train)\n",
        "\n",
        "# Получаем имена признаков\n",
        "feature_names = best_model['preprocessor'].get_feature_names_out()\n",
        "\n",
        "# Получение важностей признаков из лучшей модели\n",
        "feature_importances = best_model['models'].feature_importances_\n",
        "\n",
        "# Создание DataFrame с важностями\n",
        "feature_importance_df = pd.DataFrame({\n",
        "    'Feature': feature_names,\n",
        "    'Importance': feature_importances\n",
        "})\n",
        "\n",
        "# Сортировка по важности\n",
        "feature_importance_df = feature_importance_df.sort_values(by='Importance', ascending=False)\n",
        "\n",
        "# Вывод результата\n",
        "feature_importance_df"
      ]
    },
    {
      "cell_type": "markdown",
      "id": "6837a708",
      "metadata": {
        "id": "6837a708"
      },
      "source": [
        "На основе предоставленной модели, можно выделить следующие факторы, которые могут влиять на вероятность ДТП:\n",
        "\n",
        "* party_sobriety (уровень трезвости)\n",
        "* vehicle_type (тип кузова)\n",
        "* vehicle_age (возраст авто)\n",
        "* lighting (освещение)\n",
        "* weather_1 (погодные условия)\n",
        "* road_surface (состояние дорожного покрытия)"
      ]
    },
    {
      "cell_type": "markdown",
      "id": "4520a8f7",
      "metadata": {
        "id": "4520a8f7"
      },
      "source": [
        "Проведем дополнительное исследование для фактора party_sobriety (трезвость)"
      ]
    },
    {
      "cell_type": "markdown",
      "id": "1d71bcd0",
      "metadata": {
        "id": "1d71bcd0"
      },
      "source": [
        "Покажем график зависимости фактора party_sobriety (трезвость) и целевой переменной."
      ]
    },
    {
      "cell_type": "code",
      "execution_count": null,
      "id": "57738d55",
      "metadata": {
        "id": "57738d55"
      },
      "outputs": [],
      "source": [
        "# Создаем сводную таблицу для подсчета количества случаев\n",
        "df = factors.groupby(['at_fault', 'weather_1']).size().reset_index(name='count')"
      ]
    },
    {
      "cell_type": "code",
      "execution_count": null,
      "id": "73c494ac",
      "metadata": {
        "id": "73c494ac",
        "outputId": "4732b2cd-784a-47c6-de48-b6148ff69aa7"
      },
      "outputs": [
        {
          "data": {
            "image/png": "[encoded data removed]",
            "text/plain": [
              "<Figure size 864x432 with 1 Axes>"
            ]
          },
          "metadata": {
            "needs_background": "light"
          },
          "output_type": "display_data"
        }
      ],
      "source": [
        "# Построение графика\n",
        "plt.figure(figsize=(12, 6))\n",
        "sns.barplot(x='at_fault', y='count', hue='weather_1', data=df)\n",
        "plt.title('Зависимость между погодными условиями и серьезностью аварии')\n",
        "plt.xlabel('Погода')\n",
        "plt.ylabel('Количество случаев')\n",
        "plt.show()"
      ]
    },
    {
      "cell_type": "markdown",
      "id": "b185ee6d",
      "metadata": {
        "id": "b185ee6d"
      },
      "source": [
        "__Вывод:__\n",
        "1) Из графика видно, что больше всего ДТП были в ясную погоду и водитель был не виновен.  \n",
        "\n",
        "2) Предложить оборудовать автомобиль системой предупреждения о неблагоприятных погодных условиях. Данная система будет информировать водителя о текущих погодных условиях и рекомендуемой скорости движения, когда он сядет в автомобиль."
      ]
    },
    {
      "cell_type": "markdown",
      "id": "484d1a60",
      "metadata": {
        "id": "484d1a60"
      },
      "source": [
        "## Выводы"
      ]
    },
    {
      "cell_type": "markdown",
      "id": "4176b363",
      "metadata": {
        "id": "4176b363"
      },
      "source": [
        "1) Кратко опишем лучшую модель:   \n",
        "Лучшей моделью является - RandomForestClassifier.\n",
        "\n",
        "Метрика на обучении = 0.71\n",
        "Метрика на тесте = 0.66\n",
        "\n",
        "Данные значения метрик говорят о том, что модель не очень хорошо разделяет данные. Это связано с тем, что данные за 2012 год неполные."
      ]
    },
    {
      "cell_type": "markdown",
      "id": "5cdbd298",
      "metadata": {
        "id": "5cdbd298"
      },
      "source": [
        "2) Насколько возможно создание адекватной системы оценки риска при выдаче авто?\n",
        "\n",
        "Создание адекватной системы оценки риска при выдаче авто возможно, правда стоит учитывать множество факторов, включая исторические данные о водителях, состояние автомобиля, условия эксплуатации и внешние факторы, такие как погодные и дорожные условия."
      ]
    },
    {
      "cell_type": "markdown",
      "id": "411453a3",
      "metadata": {
        "id": "411453a3"
      },
      "source": [
        "3) Какие факторы ещё необходимо собирать, чтобы улучшить модель?\n",
        "* Техническое состояние авто\n",
        "* Водительский стаж\n",
        "* Возраст водителя"
      ]
    },
    {
      "cell_type": "code",
      "execution_count": null,
      "id": "f92f107e",
      "metadata": {
        "id": "f92f107e"
      },
      "outputs": [],
      "source": []
    }
  ],
  "metadata": {
    "ExecuteTimeLog": [
      {
        "duration": 4626,
        "start_time": "2024-11-20T19:31:53.818Z"
      },
      {
        "duration": 41,
        "start_time": "2024-11-20T19:32:35.938Z"
      },
      {
        "duration": 3,
        "start_time": "2024-11-20T19:32:37.433Z"
      },
      {
        "duration": 6,
        "start_time": "2024-11-20T19:32:37.753Z"
      },
      {
        "duration": 44,
        "start_time": "2024-11-20T19:32:50.463Z"
      },
      {
        "duration": 3,
        "start_time": "2024-11-20T19:33:45.803Z"
      },
      {
        "duration": 2705,
        "start_time": "2024-11-20T19:40:02.818Z"
      },
      {
        "duration": 898,
        "start_time": "2024-11-20T19:41:53.340Z"
      },
      {
        "duration": 4,
        "start_time": "2024-11-20T19:41:55.995Z"
      },
      {
        "duration": 3,
        "start_time": "2024-11-20T19:41:58.107Z"
      },
      {
        "duration": 19,
        "start_time": "2024-11-20T19:44:29.533Z"
      },
      {
        "duration": 2,
        "start_time": "2024-11-20T19:47:16.724Z"
      },
      {
        "duration": 146,
        "start_time": "2024-11-20T19:47:30.155Z"
      },
      {
        "duration": 2,
        "start_time": "2024-11-20T19:49:10.653Z"
      },
      {
        "duration": 77,
        "start_time": "2024-11-20T19:49:14.038Z"
      },
      {
        "duration": 2827,
        "start_time": "2024-11-21T08:48:12.217Z"
      },
      {
        "duration": 914,
        "start_time": "2024-11-21T08:48:15.046Z"
      },
      {
        "duration": 3,
        "start_time": "2024-11-21T08:48:25.343Z"
      },
      {
        "duration": 3,
        "start_time": "2024-11-21T08:48:32.945Z"
      },
      {
        "duration": 5320,
        "start_time": "2024-11-21T08:48:41.998Z"
      },
      {
        "duration": 3,
        "start_time": "2024-11-21T08:48:47.320Z"
      },
      {
        "duration": 178,
        "start_time": "2024-11-21T08:48:50.130Z"
      },
      {
        "duration": 3,
        "start_time": "2024-11-21T08:53:18.994Z"
      },
      {
        "duration": 86,
        "start_time": "2024-11-21T08:53:32.385Z"
      },
      {
        "duration": 3,
        "start_time": "2024-11-21T08:57:05.759Z"
      },
      {
        "duration": 3,
        "start_time": "2024-11-21T08:57:05.954Z"
      },
      {
        "duration": 4,
        "start_time": "2024-11-21T08:57:06.145Z"
      },
      {
        "duration": 5,
        "start_time": "2024-11-21T08:57:06.627Z"
      },
      {
        "duration": 2,
        "start_time": "2024-11-21T08:57:15.412Z"
      },
      {
        "duration": 118,
        "start_time": "2024-11-21T08:57:15.667Z"
      },
      {
        "duration": 3,
        "start_time": "2024-11-21T08:57:35.371Z"
      },
      {
        "duration": 31,
        "start_time": "2024-11-21T08:57:35.376Z"
      },
      {
        "duration": 3,
        "start_time": "2024-11-21T08:57:35.756Z"
      },
      {
        "duration": 2,
        "start_time": "2024-11-21T08:57:36.776Z"
      },
      {
        "duration": 106,
        "start_time": "2024-11-21T08:57:37.332Z"
      },
      {
        "duration": 3,
        "start_time": "2024-11-21T09:02:53.479Z"
      },
      {
        "duration": 190,
        "start_time": "2024-11-21T09:02:53.747Z"
      },
      {
        "duration": 7,
        "start_time": "2024-11-21T09:17:01.466Z"
      },
      {
        "duration": 3,
        "start_time": "2024-11-21T09:18:23.491Z"
      },
      {
        "duration": 3,
        "start_time": "2024-11-21T09:18:23.711Z"
      },
      {
        "duration": 3,
        "start_time": "2024-11-21T09:18:23.906Z"
      },
      {
        "duration": 4,
        "start_time": "2024-11-21T09:18:24.138Z"
      },
      {
        "duration": 3,
        "start_time": "2024-11-21T09:18:24.369Z"
      },
      {
        "duration": 130,
        "start_time": "2024-11-21T09:18:24.711Z"
      },
      {
        "duration": 3,
        "start_time": "2024-11-21T09:19:27.698Z"
      },
      {
        "duration": 136,
        "start_time": "2024-11-21T09:19:28.008Z"
      },
      {
        "duration": 6,
        "start_time": "2024-11-21T09:19:28.409Z"
      },
      {
        "duration": 3,
        "start_time": "2024-11-21T09:19:39.929Z"
      },
      {
        "duration": 21,
        "start_time": "2024-11-21T09:19:39.934Z"
      },
      {
        "duration": 3,
        "start_time": "2024-11-21T09:19:42.544Z"
      },
      {
        "duration": 3,
        "start_time": "2024-11-21T09:19:43.144Z"
      },
      {
        "duration": 131,
        "start_time": "2024-11-21T09:19:44.104Z"
      },
      {
        "duration": 3,
        "start_time": "2024-11-21T09:25:26.100Z"
      },
      {
        "duration": 161,
        "start_time": "2024-11-21T09:25:26.401Z"
      },
      {
        "duration": 3,
        "start_time": "2024-11-21T09:25:41.825Z"
      },
      {
        "duration": 3,
        "start_time": "2024-11-21T09:25:42.092Z"
      },
      {
        "duration": 3,
        "start_time": "2024-11-21T09:25:42.624Z"
      },
      {
        "duration": 3,
        "start_time": "2024-11-21T09:25:42.755Z"
      },
      {
        "duration": 2,
        "start_time": "2024-11-21T09:25:43.652Z"
      },
      {
        "duration": 2,
        "start_time": "2024-11-21T09:27:58.867Z"
      },
      {
        "duration": 4,
        "start_time": "2024-11-21T09:27:58.997Z"
      },
      {
        "duration": 5,
        "start_time": "2024-11-21T09:27:59.142Z"
      },
      {
        "duration": 3,
        "start_time": "2024-11-21T09:27:59.288Z"
      },
      {
        "duration": 4,
        "start_time": "2024-11-21T09:27:59.433Z"
      },
      {
        "duration": 3,
        "start_time": "2024-11-21T09:27:59.564Z"
      },
      {
        "duration": 2728,
        "start_time": "2024-11-21T09:28:27.041Z"
      },
      {
        "duration": 844,
        "start_time": "2024-11-21T09:28:29.771Z"
      },
      {
        "duration": 2,
        "start_time": "2024-11-21T09:28:30.617Z"
      },
      {
        "duration": 34,
        "start_time": "2024-11-21T09:28:30.621Z"
      },
      {
        "duration": 4961,
        "start_time": "2024-11-21T09:28:30.657Z"
      },
      {
        "duration": 7,
        "start_time": "2024-11-21T09:28:35.619Z"
      },
      {
        "duration": 3,
        "start_time": "2024-11-21T09:29:08.008Z"
      },
      {
        "duration": 3,
        "start_time": "2024-11-21T09:29:08.203Z"
      },
      {
        "duration": 3,
        "start_time": "2024-11-21T09:29:08.377Z"
      },
      {
        "duration": 4,
        "start_time": "2024-11-21T09:29:08.871Z"
      },
      {
        "duration": 3,
        "start_time": "2024-11-21T09:29:18.267Z"
      },
      {
        "duration": 197,
        "start_time": "2024-11-21T09:29:19.754Z"
      },
      {
        "duration": 3,
        "start_time": "2024-11-21T09:35:26.981Z"
      },
      {
        "duration": 3,
        "start_time": "2024-11-21T09:35:27.364Z"
      },
      {
        "duration": 4,
        "start_time": "2024-11-21T09:35:28.094Z"
      },
      {
        "duration": 4,
        "start_time": "2024-11-21T09:35:28.777Z"
      },
      {
        "duration": 3,
        "start_time": "2024-11-21T09:35:30.281Z"
      },
      {
        "duration": 131174,
        "start_time": "2024-11-21T09:35:31.652Z"
      },
      {
        "duration": 3,
        "start_time": "2024-11-21T09:38:59.337Z"
      },
      {
        "duration": 3,
        "start_time": "2024-11-21T09:38:59.555Z"
      },
      {
        "duration": 4,
        "start_time": "2024-11-21T09:38:59.737Z"
      },
      {
        "duration": 4,
        "start_time": "2024-11-21T09:39:00.080Z"
      },
      {
        "duration": 3,
        "start_time": "2024-11-21T09:39:00.534Z"
      },
      {
        "duration": 130783,
        "start_time": "2024-11-21T09:39:00.951Z"
      },
      {
        "duration": 4,
        "start_time": "2024-11-21T10:20:54.743Z"
      },
      {
        "duration": 4,
        "start_time": "2024-11-21T10:21:06.099Z"
      },
      {
        "duration": 4,
        "start_time": "2024-11-21T10:21:06.336Z"
      },
      {
        "duration": 4,
        "start_time": "2024-11-21T10:21:06.559Z"
      },
      {
        "duration": 5,
        "start_time": "2024-11-21T10:21:06.947Z"
      },
      {
        "duration": 8,
        "start_time": "2024-11-21T10:21:07.610Z"
      },
      {
        "duration": 130785,
        "start_time": "2024-11-21T10:21:08.174Z"
      },
      {
        "duration": 3,
        "start_time": "2024-11-21T10:23:40.859Z"
      },
      {
        "duration": 3,
        "start_time": "2024-11-21T10:23:41.090Z"
      },
      {
        "duration": 6,
        "start_time": "2024-11-21T10:23:41.318Z"
      },
      {
        "duration": 3,
        "start_time": "2024-11-21T10:23:42.156Z"
      },
      {
        "duration": 4,
        "start_time": "2024-11-21T10:23:42.663Z"
      },
      {
        "duration": 9,
        "start_time": "2024-11-21T10:23:43.014Z"
      },
      {
        "duration": 11,
        "start_time": "2024-11-21T10:26:13.030Z"
      },
      {
        "duration": 3,
        "start_time": "2024-11-21T10:26:13.453Z"
      },
      {
        "duration": 4,
        "start_time": "2024-11-21T10:26:14.536Z"
      },
      {
        "duration": 8,
        "start_time": "2024-11-21T10:26:14.604Z"
      },
      {
        "duration": 5,
        "start_time": "2024-11-21T10:26:15.169Z"
      },
      {
        "duration": 3,
        "start_time": "2024-11-21T10:26:16.288Z"
      },
      {
        "duration": 143,
        "start_time": "2024-11-21T10:26:24.919Z"
      },
      {
        "duration": 3,
        "start_time": "2024-11-21T10:27:50.487Z"
      },
      {
        "duration": 4,
        "start_time": "2024-11-21T10:27:50.971Z"
      },
      {
        "duration": 3,
        "start_time": "2024-11-21T10:27:51.949Z"
      },
      {
        "duration": 4,
        "start_time": "2024-11-21T10:27:52.634Z"
      },
      {
        "duration": 4,
        "start_time": "2024-11-21T10:27:52.882Z"
      },
      {
        "duration": 19614,
        "start_time": "2024-11-21T10:27:54.903Z"
      },
      {
        "duration": 32,
        "start_time": "2024-11-21T10:28:31.771Z"
      },
      {
        "duration": 30,
        "start_time": "2024-11-21T10:28:42.930Z"
      },
      {
        "duration": 2951,
        "start_time": "2024-11-21T21:26:33.184Z"
      },
      {
        "duration": 1002,
        "start_time": "2024-11-21T21:26:36.839Z"
      },
      {
        "duration": 8,
        "start_time": "2024-11-21T21:26:37.844Z"
      },
      {
        "duration": 4,
        "start_time": "2024-11-21T21:26:42.231Z"
      },
      {
        "duration": 7360,
        "start_time": "2024-11-21T21:26:43.367Z"
      },
      {
        "duration": 3,
        "start_time": "2024-11-21T21:26:58.008Z"
      },
      {
        "duration": 17749,
        "start_time": "2024-11-21T21:26:58.672Z"
      },
      {
        "duration": 21,
        "start_time": "2024-11-21T21:27:30.715Z"
      },
      {
        "duration": 3,
        "start_time": "2024-11-21T21:32:05.969Z"
      },
      {
        "duration": 7,
        "start_time": "2024-11-21T21:32:16.641Z"
      },
      {
        "duration": 41,
        "start_time": "2024-11-21T21:32:17.152Z"
      },
      {
        "duration": 705,
        "start_time": "2024-11-21T21:32:19.985Z"
      },
      {
        "duration": 3,
        "start_time": "2024-11-21T21:32:21.225Z"
      },
      {
        "duration": 4,
        "start_time": "2024-11-21T21:32:21.616Z"
      },
      {
        "duration": 7413,
        "start_time": "2024-11-21T21:32:22.064Z"
      },
      {
        "duration": 6,
        "start_time": "2024-11-21T21:32:29.479Z"
      },
      {
        "duration": 17286,
        "start_time": "2024-11-21T21:32:31.847Z"
      },
      {
        "duration": 22,
        "start_time": "2024-11-21T21:32:49.897Z"
      },
      {
        "duration": 3,
        "start_time": "2024-11-21T21:36:05.354Z"
      },
      {
        "duration": 2394,
        "start_time": "2024-11-21T21:37:56.795Z"
      },
      {
        "duration": 733,
        "start_time": "2024-11-21T21:37:59.192Z"
      },
      {
        "duration": 4,
        "start_time": "2024-11-21T21:37:59.926Z"
      },
      {
        "duration": 11,
        "start_time": "2024-11-21T21:37:59.932Z"
      },
      {
        "duration": 2453,
        "start_time": "2024-11-21T21:38:08.130Z"
      },
      {
        "duration": 689,
        "start_time": "2024-11-21T21:38:10.586Z"
      },
      {
        "duration": 3,
        "start_time": "2024-11-21T21:38:11.279Z"
      },
      {
        "duration": 11,
        "start_time": "2024-11-21T21:38:11.284Z"
      },
      {
        "duration": 7092,
        "start_time": "2024-11-21T21:38:11.297Z"
      },
      {
        "duration": 6,
        "start_time": "2024-11-21T21:38:21.465Z"
      },
      {
        "duration": 3,
        "start_time": "2024-11-21T21:38:58.608Z"
      },
      {
        "duration": 17105,
        "start_time": "2024-11-21T21:38:58.864Z"
      },
      {
        "duration": 20,
        "start_time": "2024-11-21T21:39:15.970Z"
      },
      {
        "duration": 3,
        "start_time": "2024-11-21T21:40:59.009Z"
      },
      {
        "duration": 2458,
        "start_time": "2024-11-21T21:41:14.259Z"
      },
      {
        "duration": 831,
        "start_time": "2024-11-21T21:41:16.721Z"
      },
      {
        "duration": 3,
        "start_time": "2024-11-21T21:41:17.553Z"
      },
      {
        "duration": 20,
        "start_time": "2024-11-21T21:41:17.558Z"
      },
      {
        "duration": 7326,
        "start_time": "2024-11-21T21:41:17.580Z"
      },
      {
        "duration": 6,
        "start_time": "2024-11-21T21:41:24.908Z"
      },
      {
        "duration": 3,
        "start_time": "2024-11-21T21:41:29.905Z"
      },
      {
        "duration": 17429,
        "start_time": "2024-11-21T21:41:30.433Z"
      },
      {
        "duration": 21,
        "start_time": "2024-11-21T21:41:51.050Z"
      },
      {
        "duration": 3,
        "start_time": "2024-11-21T21:42:04.377Z"
      },
      {
        "duration": 76,
        "start_time": "2024-11-21T21:45:21.145Z"
      },
      {
        "duration": 3,
        "start_time": "2024-11-21T21:45:23.949Z"
      },
      {
        "duration": 8,
        "start_time": "2024-11-21T21:45:24.116Z"
      },
      {
        "duration": 2512,
        "start_time": "2024-11-21T21:45:51.171Z"
      },
      {
        "duration": 803,
        "start_time": "2024-11-21T21:45:53.686Z"
      },
      {
        "duration": 3,
        "start_time": "2024-11-21T21:45:54.491Z"
      },
      {
        "duration": 17,
        "start_time": "2024-11-21T21:45:54.496Z"
      },
      {
        "duration": 7202,
        "start_time": "2024-11-21T21:45:54.516Z"
      },
      {
        "duration": 6,
        "start_time": "2024-11-21T21:46:01.719Z"
      },
      {
        "duration": 3,
        "start_time": "2024-11-21T21:46:06.507Z"
      },
      {
        "duration": 17081,
        "start_time": "2024-11-21T21:46:07.098Z"
      },
      {
        "duration": 2537,
        "start_time": "2024-11-21T21:46:45.094Z"
      },
      {
        "duration": 786,
        "start_time": "2024-11-21T21:46:47.633Z"
      },
      {
        "duration": 4,
        "start_time": "2024-11-21T21:46:48.420Z"
      },
      {
        "duration": 31,
        "start_time": "2024-11-21T21:46:48.425Z"
      },
      {
        "duration": 8503,
        "start_time": "2024-11-21T21:46:48.458Z"
      },
      {
        "duration": 6,
        "start_time": "2024-11-21T21:46:56.963Z"
      },
      {
        "duration": 3,
        "start_time": "2024-11-21T21:47:00.031Z"
      },
      {
        "duration": 2559,
        "start_time": "2024-11-21T21:47:17.775Z"
      },
      {
        "duration": 777,
        "start_time": "2024-11-21T21:47:20.337Z"
      },
      {
        "duration": 3,
        "start_time": "2024-11-21T21:47:21.116Z"
      },
      {
        "duration": 35,
        "start_time": "2024-11-21T21:47:21.121Z"
      },
      {
        "duration": 7906,
        "start_time": "2024-11-21T21:47:21.159Z"
      },
      {
        "duration": 6,
        "start_time": "2024-11-21T21:47:29.066Z"
      },
      {
        "duration": 3,
        "start_time": "2024-11-21T21:47:31.711Z"
      },
      {
        "duration": 17617,
        "start_time": "2024-11-21T21:47:32.302Z"
      },
      {
        "duration": 11697,
        "start_time": "2024-11-21T21:48:23.778Z"
      },
      {
        "duration": 3691,
        "start_time": "2024-11-21T21:49:19.141Z"
      },
      {
        "duration": 3043,
        "start_time": "2024-11-22T07:20:53.135Z"
      },
      {
        "duration": 976,
        "start_time": "2024-11-22T07:20:56.180Z"
      },
      {
        "duration": 6,
        "start_time": "2024-11-22T07:20:57.774Z"
      },
      {
        "duration": 4,
        "start_time": "2024-11-22T07:20:57.992Z"
      },
      {
        "duration": 8507,
        "start_time": "2024-11-22T07:20:58.226Z"
      },
      {
        "duration": 6,
        "start_time": "2024-11-22T07:21:06.735Z"
      },
      {
        "duration": 31,
        "start_time": "2024-11-22T07:21:06.742Z"
      },
      {
        "duration": 17215,
        "start_time": "2024-11-22T07:21:06.776Z"
      },
      {
        "duration": 11958,
        "start_time": "2024-11-22T07:21:27.063Z"
      },
      {
        "duration": 3668,
        "start_time": "2024-11-22T07:21:46.197Z"
      },
      {
        "duration": 3,
        "start_time": "2024-11-22T07:29:17.708Z"
      },
      {
        "duration": 2521,
        "start_time": "2024-11-22T07:32:05.141Z"
      },
      {
        "duration": 4,
        "start_time": "2024-11-22T07:32:07.665Z"
      },
      {
        "duration": 14,
        "start_time": "2024-11-22T07:32:07.670Z"
      },
      {
        "duration": 8,
        "start_time": "2024-11-22T07:32:07.686Z"
      },
      {
        "duration": 5,
        "start_time": "2024-11-22T07:32:07.696Z"
      },
      {
        "duration": 5,
        "start_time": "2024-11-22T07:32:07.703Z"
      },
      {
        "duration": 3,
        "start_time": "2024-11-22T07:32:16.078Z"
      },
      {
        "duration": 2456,
        "start_time": "2024-11-22T07:32:26.473Z"
      },
      {
        "duration": 722,
        "start_time": "2024-11-22T07:32:28.931Z"
      },
      {
        "duration": 2,
        "start_time": "2024-11-22T07:32:29.655Z"
      },
      {
        "duration": 4,
        "start_time": "2024-11-22T07:32:29.659Z"
      },
      {
        "duration": 5319,
        "start_time": "2024-11-22T07:32:29.670Z"
      },
      {
        "duration": 5,
        "start_time": "2024-11-22T07:32:34.991Z"
      },
      {
        "duration": 3,
        "start_time": "2024-11-22T07:32:37.244Z"
      },
      {
        "duration": 16745,
        "start_time": "2024-11-22T07:32:37.433Z"
      },
      {
        "duration": 11184,
        "start_time": "2024-11-22T07:33:03.190Z"
      },
      {
        "duration": 3756,
        "start_time": "2024-11-22T07:33:16.550Z"
      },
      {
        "duration": 82,
        "start_time": "2024-11-22T07:36:01.292Z"
      },
      {
        "duration": 3,
        "start_time": "2024-11-22T07:36:06.379Z"
      },
      {
        "duration": 84,
        "start_time": "2024-11-22T07:36:06.944Z"
      },
      {
        "duration": 3,
        "start_time": "2024-11-22T07:38:20.286Z"
      },
      {
        "duration": 110,
        "start_time": "2024-11-22T07:38:20.663Z"
      },
      {
        "duration": 2,
        "start_time": "2024-11-22T07:38:38.888Z"
      },
      {
        "duration": 245,
        "start_time": "2024-11-22T07:38:39.049Z"
      },
      {
        "duration": 3,
        "start_time": "2024-11-22T07:39:01.414Z"
      },
      {
        "duration": 1131,
        "start_time": "2024-11-22T07:39:01.798Z"
      },
      {
        "duration": 2,
        "start_time": "2024-11-22T07:39:22.822Z"
      },
      {
        "duration": 390,
        "start_time": "2024-11-22T07:39:23.234Z"
      },
      {
        "duration": 5,
        "start_time": "2024-11-22T07:39:31.795Z"
      },
      {
        "duration": 245,
        "start_time": "2024-11-22T07:39:32.146Z"
      },
      {
        "duration": 243,
        "start_time": "2024-11-22T07:41:21.047Z"
      },
      {
        "duration": 8,
        "start_time": "2024-11-22T07:42:36.377Z"
      },
      {
        "duration": 508,
        "start_time": "2024-11-22T07:42:52.617Z"
      },
      {
        "duration": 39,
        "start_time": "2024-11-22T07:42:56.925Z"
      },
      {
        "duration": 17,
        "start_time": "2024-11-22T07:43:33.386Z"
      },
      {
        "duration": 16,
        "start_time": "2024-11-22T07:43:49.556Z"
      },
      {
        "duration": 15,
        "start_time": "2024-11-22T07:44:02.338Z"
      },
      {
        "duration": 7,
        "start_time": "2024-11-22T07:44:21.002Z"
      },
      {
        "duration": 15,
        "start_time": "2024-11-22T07:44:26.312Z"
      },
      {
        "duration": 167,
        "start_time": "2024-11-22T07:46:15.660Z"
      },
      {
        "duration": 178,
        "start_time": "2024-11-22T07:47:06.043Z"
      },
      {
        "duration": 156,
        "start_time": "2024-11-22T07:47:11.005Z"
      },
      {
        "duration": 185,
        "start_time": "2024-11-22T07:47:29.401Z"
      },
      {
        "duration": 3,
        "start_time": "2024-11-22T08:18:27.194Z"
      },
      {
        "duration": 89,
        "start_time": "2024-11-22T08:18:56.576Z"
      },
      {
        "duration": 2,
        "start_time": "2024-11-22T08:19:04.350Z"
      },
      {
        "duration": 83,
        "start_time": "2024-11-22T08:19:04.577Z"
      },
      {
        "duration": 3,
        "start_time": "2024-11-22T08:19:42.167Z"
      },
      {
        "duration": 470,
        "start_time": "2024-11-22T08:19:42.401Z"
      },
      {
        "duration": 8,
        "start_time": "2024-11-22T08:19:52.049Z"
      },
      {
        "duration": 7,
        "start_time": "2024-11-22T08:22:29.061Z"
      },
      {
        "duration": 10,
        "start_time": "2024-11-22T08:25:17.787Z"
      },
      {
        "duration": 8,
        "start_time": "2024-11-22T08:25:22.194Z"
      },
      {
        "duration": 12,
        "start_time": "2024-11-22T08:25:31.608Z"
      },
      {
        "duration": 3,
        "start_time": "2024-11-22T08:29:02.128Z"
      },
      {
        "duration": 80,
        "start_time": "2024-11-22T08:29:02.482Z"
      },
      {
        "duration": 2,
        "start_time": "2024-11-22T08:29:14.134Z"
      },
      {
        "duration": 6189,
        "start_time": "2024-11-22T08:29:14.478Z"
      },
      {
        "duration": 7,
        "start_time": "2024-11-22T08:29:24.673Z"
      },
      {
        "duration": 13,
        "start_time": "2024-11-22T08:29:33.089Z"
      },
      {
        "duration": 8,
        "start_time": "2024-11-22T08:30:17.252Z"
      },
      {
        "duration": 1623,
        "start_time": "2024-11-22T18:13:50.192Z"
      },
      {
        "duration": 4,
        "start_time": "2024-11-22T18:13:52.331Z"
      },
      {
        "duration": 14,
        "start_time": "2024-11-22T18:13:52.715Z"
      },
      {
        "duration": 7535,
        "start_time": "2024-11-22T18:13:53.406Z"
      },
      {
        "duration": 3,
        "start_time": "2024-11-22T18:14:02.890Z"
      },
      {
        "duration": 17757,
        "start_time": "2024-11-22T18:14:03.353Z"
      },
      {
        "duration": 12348,
        "start_time": "2024-11-22T18:14:34.354Z"
      },
      {
        "duration": 3912,
        "start_time": "2024-11-22T18:15:01.428Z"
      },
      {
        "duration": 3,
        "start_time": "2024-11-22T18:15:27.834Z"
      },
      {
        "duration": 281,
        "start_time": "2024-11-22T18:15:28.307Z"
      },
      {
        "duration": 8,
        "start_time": "2024-11-22T18:15:28.726Z"
      },
      {
        "duration": 221,
        "start_time": "2024-11-22T18:15:30.058Z"
      },
      {
        "duration": 3,
        "start_time": "2024-11-22T18:17:04.423Z"
      },
      {
        "duration": 6437,
        "start_time": "2024-11-22T18:17:04.777Z"
      },
      {
        "duration": 7,
        "start_time": "2024-11-22T18:17:26.555Z"
      },
      {
        "duration": 8,
        "start_time": "2024-11-22T18:17:28.995Z"
      },
      {
        "duration": 11,
        "start_time": "2024-11-22T18:18:47.350Z"
      },
      {
        "duration": 2,
        "start_time": "2024-11-22T18:20:49.235Z"
      },
      {
        "duration": 5946,
        "start_time": "2024-11-22T18:20:49.630Z"
      },
      {
        "duration": 7,
        "start_time": "2024-11-22T18:20:55.578Z"
      },
      {
        "duration": 4,
        "start_time": "2024-11-22T18:21:20.635Z"
      },
      {
        "duration": 8537,
        "start_time": "2024-11-22T18:21:21.010Z"
      },
      {
        "duration": 7,
        "start_time": "2024-11-22T18:21:29.549Z"
      },
      {
        "duration": 8,
        "start_time": "2024-11-22T18:21:42.802Z"
      },
      {
        "duration": 3,
        "start_time": "2024-11-22T18:21:53.098Z"
      },
      {
        "duration": 6598,
        "start_time": "2024-11-22T18:21:55.291Z"
      },
      {
        "duration": 8,
        "start_time": "2024-11-22T18:22:05.066Z"
      },
      {
        "duration": 120,
        "start_time": "2024-11-22T18:29:24.373Z"
      },
      {
        "duration": 302,
        "start_time": "2024-11-22T18:29:31.509Z"
      },
      {
        "duration": 160,
        "start_time": "2024-11-22T18:32:49.671Z"
      },
      {
        "duration": 3,
        "start_time": "2024-11-22T18:32:59.910Z"
      },
      {
        "duration": 6374,
        "start_time": "2024-11-22T18:33:00.273Z"
      },
      {
        "duration": 7,
        "start_time": "2024-11-22T18:33:07.303Z"
      },
      {
        "duration": 137,
        "start_time": "2024-11-22T18:33:09.350Z"
      },
      {
        "duration": 140,
        "start_time": "2024-11-22T18:33:58.729Z"
      },
      {
        "duration": 12,
        "start_time": "2024-11-22T18:35:52.687Z"
      },
      {
        "duration": 536,
        "start_time": "2024-11-22T18:36:03.071Z"
      },
      {
        "duration": 357,
        "start_time": "2024-11-22T18:36:37.155Z"
      },
      {
        "duration": 13,
        "start_time": "2024-11-22T18:39:55.686Z"
      },
      {
        "duration": 16,
        "start_time": "2024-11-22T18:40:15.945Z"
      },
      {
        "duration": 19,
        "start_time": "2024-11-22T18:40:28.911Z"
      },
      {
        "duration": 572,
        "start_time": "2024-11-22T18:40:29.943Z"
      },
      {
        "duration": 708,
        "start_time": "2024-11-22T18:44:20.131Z"
      },
      {
        "duration": 364,
        "start_time": "2024-11-22T18:48:12.089Z"
      },
      {
        "duration": 364,
        "start_time": "2024-11-22T18:50:22.528Z"
      },
      {
        "duration": 366,
        "start_time": "2024-11-22T18:50:32.090Z"
      },
      {
        "duration": 423,
        "start_time": "2024-11-22T18:50:35.887Z"
      },
      {
        "duration": 93,
        "start_time": "2024-11-22T18:55:57.636Z"
      },
      {
        "duration": 454,
        "start_time": "2024-11-22T18:56:01.450Z"
      },
      {
        "duration": 3,
        "start_time": "2024-11-22T19:01:10.195Z"
      },
      {
        "duration": 2,
        "start_time": "2024-11-22T19:02:04.564Z"
      },
      {
        "duration": 159,
        "start_time": "2024-11-22T19:02:05.293Z"
      },
      {
        "duration": 3,
        "start_time": "2024-11-22T19:02:37.398Z"
      },
      {
        "duration": 516,
        "start_time": "2024-11-22T19:02:37.878Z"
      },
      {
        "duration": 7,
        "start_time": "2024-11-22T19:02:44.469Z"
      },
      {
        "duration": 401,
        "start_time": "2024-11-22T19:04:35.580Z"
      },
      {
        "duration": 99,
        "start_time": "2024-11-22T19:08:03.928Z"
      },
      {
        "duration": 4,
        "start_time": "2024-11-22T19:23:06.064Z"
      },
      {
        "duration": 143,
        "start_time": "2024-11-22T19:23:35.328Z"
      },
      {
        "duration": 10,
        "start_time": "2024-11-22T19:24:14.063Z"
      },
      {
        "duration": 141,
        "start_time": "2024-11-22T19:24:20.446Z"
      },
      {
        "duration": 9,
        "start_time": "2024-11-22T19:24:20.862Z"
      },
      {
        "duration": 3,
        "start_time": "2024-11-22T19:25:47.384Z"
      },
      {
        "duration": 139,
        "start_time": "2024-11-22T19:25:47.759Z"
      },
      {
        "duration": 8,
        "start_time": "2024-11-22T19:25:47.951Z"
      },
      {
        "duration": 3,
        "start_time": "2024-11-22T19:25:54.527Z"
      },
      {
        "duration": 9,
        "start_time": "2024-11-22T19:26:21.950Z"
      },
      {
        "duration": 42,
        "start_time": "2024-11-22T19:26:22.760Z"
      },
      {
        "duration": 1407,
        "start_time": "2024-11-22T19:26:29.703Z"
      },
      {
        "duration": 3,
        "start_time": "2024-11-22T19:26:32.502Z"
      },
      {
        "duration": 3,
        "start_time": "2024-11-22T19:26:32.991Z"
      },
      {
        "duration": 8022,
        "start_time": "2024-11-22T19:26:33.574Z"
      },
      {
        "duration": 3,
        "start_time": "2024-11-22T19:26:47.095Z"
      },
      {
        "duration": 29585,
        "start_time": "2024-11-22T19:26:47.800Z"
      },
      {
        "duration": 17,
        "start_time": "2024-11-22T19:27:18.960Z"
      },
      {
        "duration": 3,
        "start_time": "2024-11-22T19:27:38.279Z"
      },
      {
        "duration": 138,
        "start_time": "2024-11-22T19:27:38.790Z"
      },
      {
        "duration": 7,
        "start_time": "2024-11-22T19:27:39.547Z"
      },
      {
        "duration": 3,
        "start_time": "2024-11-22T19:28:06.171Z"
      },
      {
        "duration": 198,
        "start_time": "2024-11-22T19:28:06.593Z"
      },
      {
        "duration": 3,
        "start_time": "2024-11-22T19:28:12.983Z"
      },
      {
        "duration": 1369,
        "start_time": "2024-11-22T19:28:44.215Z"
      },
      {
        "duration": 4,
        "start_time": "2024-11-22T19:28:45.586Z"
      },
      {
        "duration": 3,
        "start_time": "2024-11-22T19:28:46.346Z"
      },
      {
        "duration": 7226,
        "start_time": "2024-11-22T19:28:46.838Z"
      },
      {
        "duration": 3,
        "start_time": "2024-11-22T19:29:00.185Z"
      },
      {
        "duration": 29758,
        "start_time": "2024-11-22T19:29:00.693Z"
      },
      {
        "duration": 25,
        "start_time": "2024-11-22T19:29:47.881Z"
      },
      {
        "duration": 3,
        "start_time": "2024-11-22T19:30:28.428Z"
      },
      {
        "duration": 248,
        "start_time": "2024-11-22T19:30:28.941Z"
      },
      {
        "duration": 6,
        "start_time": "2024-11-22T19:30:42.726Z"
      },
      {
        "duration": 1247,
        "start_time": "2024-11-22T19:30:43.200Z"
      },
      {
        "duration": 25,
        "start_time": "2024-11-22T19:30:46.104Z"
      },
      {
        "duration": 15,
        "start_time": "2024-11-22T19:44:51.252Z"
      },
      {
        "duration": 528,
        "start_time": "2024-11-22T19:47:03.130Z"
      },
      {
        "duration": 4,
        "start_time": "2024-11-22T19:47:53.372Z"
      },
      {
        "duration": 142,
        "start_time": "2024-11-22T20:40:41.095Z"
      },
      {
        "duration": 151,
        "start_time": "2024-11-22T20:43:38.889Z"
      },
      {
        "duration": 4,
        "start_time": "2024-11-22T20:43:46.871Z"
      },
      {
        "duration": 4,
        "start_time": "2024-11-22T20:44:15.504Z"
      },
      {
        "duration": 3,
        "start_time": "2024-11-22T20:44:57.643Z"
      },
      {
        "duration": 1321,
        "start_time": "2024-11-22T20:44:58.424Z"
      },
      {
        "duration": 13,
        "start_time": "2024-11-22T20:45:01.528Z"
      },
      {
        "duration": 4,
        "start_time": "2024-11-22T20:45:02.040Z"
      },
      {
        "duration": 122,
        "start_time": "2024-11-22T20:45:02.881Z"
      },
      {
        "duration": 16,
        "start_time": "2024-11-22T20:45:31.821Z"
      },
      {
        "duration": 30,
        "start_time": "2024-11-22T20:47:06.823Z"
      },
      {
        "duration": 153,
        "start_time": "2024-11-22T20:47:25.272Z"
      },
      {
        "duration": 5,
        "start_time": "2024-11-22T20:47:36.541Z"
      },
      {
        "duration": 29,
        "start_time": "2024-11-22T20:47:41.289Z"
      },
      {
        "duration": 20,
        "start_time": "2024-11-22T20:47:57.640Z"
      },
      {
        "duration": 39,
        "start_time": "2024-11-22T20:48:03.695Z"
      },
      {
        "duration": 39,
        "start_time": "2024-11-22T20:48:11.871Z"
      },
      {
        "duration": 4,
        "start_time": "2024-11-22T20:48:17.266Z"
      },
      {
        "duration": 65,
        "start_time": "2024-11-22T20:49:58.288Z"
      },
      {
        "duration": 47,
        "start_time": "2024-11-22T20:51:41.264Z"
      },
      {
        "duration": 46,
        "start_time": "2024-11-22T20:51:49.077Z"
      },
      {
        "duration": 46,
        "start_time": "2024-11-22T20:51:56.208Z"
      },
      {
        "duration": 180,
        "start_time": "2024-11-22T20:52:06.145Z"
      },
      {
        "duration": 3,
        "start_time": "2024-11-22T20:52:54.374Z"
      },
      {
        "duration": 3,
        "start_time": "2024-11-22T20:53:35.402Z"
      },
      {
        "duration": 174,
        "start_time": "2024-11-22T20:53:35.745Z"
      },
      {
        "duration": 120,
        "start_time": "2024-11-22T20:53:50.666Z"
      },
      {
        "duration": 2,
        "start_time": "2024-11-22T20:54:03.187Z"
      },
      {
        "duration": 160,
        "start_time": "2024-11-22T20:54:03.401Z"
      },
      {
        "duration": 114,
        "start_time": "2024-11-22T20:54:03.682Z"
      },
      {
        "duration": 3,
        "start_time": "2024-11-22T20:54:41.009Z"
      },
      {
        "duration": 1294,
        "start_time": "2024-11-22T20:54:41.877Z"
      },
      {
        "duration": 12,
        "start_time": "2024-11-22T20:54:45.098Z"
      },
      {
        "duration": 4,
        "start_time": "2024-11-22T20:54:45.473Z"
      },
      {
        "duration": 106,
        "start_time": "2024-11-22T20:54:45.992Z"
      },
      {
        "duration": 3,
        "start_time": "2024-11-22T20:54:47.225Z"
      },
      {
        "duration": 184,
        "start_time": "2024-11-22T20:54:47.634Z"
      },
      {
        "duration": 107,
        "start_time": "2024-11-22T20:54:48.068Z"
      },
      {
        "duration": 40,
        "start_time": "2024-11-22T20:54:55.080Z"
      },
      {
        "duration": 3,
        "start_time": "2024-11-22T20:55:25.769Z"
      },
      {
        "duration": 10,
        "start_time": "2024-11-22T20:55:37.458Z"
      },
      {
        "duration": 3,
        "start_time": "2024-11-22T20:55:49.269Z"
      },
      {
        "duration": 1692,
        "start_time": "2024-11-22T20:55:49.816Z"
      },
      {
        "duration": 13,
        "start_time": "2024-11-22T20:55:52.880Z"
      },
      {
        "duration": 4,
        "start_time": "2024-11-22T20:55:53.058Z"
      },
      {
        "duration": 113,
        "start_time": "2024-11-22T20:55:53.769Z"
      },
      {
        "duration": 109,
        "start_time": "2024-11-22T20:55:56.696Z"
      },
      {
        "duration": 4,
        "start_time": "2024-11-22T20:55:57.666Z"
      },
      {
        "duration": 172,
        "start_time": "2024-11-22T20:55:58.373Z"
      },
      {
        "duration": 116,
        "start_time": "2024-11-22T20:55:59.972Z"
      },
      {
        "duration": 6,
        "start_time": "2024-11-22T20:58:32.698Z"
      },
      {
        "duration": 117,
        "start_time": "2024-11-22T20:59:16.683Z"
      },
      {
        "duration": 183,
        "start_time": "2024-11-22T20:59:32.660Z"
      },
      {
        "duration": 130,
        "start_time": "2024-11-22T20:59:51.323Z"
      },
      {
        "duration": 128,
        "start_time": "2024-11-22T21:08:23.349Z"
      },
      {
        "duration": 124,
        "start_time": "2024-11-22T21:08:24.654Z"
      },
      {
        "duration": 129,
        "start_time": "2024-11-22T21:08:41.735Z"
      },
      {
        "duration": 123,
        "start_time": "2024-11-22T21:08:42.360Z"
      },
      {
        "duration": 3,
        "start_time": "2024-11-22T21:10:18.734Z"
      },
      {
        "duration": 1461,
        "start_time": "2024-11-22T21:10:19.369Z"
      },
      {
        "duration": 13,
        "start_time": "2024-11-22T21:10:21.532Z"
      },
      {
        "duration": 3,
        "start_time": "2024-11-22T21:10:22.013Z"
      },
      {
        "duration": 125,
        "start_time": "2024-11-22T21:10:22.783Z"
      },
      {
        "duration": 164,
        "start_time": "2024-11-22T21:11:12.614Z"
      },
      {
        "duration": 143,
        "start_time": "2024-11-22T21:11:13.718Z"
      },
      {
        "duration": 63,
        "start_time": "2024-11-22T21:11:20.981Z"
      },
      {
        "duration": 456,
        "start_time": "2024-11-22T21:11:26.022Z"
      },
      {
        "duration": 435,
        "start_time": "2024-11-22T21:12:36.827Z"
      },
      {
        "duration": 25712,
        "start_time": "2024-11-22T21:13:18.444Z"
      },
      {
        "duration": 32,
        "start_time": "2024-11-22T21:23:08.625Z"
      },
      {
        "duration": 6,
        "start_time": "2024-11-22T21:23:24.975Z"
      },
      {
        "duration": 49,
        "start_time": "2024-11-22T21:27:09.407Z"
      },
      {
        "duration": 4,
        "start_time": "2024-11-22T21:27:12.883Z"
      },
      {
        "duration": 14,
        "start_time": "2024-11-22T21:27:19.706Z"
      },
      {
        "duration": 11,
        "start_time": "2024-11-22T21:27:33.369Z"
      },
      {
        "duration": 257,
        "start_time": "2024-11-22T21:29:12.514Z"
      },
      {
        "duration": 5,
        "start_time": "2024-11-22T21:29:16.066Z"
      },
      {
        "duration": 143,
        "start_time": "2024-11-22T21:29:16.425Z"
      },
      {
        "duration": 6,
        "start_time": "2024-11-22T21:29:41.889Z"
      },
      {
        "duration": 5,
        "start_time": "2024-11-22T21:29:46.145Z"
      },
      {
        "duration": 51,
        "start_time": "2024-11-22T21:30:44.532Z"
      },
      {
        "duration": 49,
        "start_time": "2024-11-22T21:35:29.339Z"
      },
      {
        "duration": 7,
        "start_time": "2024-11-22T21:35:32.058Z"
      },
      {
        "duration": 7,
        "start_time": "2024-11-22T21:35:32.309Z"
      },
      {
        "duration": 2689,
        "start_time": "2024-11-22T21:35:55.910Z"
      },
      {
        "duration": 1617,
        "start_time": "2024-11-22T21:35:58.601Z"
      },
      {
        "duration": 3,
        "start_time": "2024-11-22T21:36:00.220Z"
      },
      {
        "duration": 35,
        "start_time": "2024-11-22T21:36:00.224Z"
      },
      {
        "duration": 7304,
        "start_time": "2024-11-22T21:36:00.261Z"
      },
      {
        "duration": 3,
        "start_time": "2024-11-22T21:36:07.567Z"
      },
      {
        "duration": 17283,
        "start_time": "2024-11-22T21:36:07.571Z"
      },
      {
        "duration": 11544,
        "start_time": "2024-11-22T21:36:24.856Z"
      },
      {
        "duration": 3023,
        "start_time": "2024-11-22T21:36:36.402Z"
      },
      {
        "duration": 2,
        "start_time": "2024-11-22T21:36:39.427Z"
      },
      {
        "duration": 279,
        "start_time": "2024-11-22T21:36:39.430Z"
      },
      {
        "duration": 8,
        "start_time": "2024-11-22T21:36:39.710Z"
      },
      {
        "duration": 194,
        "start_time": "2024-11-22T21:36:39.720Z"
      },
      {
        "duration": 3,
        "start_time": "2024-11-22T21:36:39.918Z"
      },
      {
        "duration": 6911,
        "start_time": "2024-11-22T21:36:39.922Z"
      },
      {
        "duration": 9,
        "start_time": "2024-11-22T21:36:46.835Z"
      },
      {
        "duration": 334,
        "start_time": "2024-11-22T21:36:46.845Z"
      },
      {
        "duration": 3,
        "start_time": "2024-11-22T21:36:47.180Z"
      },
      {
        "duration": 3729,
        "start_time": "2024-11-22T21:36:47.184Z"
      },
      {
        "duration": 7,
        "start_time": "2024-11-22T21:36:50.914Z"
      },
      {
        "duration": 332,
        "start_time": "2024-11-22T21:36:50.922Z"
      },
      {
        "duration": 3,
        "start_time": "2024-11-22T21:36:51.256Z"
      },
      {
        "duration": 1298,
        "start_time": "2024-11-22T21:36:51.261Z"
      },
      {
        "duration": 14,
        "start_time": "2024-11-22T21:36:52.561Z"
      },
      {
        "duration": 4,
        "start_time": "2024-11-22T21:36:52.577Z"
      },
      {
        "duration": 141,
        "start_time": "2024-11-22T21:36:52.583Z"
      },
      {
        "duration": 160,
        "start_time": "2024-11-22T21:36:52.726Z"
      },
      {
        "duration": 140,
        "start_time": "2024-11-22T21:36:52.887Z"
      },
      {
        "duration": 476,
        "start_time": "2024-11-22T21:36:53.029Z"
      },
      {
        "duration": 27,
        "start_time": "2024-11-22T21:36:57.563Z"
      },
      {
        "duration": 45,
        "start_time": "2024-11-22T21:36:58.219Z"
      },
      {
        "duration": 6,
        "start_time": "2024-11-22T21:37:35.724Z"
      },
      {
        "duration": 40,
        "start_time": "2024-11-22T21:38:59.115Z"
      },
      {
        "duration": 3147,
        "start_time": "2024-11-23T10:50:20.338Z"
      },
      {
        "duration": 1814,
        "start_time": "2024-11-23T10:50:23.487Z"
      },
      {
        "duration": 4,
        "start_time": "2024-11-23T10:50:25.302Z"
      },
      {
        "duration": 25,
        "start_time": "2024-11-23T10:50:25.308Z"
      },
      {
        "duration": 7385,
        "start_time": "2024-11-23T10:50:25.334Z"
      },
      {
        "duration": 7,
        "start_time": "2024-11-23T10:50:32.725Z"
      },
      {
        "duration": 17929,
        "start_time": "2024-11-23T10:50:32.734Z"
      },
      {
        "duration": 14831,
        "start_time": "2024-11-23T10:50:50.664Z"
      },
      {
        "duration": 3755,
        "start_time": "2024-11-23T10:51:05.497Z"
      },
      {
        "duration": 3,
        "start_time": "2024-11-23T10:51:09.259Z"
      },
      {
        "duration": 277,
        "start_time": "2024-11-23T10:51:09.263Z"
      },
      {
        "duration": 10,
        "start_time": "2024-11-23T10:51:09.542Z"
      },
      {
        "duration": 217,
        "start_time": "2024-11-23T10:51:09.557Z"
      },
      {
        "duration": 3,
        "start_time": "2024-11-23T10:51:09.775Z"
      },
      {
        "duration": 6096,
        "start_time": "2024-11-23T10:51:09.779Z"
      },
      {
        "duration": 7,
        "start_time": "2024-11-23T10:51:15.877Z"
      },
      {
        "duration": 467,
        "start_time": "2024-11-23T10:51:15.887Z"
      },
      {
        "duration": 3,
        "start_time": "2024-11-23T10:51:16.359Z"
      },
      {
        "duration": 510,
        "start_time": "2024-11-23T10:51:16.363Z"
      },
      {
        "duration": 7,
        "start_time": "2024-11-23T10:51:16.875Z"
      },
      {
        "duration": 381,
        "start_time": "2024-11-23T10:51:16.883Z"
      },
      {
        "duration": 4,
        "start_time": "2024-11-23T10:51:17.266Z"
      },
      {
        "duration": 1394,
        "start_time": "2024-11-23T10:51:17.271Z"
      },
      {
        "duration": 14,
        "start_time": "2024-11-23T10:51:18.668Z"
      },
      {
        "duration": 8,
        "start_time": "2024-11-23T10:51:18.683Z"
      },
      {
        "duration": 169,
        "start_time": "2024-11-23T10:51:18.692Z"
      },
      {
        "duration": 195,
        "start_time": "2024-11-23T10:51:18.863Z"
      },
      {
        "duration": 159,
        "start_time": "2024-11-23T10:51:19.070Z"
      },
      {
        "duration": 573,
        "start_time": "2024-11-23T10:51:19.230Z"
      },
      {
        "duration": 43,
        "start_time": "2024-11-23T10:51:19.805Z"
      },
      {
        "duration": 110,
        "start_time": "2024-11-23T10:58:35.343Z"
      },
      {
        "duration": 337,
        "start_time": "2024-11-23T10:58:53.984Z"
      },
      {
        "duration": 15,
        "start_time": "2024-11-23T10:59:34.328Z"
      },
      {
        "duration": 235,
        "start_time": "2024-11-23T10:59:52.037Z"
      },
      {
        "duration": 5,
        "start_time": "2024-11-23T11:00:07.469Z"
      },
      {
        "duration": 2949,
        "start_time": "2024-11-23T11:02:23.310Z"
      },
      {
        "duration": 1879,
        "start_time": "2024-11-23T11:02:26.265Z"
      },
      {
        "duration": 9,
        "start_time": "2024-11-23T11:02:28.147Z"
      },
      {
        "duration": 7,
        "start_time": "2024-11-23T11:02:28.172Z"
      },
      {
        "duration": 8403,
        "start_time": "2024-11-23T11:02:28.184Z"
      },
      {
        "duration": 3,
        "start_time": "2024-11-23T11:02:36.589Z"
      },
      {
        "duration": 18952,
        "start_time": "2024-11-23T11:02:36.594Z"
      },
      {
        "duration": 14835,
        "start_time": "2024-11-23T11:02:55.554Z"
      },
      {
        "duration": 4012,
        "start_time": "2024-11-23T11:03:10.391Z"
      },
      {
        "duration": 3,
        "start_time": "2024-11-23T11:03:14.404Z"
      },
      {
        "duration": 278,
        "start_time": "2024-11-23T11:03:14.408Z"
      },
      {
        "duration": 7,
        "start_time": "2024-11-23T11:03:14.687Z"
      },
      {
        "duration": 294,
        "start_time": "2024-11-23T11:03:14.697Z"
      },
      {
        "duration": 3,
        "start_time": "2024-11-23T11:03:14.993Z"
      },
      {
        "duration": 3808,
        "start_time": "2024-11-23T11:03:14.997Z"
      },
      {
        "duration": 8,
        "start_time": "2024-11-23T11:03:18.806Z"
      },
      {
        "duration": 431,
        "start_time": "2024-11-23T11:03:18.815Z"
      },
      {
        "duration": 5,
        "start_time": "2024-11-23T11:03:19.248Z"
      },
      {
        "duration": 508,
        "start_time": "2024-11-23T11:03:19.255Z"
      },
      {
        "duration": 11,
        "start_time": "2024-11-23T11:03:19.764Z"
      },
      {
        "duration": 465,
        "start_time": "2024-11-23T11:03:19.780Z"
      },
      {
        "duration": 8,
        "start_time": "2024-11-23T11:03:20.247Z"
      },
      {
        "duration": 1483,
        "start_time": "2024-11-23T11:03:20.257Z"
      },
      {
        "duration": 38,
        "start_time": "2024-11-23T11:03:21.749Z"
      },
      {
        "duration": 9,
        "start_time": "2024-11-23T11:03:21.788Z"
      },
      {
        "duration": 192,
        "start_time": "2024-11-23T11:03:21.800Z"
      },
      {
        "duration": 215,
        "start_time": "2024-11-23T11:03:21.993Z"
      },
      {
        "duration": 175,
        "start_time": "2024-11-23T11:03:22.210Z"
      },
      {
        "duration": 584,
        "start_time": "2024-11-23T11:03:22.387Z"
      },
      {
        "duration": 28,
        "start_time": "2024-11-23T11:03:22.972Z"
      },
      {
        "duration": 39858,
        "start_time": "2024-11-23T11:03:46.795Z"
      },
      {
        "duration": 4,
        "start_time": "2024-11-23T11:07:16.507Z"
      },
      {
        "duration": 95,
        "start_time": "2024-11-23T11:07:45.372Z"
      },
      {
        "duration": 243,
        "start_time": "2024-11-23T11:08:15.333Z"
      },
      {
        "duration": 3104,
        "start_time": "2024-11-23T11:10:11.396Z"
      },
      {
        "duration": 1794,
        "start_time": "2024-11-23T11:10:14.502Z"
      },
      {
        "duration": 4,
        "start_time": "2024-11-23T11:10:16.297Z"
      },
      {
        "duration": 40,
        "start_time": "2024-11-23T11:10:16.303Z"
      },
      {
        "duration": 9963,
        "start_time": "2024-11-23T11:10:16.353Z"
      },
      {
        "duration": 8,
        "start_time": "2024-11-23T11:10:26.317Z"
      },
      {
        "duration": 19679,
        "start_time": "2024-11-23T11:10:26.327Z"
      },
      {
        "duration": 14964,
        "start_time": "2024-11-23T11:10:46.008Z"
      },
      {
        "duration": 4180,
        "start_time": "2024-11-23T11:11:00.974Z"
      },
      {
        "duration": 13,
        "start_time": "2024-11-23T11:11:05.159Z"
      },
      {
        "duration": 288,
        "start_time": "2024-11-23T11:11:05.177Z"
      },
      {
        "duration": 7,
        "start_time": "2024-11-23T11:11:05.467Z"
      },
      {
        "duration": 280,
        "start_time": "2024-11-23T11:11:05.476Z"
      },
      {
        "duration": 3,
        "start_time": "2024-11-23T11:11:05.762Z"
      },
      {
        "duration": 6482,
        "start_time": "2024-11-23T11:11:05.767Z"
      },
      {
        "duration": 22,
        "start_time": "2024-11-23T11:11:12.251Z"
      },
      {
        "duration": 447,
        "start_time": "2024-11-23T11:11:12.276Z"
      },
      {
        "duration": 7,
        "start_time": "2024-11-23T11:11:12.736Z"
      },
      {
        "duration": 525,
        "start_time": "2024-11-23T11:11:12.745Z"
      },
      {
        "duration": 8,
        "start_time": "2024-11-23T11:11:13.272Z"
      },
      {
        "duration": 407,
        "start_time": "2024-11-23T11:11:13.281Z"
      },
      {
        "duration": 2,
        "start_time": "2024-11-23T11:11:13.691Z"
      },
      {
        "duration": 1457,
        "start_time": "2024-11-23T11:11:13.695Z"
      },
      {
        "duration": 19,
        "start_time": "2024-11-23T11:11:15.154Z"
      },
      {
        "duration": 6,
        "start_time": "2024-11-23T11:11:15.175Z"
      },
      {
        "duration": 179,
        "start_time": "2024-11-23T11:11:15.184Z"
      },
      {
        "duration": 194,
        "start_time": "2024-11-23T11:11:15.365Z"
      },
      {
        "duration": 159,
        "start_time": "2024-11-23T11:11:15.561Z"
      },
      {
        "duration": 646,
        "start_time": "2024-11-23T11:11:15.722Z"
      },
      {
        "duration": 29,
        "start_time": "2024-11-23T11:11:16.373Z"
      },
      {
        "duration": 2,
        "start_time": "2024-11-23T11:11:16.404Z"
      },
      {
        "duration": 2999,
        "start_time": "2024-11-23T11:17:25.331Z"
      },
      {
        "duration": 1840,
        "start_time": "2024-11-23T11:17:28.332Z"
      },
      {
        "duration": 3,
        "start_time": "2024-11-23T11:17:30.175Z"
      },
      {
        "duration": 32,
        "start_time": "2024-11-23T11:17:30.180Z"
      },
      {
        "duration": 8275,
        "start_time": "2024-11-23T11:17:30.214Z"
      },
      {
        "duration": 5,
        "start_time": "2024-11-23T11:17:38.491Z"
      },
      {
        "duration": 19985,
        "start_time": "2024-11-23T11:17:38.498Z"
      },
      {
        "duration": 15196,
        "start_time": "2024-11-23T11:17:58.485Z"
      },
      {
        "duration": 4430,
        "start_time": "2024-11-23T11:18:13.683Z"
      },
      {
        "duration": 3,
        "start_time": "2024-11-23T11:18:18.114Z"
      },
      {
        "duration": 281,
        "start_time": "2024-11-23T11:18:18.123Z"
      },
      {
        "duration": 8,
        "start_time": "2024-11-23T11:18:18.406Z"
      },
      {
        "duration": 274,
        "start_time": "2024-11-23T11:18:18.418Z"
      },
      {
        "duration": 3,
        "start_time": "2024-11-23T11:18:18.694Z"
      },
      {
        "duration": 6291,
        "start_time": "2024-11-23T11:18:18.699Z"
      },
      {
        "duration": 7,
        "start_time": "2024-11-23T11:18:24.992Z"
      },
      {
        "duration": 406,
        "start_time": "2024-11-23T11:18:25.000Z"
      },
      {
        "duration": 3,
        "start_time": "2024-11-23T11:18:25.407Z"
      },
      {
        "duration": 527,
        "start_time": "2024-11-23T11:18:25.434Z"
      },
      {
        "duration": 17,
        "start_time": "2024-11-23T11:18:25.963Z"
      },
      {
        "duration": 482,
        "start_time": "2024-11-23T11:18:25.982Z"
      },
      {
        "duration": 8,
        "start_time": "2024-11-23T11:18:26.473Z"
      },
      {
        "duration": 1453,
        "start_time": "2024-11-23T11:18:26.483Z"
      },
      {
        "duration": 22,
        "start_time": "2024-11-23T11:18:27.938Z"
      },
      {
        "duration": 15,
        "start_time": "2024-11-23T11:18:27.962Z"
      },
      {
        "duration": 200,
        "start_time": "2024-11-23T11:18:27.980Z"
      },
      {
        "duration": 206,
        "start_time": "2024-11-23T11:18:28.187Z"
      },
      {
        "duration": 174,
        "start_time": "2024-11-23T11:18:28.395Z"
      },
      {
        "duration": 602,
        "start_time": "2024-11-23T11:18:28.571Z"
      },
      {
        "duration": 27,
        "start_time": "2024-11-23T11:18:29.182Z"
      },
      {
        "duration": 3,
        "start_time": "2024-11-23T11:18:29.210Z"
      },
      {
        "duration": 67498,
        "start_time": "2024-11-23T11:20:45.072Z"
      },
      {
        "duration": 21041,
        "start_time": "2024-11-23T11:24:53.850Z"
      },
      {
        "duration": 73,
        "start_time": "2024-11-23T11:25:48.195Z"
      },
      {
        "duration": 5,
        "start_time": "2024-11-23T11:25:48.955Z"
      },
      {
        "duration": 3116,
        "start_time": "2024-11-23T11:26:19.386Z"
      },
      {
        "duration": 1896,
        "start_time": "2024-11-23T11:26:22.504Z"
      },
      {
        "duration": 3,
        "start_time": "2024-11-23T11:26:24.402Z"
      },
      {
        "duration": 7,
        "start_time": "2024-11-23T11:26:24.406Z"
      },
      {
        "duration": 7760,
        "start_time": "2024-11-23T11:26:24.419Z"
      },
      {
        "duration": 5,
        "start_time": "2024-11-23T11:26:32.182Z"
      },
      {
        "duration": 20500,
        "start_time": "2024-11-23T11:26:32.188Z"
      },
      {
        "duration": 15272,
        "start_time": "2024-11-23T11:26:52.690Z"
      },
      {
        "duration": 4199,
        "start_time": "2024-11-23T11:27:07.968Z"
      },
      {
        "duration": 4,
        "start_time": "2024-11-23T11:27:12.170Z"
      },
      {
        "duration": 322,
        "start_time": "2024-11-23T11:27:12.176Z"
      },
      {
        "duration": 8,
        "start_time": "2024-11-23T11:27:12.500Z"
      },
      {
        "duration": 281,
        "start_time": "2024-11-23T11:27:12.509Z"
      },
      {
        "duration": 3,
        "start_time": "2024-11-23T11:27:12.792Z"
      },
      {
        "duration": 9767,
        "start_time": "2024-11-23T11:27:12.796Z"
      },
      {
        "duration": 8,
        "start_time": "2024-11-23T11:27:22.565Z"
      },
      {
        "duration": 402,
        "start_time": "2024-11-23T11:27:22.574Z"
      },
      {
        "duration": 3,
        "start_time": "2024-11-23T11:27:22.978Z"
      },
      {
        "duration": 519,
        "start_time": "2024-11-23T11:27:22.983Z"
      },
      {
        "duration": 8,
        "start_time": "2024-11-23T11:27:23.504Z"
      },
      {
        "duration": 407,
        "start_time": "2024-11-23T11:27:23.513Z"
      },
      {
        "duration": 14,
        "start_time": "2024-11-23T11:27:23.926Z"
      },
      {
        "duration": 1393,
        "start_time": "2024-11-23T11:27:23.946Z"
      },
      {
        "duration": 18,
        "start_time": "2024-11-23T11:27:25.341Z"
      },
      {
        "duration": 3,
        "start_time": "2024-11-23T11:27:25.361Z"
      },
      {
        "duration": 146,
        "start_time": "2024-11-23T11:27:25.366Z"
      },
      {
        "duration": 195,
        "start_time": "2024-11-23T11:27:25.513Z"
      },
      {
        "duration": 164,
        "start_time": "2024-11-23T11:27:25.710Z"
      },
      {
        "duration": 564,
        "start_time": "2024-11-23T11:27:25.876Z"
      },
      {
        "duration": 35,
        "start_time": "2024-11-23T11:27:26.442Z"
      },
      {
        "duration": 2,
        "start_time": "2024-11-23T11:27:26.480Z"
      },
      {
        "duration": 4,
        "start_time": "2024-11-23T11:27:31.369Z"
      },
      {
        "duration": 2799,
        "start_time": "2024-11-23T11:28:38.352Z"
      },
      {
        "duration": 1701,
        "start_time": "2024-11-23T11:28:41.160Z"
      },
      {
        "duration": 7,
        "start_time": "2024-11-23T11:28:42.863Z"
      },
      {
        "duration": 12,
        "start_time": "2024-11-23T11:28:42.871Z"
      },
      {
        "duration": 8260,
        "start_time": "2024-11-23T11:28:42.885Z"
      },
      {
        "duration": 6,
        "start_time": "2024-11-23T11:28:51.147Z"
      },
      {
        "duration": 18738,
        "start_time": "2024-11-23T11:28:51.159Z"
      },
      {
        "duration": 14179,
        "start_time": "2024-11-23T11:29:09.899Z"
      },
      {
        "duration": 3822,
        "start_time": "2024-11-23T11:29:24.079Z"
      },
      {
        "duration": 2,
        "start_time": "2024-11-23T11:29:27.903Z"
      },
      {
        "duration": 320,
        "start_time": "2024-11-23T11:29:27.907Z"
      },
      {
        "duration": 20,
        "start_time": "2024-11-23T11:29:28.234Z"
      },
      {
        "duration": 219,
        "start_time": "2024-11-23T11:29:28.258Z"
      },
      {
        "duration": 2,
        "start_time": "2024-11-23T11:29:28.480Z"
      },
      {
        "duration": 6294,
        "start_time": "2024-11-23T11:29:28.483Z"
      },
      {
        "duration": 8,
        "start_time": "2024-11-23T11:29:34.778Z"
      },
      {
        "duration": 439,
        "start_time": "2024-11-23T11:29:34.788Z"
      },
      {
        "duration": 6,
        "start_time": "2024-11-23T11:29:35.230Z"
      },
      {
        "duration": 526,
        "start_time": "2024-11-23T11:29:35.241Z"
      },
      {
        "duration": 10,
        "start_time": "2024-11-23T11:29:35.769Z"
      },
      {
        "duration": 540,
        "start_time": "2024-11-23T11:29:35.781Z"
      },
      {
        "duration": 9,
        "start_time": "2024-11-23T11:29:36.323Z"
      },
      {
        "duration": 1433,
        "start_time": "2024-11-23T11:29:36.333Z"
      },
      {
        "duration": 13,
        "start_time": "2024-11-23T11:29:37.768Z"
      },
      {
        "duration": 15,
        "start_time": "2024-11-23T11:29:37.783Z"
      },
      {
        "duration": 162,
        "start_time": "2024-11-23T11:29:37.800Z"
      },
      {
        "duration": 197,
        "start_time": "2024-11-23T11:29:37.964Z"
      },
      {
        "duration": 145,
        "start_time": "2024-11-23T11:29:38.162Z"
      },
      {
        "duration": 534,
        "start_time": "2024-11-23T11:29:38.321Z"
      },
      {
        "duration": 41,
        "start_time": "2024-11-23T11:29:38.857Z"
      },
      {
        "duration": 3,
        "start_time": "2024-11-23T11:29:38.900Z"
      },
      {
        "duration": 69,
        "start_time": "2024-11-23T11:30:19.042Z"
      },
      {
        "duration": 2874,
        "start_time": "2024-11-23T11:30:25.227Z"
      },
      {
        "duration": 1887,
        "start_time": "2024-11-23T11:30:28.103Z"
      },
      {
        "duration": 3,
        "start_time": "2024-11-23T11:30:29.992Z"
      },
      {
        "duration": 52,
        "start_time": "2024-11-23T11:30:29.997Z"
      },
      {
        "duration": 7545,
        "start_time": "2024-11-23T11:30:30.055Z"
      },
      {
        "duration": 4,
        "start_time": "2024-11-23T11:30:37.602Z"
      },
      {
        "duration": 19130,
        "start_time": "2024-11-23T11:30:37.608Z"
      },
      {
        "duration": 13913,
        "start_time": "2024-11-23T11:30:56.748Z"
      },
      {
        "duration": 4294,
        "start_time": "2024-11-23T11:31:10.663Z"
      },
      {
        "duration": 4,
        "start_time": "2024-11-23T11:31:14.959Z"
      },
      {
        "duration": 291,
        "start_time": "2024-11-23T11:31:14.965Z"
      },
      {
        "duration": 7,
        "start_time": "2024-11-23T11:31:15.258Z"
      },
      {
        "duration": 227,
        "start_time": "2024-11-23T11:31:15.266Z"
      },
      {
        "duration": 2,
        "start_time": "2024-11-23T11:31:15.496Z"
      },
      {
        "duration": 7078,
        "start_time": "2024-11-23T11:31:15.500Z"
      },
      {
        "duration": 8,
        "start_time": "2024-11-23T11:31:22.579Z"
      },
      {
        "duration": 400,
        "start_time": "2024-11-23T11:31:22.589Z"
      },
      {
        "duration": 3,
        "start_time": "2024-11-23T11:31:22.990Z"
      },
      {
        "duration": 3395,
        "start_time": "2024-11-23T11:31:22.995Z"
      },
      {
        "duration": 7,
        "start_time": "2024-11-23T11:31:26.392Z"
      },
      {
        "duration": 432,
        "start_time": "2024-11-23T11:31:26.401Z"
      },
      {
        "duration": 4,
        "start_time": "2024-11-23T11:31:26.835Z"
      },
      {
        "duration": 1399,
        "start_time": "2024-11-23T11:31:26.841Z"
      },
      {
        "duration": 23,
        "start_time": "2024-11-23T11:31:28.242Z"
      },
      {
        "duration": 10,
        "start_time": "2024-11-23T11:31:28.267Z"
      },
      {
        "duration": 164,
        "start_time": "2024-11-23T11:31:28.279Z"
      },
      {
        "duration": 191,
        "start_time": "2024-11-23T11:31:28.447Z"
      },
      {
        "duration": 154,
        "start_time": "2024-11-23T11:31:28.640Z"
      },
      {
        "duration": 542,
        "start_time": "2024-11-23T11:31:28.796Z"
      },
      {
        "duration": 32,
        "start_time": "2024-11-23T11:31:29.340Z"
      },
      {
        "duration": 10,
        "start_time": "2024-11-23T11:31:29.374Z"
      },
      {
        "duration": 75,
        "start_time": "2024-11-23T11:34:42.973Z"
      },
      {
        "duration": 2864,
        "start_time": "2024-11-23T11:34:47.187Z"
      },
      {
        "duration": 1674,
        "start_time": "2024-11-23T11:34:50.054Z"
      },
      {
        "duration": 3,
        "start_time": "2024-11-23T11:34:51.732Z"
      },
      {
        "duration": 9,
        "start_time": "2024-11-23T11:34:51.736Z"
      },
      {
        "duration": 8398,
        "start_time": "2024-11-23T11:34:51.747Z"
      },
      {
        "duration": 4,
        "start_time": "2024-11-23T11:35:00.146Z"
      },
      {
        "duration": 18307,
        "start_time": "2024-11-23T11:35:00.151Z"
      },
      {
        "duration": 14557,
        "start_time": "2024-11-23T11:35:18.460Z"
      },
      {
        "duration": 4245,
        "start_time": "2024-11-23T11:35:33.033Z"
      },
      {
        "duration": 2,
        "start_time": "2024-11-23T11:35:37.280Z"
      },
      {
        "duration": 282,
        "start_time": "2024-11-23T11:35:37.284Z"
      },
      {
        "duration": 10,
        "start_time": "2024-11-23T11:35:37.569Z"
      },
      {
        "duration": 325,
        "start_time": "2024-11-23T11:35:37.581Z"
      },
      {
        "duration": 31,
        "start_time": "2024-11-23T11:35:37.910Z"
      },
      {
        "duration": 6507,
        "start_time": "2024-11-23T11:35:37.950Z"
      },
      {
        "duration": 17,
        "start_time": "2024-11-23T11:35:44.460Z"
      },
      {
        "duration": 478,
        "start_time": "2024-11-23T11:35:44.480Z"
      },
      {
        "duration": 3,
        "start_time": "2024-11-23T11:35:44.960Z"
      },
      {
        "duration": 515,
        "start_time": "2024-11-23T11:35:44.965Z"
      },
      {
        "duration": 8,
        "start_time": "2024-11-23T11:35:45.482Z"
      },
      {
        "duration": 413,
        "start_time": "2024-11-23T11:35:45.491Z"
      },
      {
        "duration": 3,
        "start_time": "2024-11-23T11:35:45.906Z"
      },
      {
        "duration": 1398,
        "start_time": "2024-11-23T11:35:45.910Z"
      },
      {
        "duration": 24,
        "start_time": "2024-11-23T11:35:47.309Z"
      },
      {
        "duration": 27,
        "start_time": "2024-11-23T11:35:47.334Z"
      },
      {
        "duration": 143,
        "start_time": "2024-11-23T11:35:47.363Z"
      },
      {
        "duration": 269,
        "start_time": "2024-11-23T11:35:47.508Z"
      },
      {
        "duration": 190,
        "start_time": "2024-11-23T11:35:47.779Z"
      },
      {
        "duration": 576,
        "start_time": "2024-11-23T11:35:47.971Z"
      },
      {
        "duration": 33,
        "start_time": "2024-11-23T11:35:48.549Z"
      },
      {
        "duration": 4,
        "start_time": "2024-11-23T11:35:48.583Z"
      },
      {
        "duration": 3029,
        "start_time": "2024-11-23T11:44:06.280Z"
      },
      {
        "duration": 1839,
        "start_time": "2024-11-23T11:44:09.312Z"
      },
      {
        "duration": 4,
        "start_time": "2024-11-23T11:44:11.159Z"
      },
      {
        "duration": 10,
        "start_time": "2024-11-23T11:44:11.166Z"
      },
      {
        "duration": 7995,
        "start_time": "2024-11-23T11:44:11.178Z"
      },
      {
        "duration": 4,
        "start_time": "2024-11-23T11:44:19.175Z"
      },
      {
        "duration": 18978,
        "start_time": "2024-11-23T11:44:19.181Z"
      },
      {
        "duration": 13340,
        "start_time": "2024-11-23T11:44:38.161Z"
      },
      {
        "duration": 3640,
        "start_time": "2024-11-23T11:44:51.503Z"
      },
      {
        "duration": 2,
        "start_time": "2024-11-23T11:44:55.148Z"
      },
      {
        "duration": 294,
        "start_time": "2024-11-23T11:44:55.152Z"
      },
      {
        "duration": 7,
        "start_time": "2024-11-23T11:44:55.448Z"
      },
      {
        "duration": 227,
        "start_time": "2024-11-23T11:44:55.457Z"
      },
      {
        "duration": 3,
        "start_time": "2024-11-23T11:44:55.685Z"
      },
      {
        "duration": 5864,
        "start_time": "2024-11-23T11:44:55.690Z"
      },
      {
        "duration": 7,
        "start_time": "2024-11-23T11:45:01.556Z"
      },
      {
        "duration": 428,
        "start_time": "2024-11-23T11:45:01.565Z"
      },
      {
        "duration": 2,
        "start_time": "2024-11-23T11:45:01.995Z"
      },
      {
        "duration": 542,
        "start_time": "2024-11-23T11:45:01.999Z"
      },
      {
        "duration": 8,
        "start_time": "2024-11-23T11:45:02.548Z"
      },
      {
        "duration": 415,
        "start_time": "2024-11-23T11:45:02.558Z"
      },
      {
        "duration": 3,
        "start_time": "2024-11-23T11:45:02.975Z"
      },
      {
        "duration": 1399,
        "start_time": "2024-11-23T11:45:02.980Z"
      },
      {
        "duration": 14,
        "start_time": "2024-11-23T11:45:04.381Z"
      },
      {
        "duration": 13,
        "start_time": "2024-11-23T11:45:04.397Z"
      },
      {
        "duration": 164,
        "start_time": "2024-11-23T11:45:04.411Z"
      },
      {
        "duration": 187,
        "start_time": "2024-11-23T11:45:04.579Z"
      },
      {
        "duration": 142,
        "start_time": "2024-11-23T11:45:04.768Z"
      },
      {
        "duration": 510,
        "start_time": "2024-11-23T11:45:04.919Z"
      },
      {
        "duration": 32,
        "start_time": "2024-11-23T11:45:05.431Z"
      },
      {
        "duration": 23,
        "start_time": "2024-11-23T11:45:05.465Z"
      },
      {
        "duration": 2759,
        "start_time": "2024-11-23T12:39:59.783Z"
      },
      {
        "duration": 1749,
        "start_time": "2024-11-23T12:40:02.544Z"
      },
      {
        "duration": 6,
        "start_time": "2024-11-23T12:40:04.296Z"
      },
      {
        "duration": 50,
        "start_time": "2024-11-23T12:40:04.304Z"
      },
      {
        "duration": 9851,
        "start_time": "2024-11-23T12:40:04.357Z"
      },
      {
        "duration": 4,
        "start_time": "2024-11-23T12:40:14.211Z"
      },
      {
        "duration": 17838,
        "start_time": "2024-11-23T12:40:14.217Z"
      },
      {
        "duration": 13166,
        "start_time": "2024-11-23T12:40:32.056Z"
      },
      {
        "duration": 3563,
        "start_time": "2024-11-23T12:40:45.224Z"
      },
      {
        "duration": 3,
        "start_time": "2024-11-23T12:40:48.789Z"
      },
      {
        "duration": 270,
        "start_time": "2024-11-23T12:40:48.794Z"
      },
      {
        "duration": 8,
        "start_time": "2024-11-23T12:40:49.066Z"
      },
      {
        "duration": 202,
        "start_time": "2024-11-23T12:40:49.076Z"
      },
      {
        "duration": 3,
        "start_time": "2024-11-23T12:40:49.281Z"
      },
      {
        "duration": 984,
        "start_time": "2024-11-23T12:40:49.286Z"
      },
      {
        "duration": 8,
        "start_time": "2024-11-23T12:40:50.272Z"
      },
      {
        "duration": 437,
        "start_time": "2024-11-23T12:40:50.283Z"
      },
      {
        "duration": 5,
        "start_time": "2024-11-23T12:40:50.726Z"
      },
      {
        "duration": 527,
        "start_time": "2024-11-23T12:40:50.733Z"
      },
      {
        "duration": 8,
        "start_time": "2024-11-23T12:40:51.262Z"
      },
      {
        "duration": 379,
        "start_time": "2024-11-23T12:40:51.272Z"
      },
      {
        "duration": 3,
        "start_time": "2024-11-23T12:40:51.654Z"
      },
      {
        "duration": 1372,
        "start_time": "2024-11-23T12:40:51.659Z"
      },
      {
        "duration": 18,
        "start_time": "2024-11-23T12:40:53.034Z"
      },
      {
        "duration": 4,
        "start_time": "2024-11-23T12:40:53.053Z"
      },
      {
        "duration": 158,
        "start_time": "2024-11-23T12:40:53.059Z"
      },
      {
        "duration": 170,
        "start_time": "2024-11-23T12:40:53.225Z"
      },
      {
        "duration": 136,
        "start_time": "2024-11-23T12:40:53.397Z"
      },
      {
        "duration": 512,
        "start_time": "2024-11-23T12:40:53.535Z"
      },
      {
        "duration": 27,
        "start_time": "2024-11-23T12:40:54.049Z"
      },
      {
        "duration": 2,
        "start_time": "2024-11-23T12:40:54.078Z"
      },
      {
        "duration": 71822,
        "start_time": "2024-11-23T12:41:53.550Z"
      },
      {
        "duration": 23,
        "start_time": "2024-11-23T12:55:40.010Z"
      },
      {
        "duration": 2499,
        "start_time": "2024-11-23T13:12:20.982Z"
      },
      {
        "duration": 1516,
        "start_time": "2024-11-23T13:12:23.483Z"
      },
      {
        "duration": 3,
        "start_time": "2024-11-23T13:12:25.001Z"
      },
      {
        "duration": 10,
        "start_time": "2024-11-23T13:12:25.007Z"
      },
      {
        "duration": 7553,
        "start_time": "2024-11-23T13:12:25.019Z"
      },
      {
        "duration": 4,
        "start_time": "2024-11-23T13:12:32.573Z"
      },
      {
        "duration": 17400,
        "start_time": "2024-11-23T13:12:32.578Z"
      },
      {
        "duration": 11711,
        "start_time": "2024-11-23T13:12:49.980Z"
      },
      {
        "duration": 3010,
        "start_time": "2024-11-23T13:13:01.692Z"
      },
      {
        "duration": 2,
        "start_time": "2024-11-23T13:13:04.705Z"
      },
      {
        "duration": 310,
        "start_time": "2024-11-23T13:13:04.708Z"
      },
      {
        "duration": 7,
        "start_time": "2024-11-23T13:13:05.020Z"
      },
      {
        "duration": 279,
        "start_time": "2024-11-23T13:13:05.028Z"
      },
      {
        "duration": 9,
        "start_time": "2024-11-23T13:13:05.309Z"
      },
      {
        "duration": 8257,
        "start_time": "2024-11-23T13:13:05.320Z"
      },
      {
        "duration": 7,
        "start_time": "2024-11-23T13:13:13.579Z"
      },
      {
        "duration": 366,
        "start_time": "2024-11-23T13:13:13.588Z"
      },
      {
        "duration": 2,
        "start_time": "2024-11-23T13:13:13.956Z"
      },
      {
        "duration": 517,
        "start_time": "2024-11-23T13:13:13.960Z"
      },
      {
        "duration": 8,
        "start_time": "2024-11-23T13:13:14.478Z"
      },
      {
        "duration": 346,
        "start_time": "2024-11-23T13:13:14.488Z"
      },
      {
        "duration": 3,
        "start_time": "2024-11-23T13:13:14.836Z"
      },
      {
        "duration": 1239,
        "start_time": "2024-11-23T13:13:14.841Z"
      },
      {
        "duration": 13,
        "start_time": "2024-11-23T13:13:16.082Z"
      },
      {
        "duration": 13,
        "start_time": "2024-11-23T13:13:16.097Z"
      },
      {
        "duration": 154,
        "start_time": "2024-11-23T13:13:16.118Z"
      },
      {
        "duration": 174,
        "start_time": "2024-11-23T13:13:16.273Z"
      },
      {
        "duration": 132,
        "start_time": "2024-11-23T13:13:16.450Z"
      },
      {
        "duration": 489,
        "start_time": "2024-11-23T13:13:16.583Z"
      },
      {
        "duration": 133290,
        "start_time": "2024-11-23T13:15:10.201Z"
      },
      {
        "duration": 5,
        "start_time": "2024-11-23T13:34:09.570Z"
      },
      {
        "duration": 6,
        "start_time": "2024-11-23T14:13:48.283Z"
      },
      {
        "duration": 5,
        "start_time": "2024-11-23T14:24:52.196Z"
      },
      {
        "duration": 132,
        "start_time": "2024-11-23T14:24:58.115Z"
      },
      {
        "duration": 3,
        "start_time": "2024-11-23T14:25:33.100Z"
      },
      {
        "duration": 5,
        "start_time": "2024-11-23T15:24:28.507Z"
      },
      {
        "duration": 4,
        "start_time": "2024-11-23T15:47:43.856Z"
      },
      {
        "duration": 3,
        "start_time": "2024-11-23T16:01:24.796Z"
      },
      {
        "duration": 5,
        "start_time": "2024-11-23T16:01:38.242Z"
      },
      {
        "duration": 4,
        "start_time": "2024-11-23T16:01:47.587Z"
      },
      {
        "duration": 4,
        "start_time": "2024-11-23T16:01:52.309Z"
      },
      {
        "duration": 22,
        "start_time": "2024-11-23T16:02:20.828Z"
      },
      {
        "duration": 5,
        "start_time": "2024-11-23T16:03:13.371Z"
      },
      {
        "duration": 14,
        "start_time": "2024-11-23T16:04:04.062Z"
      },
      {
        "duration": 14,
        "start_time": "2024-11-23T16:08:18.452Z"
      },
      {
        "duration": 2624,
        "start_time": "2024-11-23T16:19:59.163Z"
      },
      {
        "duration": 1650,
        "start_time": "2024-11-23T16:20:01.790Z"
      },
      {
        "duration": 4,
        "start_time": "2024-11-23T16:20:03.442Z"
      },
      {
        "duration": 14,
        "start_time": "2024-11-23T16:20:03.447Z"
      },
      {
        "duration": 7773,
        "start_time": "2024-11-23T16:20:03.464Z"
      },
      {
        "duration": 3,
        "start_time": "2024-11-23T16:20:11.239Z"
      },
      {
        "duration": 17661,
        "start_time": "2024-11-23T16:20:11.243Z"
      },
      {
        "duration": 11919,
        "start_time": "2024-11-23T16:20:28.906Z"
      },
      {
        "duration": 3063,
        "start_time": "2024-11-23T16:20:40.827Z"
      },
      {
        "duration": 3,
        "start_time": "2024-11-23T16:20:43.892Z"
      },
      {
        "duration": 396,
        "start_time": "2024-11-23T16:20:43.896Z"
      },
      {
        "duration": 7,
        "start_time": "2024-11-23T16:20:44.294Z"
      },
      {
        "duration": 181,
        "start_time": "2024-11-23T16:20:44.302Z"
      },
      {
        "duration": 2,
        "start_time": "2024-11-23T16:20:44.486Z"
      },
      {
        "duration": 6651,
        "start_time": "2024-11-23T16:20:44.490Z"
      },
      {
        "duration": 8,
        "start_time": "2024-11-23T16:20:51.142Z"
      },
      {
        "duration": 336,
        "start_time": "2024-11-23T16:20:51.151Z"
      },
      {
        "duration": 2,
        "start_time": "2024-11-23T16:20:51.489Z"
      },
      {
        "duration": 656,
        "start_time": "2024-11-23T16:20:51.493Z"
      },
      {
        "duration": 9,
        "start_time": "2024-11-23T16:20:52.151Z"
      },
      {
        "duration": 358,
        "start_time": "2024-11-23T16:20:52.162Z"
      },
      {
        "duration": 3,
        "start_time": "2024-11-23T16:20:52.522Z"
      },
      {
        "duration": 1449,
        "start_time": "2024-11-23T16:20:52.526Z"
      },
      {
        "duration": 24,
        "start_time": "2024-11-23T16:20:53.977Z"
      },
      {
        "duration": 5,
        "start_time": "2024-11-23T16:20:54.002Z"
      },
      {
        "duration": 134,
        "start_time": "2024-11-23T16:20:54.018Z"
      },
      {
        "duration": 166,
        "start_time": "2024-11-23T16:20:54.154Z"
      },
      {
        "duration": 121,
        "start_time": "2024-11-23T16:20:54.322Z"
      },
      {
        "duration": 448,
        "start_time": "2024-11-23T16:20:54.444Z"
      },
      {
        "duration": 55,
        "start_time": "2024-11-23T16:24:31.634Z"
      },
      {
        "duration": 13,
        "start_time": "2024-11-23T16:24:48.720Z"
      },
      {
        "duration": 2475,
        "start_time": "2024-11-23T16:24:53.036Z"
      },
      {
        "duration": 1600,
        "start_time": "2024-11-23T16:24:55.513Z"
      },
      {
        "duration": 4,
        "start_time": "2024-11-23T16:24:57.114Z"
      },
      {
        "duration": 5,
        "start_time": "2024-11-23T16:24:57.119Z"
      },
      {
        "duration": 7127,
        "start_time": "2024-11-23T16:24:57.126Z"
      },
      {
        "duration": 4,
        "start_time": "2024-11-23T16:25:04.255Z"
      },
      {
        "duration": 17528,
        "start_time": "2024-11-23T16:25:04.260Z"
      },
      {
        "duration": 11829,
        "start_time": "2024-11-23T16:25:21.790Z"
      },
      {
        "duration": 3102,
        "start_time": "2024-11-23T16:25:33.621Z"
      },
      {
        "duration": 3,
        "start_time": "2024-11-23T16:25:36.724Z"
      },
      {
        "duration": 270,
        "start_time": "2024-11-23T16:25:36.728Z"
      },
      {
        "duration": 6,
        "start_time": "2024-11-23T16:25:37.000Z"
      },
      {
        "duration": 178,
        "start_time": "2024-11-23T16:25:37.007Z"
      },
      {
        "duration": 3,
        "start_time": "2024-11-23T16:25:37.189Z"
      },
      {
        "duration": 6838,
        "start_time": "2024-11-23T16:25:37.194Z"
      },
      {
        "duration": 8,
        "start_time": "2024-11-23T16:25:44.033Z"
      },
      {
        "duration": 341,
        "start_time": "2024-11-23T16:25:44.042Z"
      },
      {
        "duration": 2,
        "start_time": "2024-11-23T16:25:44.385Z"
      },
      {
        "duration": 509,
        "start_time": "2024-11-23T16:25:44.389Z"
      },
      {
        "duration": 7,
        "start_time": "2024-11-23T16:25:44.900Z"
      },
      {
        "duration": 317,
        "start_time": "2024-11-23T16:25:44.908Z"
      },
      {
        "duration": 3,
        "start_time": "2024-11-23T16:25:45.226Z"
      },
      {
        "duration": 1211,
        "start_time": "2024-11-23T16:25:45.230Z"
      },
      {
        "duration": 14,
        "start_time": "2024-11-23T16:25:46.442Z"
      },
      {
        "duration": 5,
        "start_time": "2024-11-23T16:25:46.457Z"
      },
      {
        "duration": 144,
        "start_time": "2024-11-23T16:25:46.464Z"
      },
      {
        "duration": 167,
        "start_time": "2024-11-23T16:25:46.609Z"
      },
      {
        "duration": 129,
        "start_time": "2024-11-23T16:25:46.779Z"
      },
      {
        "duration": 482,
        "start_time": "2024-11-23T16:25:46.910Z"
      },
      {
        "duration": 2503,
        "start_time": "2024-11-23T16:30:03.686Z"
      },
      {
        "duration": 1531,
        "start_time": "2024-11-23T16:30:06.192Z"
      },
      {
        "duration": 4,
        "start_time": "2024-11-23T16:30:07.725Z"
      },
      {
        "duration": 11,
        "start_time": "2024-11-23T16:30:07.732Z"
      },
      {
        "duration": 7411,
        "start_time": "2024-11-23T16:30:07.745Z"
      },
      {
        "duration": 3,
        "start_time": "2024-11-23T16:30:15.158Z"
      },
      {
        "duration": 16978,
        "start_time": "2024-11-23T16:30:15.163Z"
      },
      {
        "duration": 11727,
        "start_time": "2024-11-23T16:30:32.143Z"
      },
      {
        "duration": 2963,
        "start_time": "2024-11-23T16:30:43.872Z"
      },
      {
        "duration": 3,
        "start_time": "2024-11-23T16:30:46.838Z"
      },
      {
        "duration": 280,
        "start_time": "2024-11-23T16:30:46.843Z"
      },
      {
        "duration": 7,
        "start_time": "2024-11-23T16:30:47.125Z"
      },
      {
        "duration": 191,
        "start_time": "2024-11-23T16:30:47.133Z"
      },
      {
        "duration": 3,
        "start_time": "2024-11-23T16:30:47.325Z"
      },
      {
        "duration": 11287,
        "start_time": "2024-11-23T16:30:47.329Z"
      },
      {
        "duration": 7,
        "start_time": "2024-11-23T16:30:58.618Z"
      },
      {
        "duration": 350,
        "start_time": "2024-11-23T16:30:58.627Z"
      },
      {
        "duration": 3,
        "start_time": "2024-11-23T16:30:58.979Z"
      },
      {
        "duration": 523,
        "start_time": "2024-11-23T16:30:58.984Z"
      },
      {
        "duration": 10,
        "start_time": "2024-11-23T16:30:59.509Z"
      },
      {
        "duration": 373,
        "start_time": "2024-11-23T16:30:59.521Z"
      },
      {
        "duration": 3,
        "start_time": "2024-11-23T16:30:59.896Z"
      },
      {
        "duration": 1217,
        "start_time": "2024-11-23T16:30:59.900Z"
      },
      {
        "duration": 14,
        "start_time": "2024-11-23T16:31:01.119Z"
      },
      {
        "duration": 14,
        "start_time": "2024-11-23T16:31:01.134Z"
      },
      {
        "duration": 136,
        "start_time": "2024-11-23T16:31:01.150Z"
      },
      {
        "duration": 178,
        "start_time": "2024-11-23T16:31:01.288Z"
      },
      {
        "duration": 147,
        "start_time": "2024-11-23T16:31:01.477Z"
      },
      {
        "duration": 558,
        "start_time": "2024-11-23T16:31:01.626Z"
      },
      {
        "duration": 2510,
        "start_time": "2024-11-23T16:36:14.873Z"
      },
      {
        "duration": 1616,
        "start_time": "2024-11-23T16:36:17.385Z"
      },
      {
        "duration": 3,
        "start_time": "2024-11-23T16:36:19.002Z"
      },
      {
        "duration": 11,
        "start_time": "2024-11-23T16:36:19.007Z"
      },
      {
        "duration": 7711,
        "start_time": "2024-11-23T16:36:19.019Z"
      },
      {
        "duration": 3,
        "start_time": "2024-11-23T16:36:26.731Z"
      },
      {
        "duration": 17226,
        "start_time": "2024-11-23T16:36:26.736Z"
      },
      {
        "duration": 11838,
        "start_time": "2024-11-23T16:36:43.964Z"
      },
      {
        "duration": 3180,
        "start_time": "2024-11-23T16:36:55.803Z"
      },
      {
        "duration": 2,
        "start_time": "2024-11-23T16:36:58.986Z"
      },
      {
        "duration": 275,
        "start_time": "2024-11-23T16:36:58.990Z"
      },
      {
        "duration": 8,
        "start_time": "2024-11-23T16:36:59.266Z"
      },
      {
        "duration": 201,
        "start_time": "2024-11-23T16:36:59.276Z"
      },
      {
        "duration": 3,
        "start_time": "2024-11-23T16:36:59.478Z"
      },
      {
        "duration": 6424,
        "start_time": "2024-11-23T16:36:59.483Z"
      },
      {
        "duration": 9,
        "start_time": "2024-11-23T16:37:05.909Z"
      },
      {
        "duration": 388,
        "start_time": "2024-11-23T16:37:05.920Z"
      },
      {
        "duration": 3,
        "start_time": "2024-11-23T16:37:06.309Z"
      },
      {
        "duration": 510,
        "start_time": "2024-11-23T16:37:06.313Z"
      },
      {
        "duration": 7,
        "start_time": "2024-11-23T16:37:06.825Z"
      },
      {
        "duration": 333,
        "start_time": "2024-11-23T16:37:06.833Z"
      },
      {
        "duration": 3,
        "start_time": "2024-11-23T16:37:07.167Z"
      },
      {
        "duration": 1180,
        "start_time": "2024-11-23T16:37:07.172Z"
      },
      {
        "duration": 13,
        "start_time": "2024-11-23T16:37:08.354Z"
      },
      {
        "duration": 6,
        "start_time": "2024-11-23T16:37:08.369Z"
      },
      {
        "duration": 144,
        "start_time": "2024-11-23T16:37:08.376Z"
      },
      {
        "duration": 171,
        "start_time": "2024-11-23T16:37:08.522Z"
      },
      {
        "duration": 141,
        "start_time": "2024-11-23T16:37:08.696Z"
      },
      {
        "duration": 467,
        "start_time": "2024-11-23T16:39:03.477Z"
      },
      {
        "duration": 2877,
        "start_time": "2024-11-23T17:22:22.180Z"
      },
      {
        "duration": 1600,
        "start_time": "2024-11-23T17:22:25.059Z"
      },
      {
        "duration": 3,
        "start_time": "2024-11-23T17:22:26.661Z"
      },
      {
        "duration": 44,
        "start_time": "2024-11-23T17:22:26.666Z"
      },
      {
        "duration": 7171,
        "start_time": "2024-11-23T17:22:26.713Z"
      },
      {
        "duration": 3,
        "start_time": "2024-11-23T17:22:33.886Z"
      },
      {
        "duration": 17364,
        "start_time": "2024-11-23T17:22:33.891Z"
      },
      {
        "duration": 11725,
        "start_time": "2024-11-23T17:22:51.256Z"
      },
      {
        "duration": 2954,
        "start_time": "2024-11-23T17:23:02.983Z"
      },
      {
        "duration": 2,
        "start_time": "2024-11-23T17:23:05.939Z"
      },
      {
        "duration": 283,
        "start_time": "2024-11-23T17:23:05.943Z"
      },
      {
        "duration": 8,
        "start_time": "2024-11-23T17:23:06.228Z"
      },
      {
        "duration": 201,
        "start_time": "2024-11-23T17:23:06.238Z"
      },
      {
        "duration": 3,
        "start_time": "2024-11-23T17:23:06.443Z"
      },
      {
        "duration": 7405,
        "start_time": "2024-11-23T17:23:06.447Z"
      },
      {
        "duration": 8,
        "start_time": "2024-11-23T17:23:13.854Z"
      },
      {
        "duration": 338,
        "start_time": "2024-11-23T17:23:13.864Z"
      },
      {
        "duration": 13,
        "start_time": "2024-11-23T17:23:14.204Z"
      },
      {
        "duration": 6338,
        "start_time": "2024-11-23T17:23:14.219Z"
      },
      {
        "duration": 8,
        "start_time": "2024-11-23T17:23:20.559Z"
      },
      {
        "duration": 470,
        "start_time": "2024-11-23T17:23:20.569Z"
      },
      {
        "duration": 2,
        "start_time": "2024-11-23T17:23:21.041Z"
      },
      {
        "duration": 1178,
        "start_time": "2024-11-23T17:23:21.045Z"
      },
      {
        "duration": 13,
        "start_time": "2024-11-23T17:23:22.224Z"
      },
      {
        "duration": 4,
        "start_time": "2024-11-23T17:23:22.239Z"
      },
      {
        "duration": 133,
        "start_time": "2024-11-23T17:23:22.244Z"
      },
      {
        "duration": 159,
        "start_time": "2024-11-23T17:23:22.379Z"
      },
      {
        "duration": 124,
        "start_time": "2024-11-23T17:23:22.539Z"
      },
      {
        "duration": 460,
        "start_time": "2024-11-23T17:23:22.665Z"
      },
      {
        "duration": 110362,
        "start_time": "2024-11-23T17:28:03.474Z"
      },
      {
        "duration": 2442,
        "start_time": "2024-11-23T17:35:56.790Z"
      },
      {
        "duration": 1578,
        "start_time": "2024-11-23T17:35:59.234Z"
      },
      {
        "duration": 3,
        "start_time": "2024-11-23T17:36:00.813Z"
      },
      {
        "duration": 29,
        "start_time": "2024-11-23T17:36:00.818Z"
      },
      {
        "duration": 7688,
        "start_time": "2024-11-23T17:36:00.849Z"
      },
      {
        "duration": 4,
        "start_time": "2024-11-23T17:36:08.538Z"
      },
      {
        "duration": 17447,
        "start_time": "2024-11-23T17:36:08.543Z"
      },
      {
        "duration": 12095,
        "start_time": "2024-11-23T17:36:25.991Z"
      },
      {
        "duration": 3202,
        "start_time": "2024-11-23T17:36:38.087Z"
      },
      {
        "duration": 3,
        "start_time": "2024-11-23T17:36:41.290Z"
      },
      {
        "duration": 284,
        "start_time": "2024-11-23T17:36:41.294Z"
      },
      {
        "duration": 7,
        "start_time": "2024-11-23T17:36:41.580Z"
      },
      {
        "duration": 210,
        "start_time": "2024-11-23T17:36:41.588Z"
      },
      {
        "duration": 3,
        "start_time": "2024-11-23T17:36:41.801Z"
      },
      {
        "duration": 6505,
        "start_time": "2024-11-23T17:36:41.805Z"
      },
      {
        "duration": 8,
        "start_time": "2024-11-23T17:36:48.312Z"
      },
      {
        "duration": 340,
        "start_time": "2024-11-23T17:36:48.321Z"
      },
      {
        "duration": 2,
        "start_time": "2024-11-23T17:36:48.663Z"
      },
      {
        "duration": 513,
        "start_time": "2024-11-23T17:36:48.667Z"
      },
      {
        "duration": 9,
        "start_time": "2024-11-23T17:36:49.182Z"
      },
      {
        "duration": 358,
        "start_time": "2024-11-23T17:36:49.193Z"
      },
      {
        "duration": 3,
        "start_time": "2024-11-23T17:36:49.552Z"
      },
      {
        "duration": 1197,
        "start_time": "2024-11-23T17:36:49.556Z"
      },
      {
        "duration": 14,
        "start_time": "2024-11-23T17:36:50.755Z"
      },
      {
        "duration": 6,
        "start_time": "2024-11-23T17:36:50.770Z"
      },
      {
        "duration": 135,
        "start_time": "2024-11-23T17:36:50.778Z"
      },
      {
        "duration": 168,
        "start_time": "2024-11-23T17:36:50.918Z"
      },
      {
        "duration": 139,
        "start_time": "2024-11-23T17:36:51.088Z"
      },
      {
        "duration": 484,
        "start_time": "2024-11-23T17:36:51.229Z"
      },
      {
        "duration": 120191,
        "start_time": "2024-11-23T17:40:09.261Z"
      },
      {
        "duration": 4,
        "start_time": "2024-11-23T17:42:58.845Z"
      },
      {
        "duration": 2570,
        "start_time": "2024-11-23T17:45:06.529Z"
      },
      {
        "duration": 1634,
        "start_time": "2024-11-23T17:45:09.102Z"
      },
      {
        "duration": 3,
        "start_time": "2024-11-23T17:45:10.738Z"
      },
      {
        "duration": 8,
        "start_time": "2024-11-23T17:45:10.743Z"
      },
      {
        "duration": 8183,
        "start_time": "2024-11-23T17:45:10.753Z"
      },
      {
        "duration": 3,
        "start_time": "2024-11-23T17:45:18.938Z"
      },
      {
        "duration": 17822,
        "start_time": "2024-11-23T17:45:18.943Z"
      },
      {
        "duration": 12050,
        "start_time": "2024-11-23T17:45:36.767Z"
      },
      {
        "duration": 3044,
        "start_time": "2024-11-23T17:45:48.819Z"
      },
      {
        "duration": 2,
        "start_time": "2024-11-23T17:45:51.864Z"
      },
      {
        "duration": 296,
        "start_time": "2024-11-23T17:45:51.868Z"
      },
      {
        "duration": 6,
        "start_time": "2024-11-23T17:45:52.166Z"
      },
      {
        "duration": 195,
        "start_time": "2024-11-23T17:45:52.174Z"
      },
      {
        "duration": 2,
        "start_time": "2024-11-23T17:45:52.372Z"
      },
      {
        "duration": 7007,
        "start_time": "2024-11-23T17:45:52.375Z"
      },
      {
        "duration": 7,
        "start_time": "2024-11-23T17:45:59.384Z"
      },
      {
        "duration": 400,
        "start_time": "2024-11-23T17:45:59.393Z"
      },
      {
        "duration": 3,
        "start_time": "2024-11-23T17:45:59.795Z"
      },
      {
        "duration": 562,
        "start_time": "2024-11-23T17:45:59.799Z"
      },
      {
        "duration": 9,
        "start_time": "2024-11-23T17:46:00.363Z"
      },
      {
        "duration": 415,
        "start_time": "2024-11-23T17:46:00.374Z"
      },
      {
        "duration": 3,
        "start_time": "2024-11-23T17:46:00.791Z"
      },
      {
        "duration": 1276,
        "start_time": "2024-11-23T17:46:00.796Z"
      },
      {
        "duration": 14,
        "start_time": "2024-11-23T17:46:02.073Z"
      },
      {
        "duration": 7,
        "start_time": "2024-11-23T17:46:02.089Z"
      },
      {
        "duration": 153,
        "start_time": "2024-11-23T17:46:02.097Z"
      },
      {
        "duration": 181,
        "start_time": "2024-11-23T17:46:02.252Z"
      },
      {
        "duration": 139,
        "start_time": "2024-11-23T17:46:02.435Z"
      },
      {
        "duration": 534,
        "start_time": "2024-11-23T17:46:02.576Z"
      },
      {
        "duration": 2457,
        "start_time": "2024-11-23T17:48:25.063Z"
      },
      {
        "duration": 1546,
        "start_time": "2024-11-23T17:48:27.523Z"
      },
      {
        "duration": 3,
        "start_time": "2024-11-23T17:48:29.071Z"
      },
      {
        "duration": 10,
        "start_time": "2024-11-23T17:48:29.076Z"
      },
      {
        "duration": 7312,
        "start_time": "2024-11-23T17:48:29.088Z"
      },
      {
        "duration": 3,
        "start_time": "2024-11-23T17:48:36.401Z"
      },
      {
        "duration": 17074,
        "start_time": "2024-11-23T17:48:36.406Z"
      },
      {
        "duration": 12066,
        "start_time": "2024-11-23T17:48:53.482Z"
      },
      {
        "duration": 2987,
        "start_time": "2024-11-23T17:49:05.550Z"
      },
      {
        "duration": 3,
        "start_time": "2024-11-23T17:49:08.539Z"
      },
      {
        "duration": 280,
        "start_time": "2024-11-23T17:49:08.543Z"
      },
      {
        "duration": 7,
        "start_time": "2024-11-23T17:49:08.824Z"
      },
      {
        "duration": 187,
        "start_time": "2024-11-23T17:49:08.832Z"
      },
      {
        "duration": 2,
        "start_time": "2024-11-23T17:49:09.022Z"
      },
      {
        "duration": 6223,
        "start_time": "2024-11-23T17:49:09.026Z"
      },
      {
        "duration": 7,
        "start_time": "2024-11-23T17:49:15.251Z"
      },
      {
        "duration": 355,
        "start_time": "2024-11-23T17:49:15.259Z"
      },
      {
        "duration": 2,
        "start_time": "2024-11-23T17:49:15.618Z"
      },
      {
        "duration": 574,
        "start_time": "2024-11-23T17:49:15.622Z"
      },
      {
        "duration": 12,
        "start_time": "2024-11-23T17:49:16.197Z"
      },
      {
        "duration": 358,
        "start_time": "2024-11-23T17:49:16.211Z"
      },
      {
        "duration": 3,
        "start_time": "2024-11-23T17:49:16.570Z"
      },
      {
        "duration": 1248,
        "start_time": "2024-11-23T17:49:16.575Z"
      },
      {
        "duration": 14,
        "start_time": "2024-11-23T17:49:17.825Z"
      },
      {
        "duration": 15,
        "start_time": "2024-11-23T17:49:17.840Z"
      },
      {
        "duration": 152,
        "start_time": "2024-11-23T17:49:17.856Z"
      },
      {
        "duration": 180,
        "start_time": "2024-11-23T17:49:18.011Z"
      },
      {
        "duration": 136,
        "start_time": "2024-11-23T17:49:18.192Z"
      },
      {
        "duration": 468,
        "start_time": "2024-11-23T17:49:18.330Z"
      },
      {
        "duration": 53,
        "start_time": "2024-11-23T17:50:33.896Z"
      },
      {
        "duration": 2652,
        "start_time": "2024-11-23T17:50:38.583Z"
      },
      {
        "duration": 1569,
        "start_time": "2024-11-23T17:50:41.237Z"
      },
      {
        "duration": 3,
        "start_time": "2024-11-23T17:50:42.808Z"
      },
      {
        "duration": 5,
        "start_time": "2024-11-23T17:50:42.813Z"
      },
      {
        "duration": 7773,
        "start_time": "2024-11-23T17:50:42.820Z"
      },
      {
        "duration": 3,
        "start_time": "2024-11-23T17:50:50.595Z"
      },
      {
        "duration": 17401,
        "start_time": "2024-11-23T17:50:50.600Z"
      },
      {
        "duration": 12097,
        "start_time": "2024-11-23T17:51:08.003Z"
      },
      {
        "duration": 3016,
        "start_time": "2024-11-23T17:51:20.102Z"
      },
      {
        "duration": 2,
        "start_time": "2024-11-23T17:51:23.122Z"
      },
      {
        "duration": 287,
        "start_time": "2024-11-23T17:51:23.126Z"
      },
      {
        "duration": 7,
        "start_time": "2024-11-23T17:51:23.414Z"
      },
      {
        "duration": 192,
        "start_time": "2024-11-23T17:51:23.423Z"
      },
      {
        "duration": 2,
        "start_time": "2024-11-23T17:51:23.618Z"
      },
      {
        "duration": 6410,
        "start_time": "2024-11-23T17:51:23.622Z"
      },
      {
        "duration": 7,
        "start_time": "2024-11-23T17:51:30.034Z"
      },
      {
        "duration": 381,
        "start_time": "2024-11-23T17:51:30.043Z"
      },
      {
        "duration": 3,
        "start_time": "2024-11-23T17:51:30.425Z"
      },
      {
        "duration": 536,
        "start_time": "2024-11-23T17:51:30.430Z"
      },
      {
        "duration": 8,
        "start_time": "2024-11-23T17:51:30.968Z"
      },
      {
        "duration": 326,
        "start_time": "2024-11-23T17:51:30.977Z"
      },
      {
        "duration": 3,
        "start_time": "2024-11-23T17:51:31.305Z"
      },
      {
        "duration": 1201,
        "start_time": "2024-11-23T17:51:31.318Z"
      },
      {
        "duration": 15,
        "start_time": "2024-11-23T17:51:32.521Z"
      },
      {
        "duration": 19,
        "start_time": "2024-11-23T17:51:32.538Z"
      },
      {
        "duration": 138,
        "start_time": "2024-11-23T17:51:32.559Z"
      },
      {
        "duration": 169,
        "start_time": "2024-11-23T17:51:32.699Z"
      },
      {
        "duration": 152,
        "start_time": "2024-11-23T17:51:32.872Z"
      },
      {
        "duration": 486,
        "start_time": "2024-11-23T17:51:33.026Z"
      },
      {
        "duration": 2453,
        "start_time": "2024-11-23T17:53:01.849Z"
      },
      {
        "duration": 1527,
        "start_time": "2024-11-23T17:53:04.304Z"
      },
      {
        "duration": 3,
        "start_time": "2024-11-23T17:53:05.833Z"
      },
      {
        "duration": 38,
        "start_time": "2024-11-23T17:53:05.838Z"
      },
      {
        "duration": 8010,
        "start_time": "2024-11-23T17:53:05.880Z"
      },
      {
        "duration": 4,
        "start_time": "2024-11-23T17:53:13.892Z"
      },
      {
        "duration": 17241,
        "start_time": "2024-11-23T17:53:13.898Z"
      },
      {
        "duration": 12025,
        "start_time": "2024-11-23T17:53:31.140Z"
      },
      {
        "duration": 3043,
        "start_time": "2024-11-23T17:53:43.167Z"
      },
      {
        "duration": 2,
        "start_time": "2024-11-23T17:53:46.212Z"
      },
      {
        "duration": 274,
        "start_time": "2024-11-23T17:53:46.218Z"
      },
      {
        "duration": 6,
        "start_time": "2024-11-23T17:53:46.494Z"
      },
      {
        "duration": 221,
        "start_time": "2024-11-23T17:53:46.502Z"
      },
      {
        "duration": 2,
        "start_time": "2024-11-23T17:53:46.726Z"
      },
      {
        "duration": 6366,
        "start_time": "2024-11-23T17:53:46.729Z"
      },
      {
        "duration": 8,
        "start_time": "2024-11-23T17:53:53.096Z"
      },
      {
        "duration": 346,
        "start_time": "2024-11-23T17:53:53.105Z"
      },
      {
        "duration": 3,
        "start_time": "2024-11-23T17:53:53.453Z"
      },
      {
        "duration": 508,
        "start_time": "2024-11-23T17:53:53.458Z"
      },
      {
        "duration": 8,
        "start_time": "2024-11-23T17:53:53.968Z"
      },
      {
        "duration": 327,
        "start_time": "2024-11-23T17:53:53.977Z"
      },
      {
        "duration": 3,
        "start_time": "2024-11-23T17:53:54.305Z"
      },
      {
        "duration": 1173,
        "start_time": "2024-11-23T17:53:54.317Z"
      },
      {
        "duration": 14,
        "start_time": "2024-11-23T17:53:55.492Z"
      },
      {
        "duration": 3,
        "start_time": "2024-11-23T17:53:55.518Z"
      },
      {
        "duration": 140,
        "start_time": "2024-11-23T17:53:55.523Z"
      },
      {
        "duration": 181,
        "start_time": "2024-11-23T17:53:55.665Z"
      },
      {
        "duration": 128,
        "start_time": "2024-11-23T17:53:55.848Z"
      },
      {
        "duration": 513,
        "start_time": "2024-11-23T17:53:55.977Z"
      },
      {
        "duration": 2467,
        "start_time": "2024-11-23T17:56:26.634Z"
      },
      {
        "duration": 1581,
        "start_time": "2024-11-23T17:56:29.103Z"
      },
      {
        "duration": 3,
        "start_time": "2024-11-23T17:56:30.685Z"
      },
      {
        "duration": 13,
        "start_time": "2024-11-23T17:56:30.690Z"
      },
      {
        "duration": 6937,
        "start_time": "2024-11-23T17:56:30.704Z"
      },
      {
        "duration": 4,
        "start_time": "2024-11-23T17:56:37.642Z"
      },
      {
        "duration": 17422,
        "start_time": "2024-11-23T17:56:37.647Z"
      },
      {
        "duration": 12142,
        "start_time": "2024-11-23T17:56:55.071Z"
      },
      {
        "duration": 3037,
        "start_time": "2024-11-23T17:57:07.218Z"
      },
      {
        "duration": 2,
        "start_time": "2024-11-23T17:57:10.258Z"
      },
      {
        "duration": 277,
        "start_time": "2024-11-23T17:57:10.262Z"
      },
      {
        "duration": 6,
        "start_time": "2024-11-23T17:57:10.541Z"
      },
      {
        "duration": 199,
        "start_time": "2024-11-23T17:57:10.549Z"
      },
      {
        "duration": 3,
        "start_time": "2024-11-23T17:57:10.749Z"
      },
      {
        "duration": 6548,
        "start_time": "2024-11-23T17:57:10.754Z"
      },
      {
        "duration": 7,
        "start_time": "2024-11-23T17:57:17.304Z"
      },
      {
        "duration": 363,
        "start_time": "2024-11-23T17:57:17.313Z"
      },
      {
        "duration": 2,
        "start_time": "2024-11-23T17:57:17.678Z"
      },
      {
        "duration": 518,
        "start_time": "2024-11-23T17:57:17.682Z"
      },
      {
        "duration": 7,
        "start_time": "2024-11-23T17:57:18.202Z"
      },
      {
        "duration": 329,
        "start_time": "2024-11-23T17:57:18.210Z"
      },
      {
        "duration": 3,
        "start_time": "2024-11-23T17:57:18.540Z"
      },
      {
        "duration": 1189,
        "start_time": "2024-11-23T17:57:18.545Z"
      },
      {
        "duration": 14,
        "start_time": "2024-11-23T17:57:19.735Z"
      },
      {
        "duration": 11,
        "start_time": "2024-11-23T17:57:19.750Z"
      },
      {
        "duration": 138,
        "start_time": "2024-11-23T17:57:19.763Z"
      },
      {
        "duration": 174,
        "start_time": "2024-11-23T17:57:19.902Z"
      },
      {
        "duration": 125,
        "start_time": "2024-11-23T17:57:20.079Z"
      },
      {
        "duration": 497,
        "start_time": "2024-11-23T17:57:20.206Z"
      },
      {
        "duration": 2462,
        "start_time": "2024-11-23T18:01:30.319Z"
      },
      {
        "duration": 1588,
        "start_time": "2024-11-23T18:01:32.783Z"
      },
      {
        "duration": 3,
        "start_time": "2024-11-23T18:01:34.372Z"
      },
      {
        "duration": 14,
        "start_time": "2024-11-23T18:01:34.377Z"
      },
      {
        "duration": 7584,
        "start_time": "2024-11-23T18:01:34.393Z"
      },
      {
        "duration": 4,
        "start_time": "2024-11-23T18:01:41.978Z"
      },
      {
        "duration": 17653,
        "start_time": "2024-11-23T18:01:41.983Z"
      },
      {
        "duration": 12459,
        "start_time": "2024-11-23T18:01:59.637Z"
      },
      {
        "duration": 3091,
        "start_time": "2024-11-23T18:02:12.098Z"
      },
      {
        "duration": 2,
        "start_time": "2024-11-23T18:02:15.191Z"
      },
      {
        "duration": 283,
        "start_time": "2024-11-23T18:02:15.195Z"
      },
      {
        "duration": 13,
        "start_time": "2024-11-23T18:02:15.480Z"
      },
      {
        "duration": 223,
        "start_time": "2024-11-23T18:02:15.495Z"
      },
      {
        "duration": 3,
        "start_time": "2024-11-23T18:02:15.720Z"
      },
      {
        "duration": 6462,
        "start_time": "2024-11-23T18:02:15.724Z"
      },
      {
        "duration": 7,
        "start_time": "2024-11-23T18:02:22.188Z"
      },
      {
        "duration": 341,
        "start_time": "2024-11-23T18:02:22.197Z"
      },
      {
        "duration": 3,
        "start_time": "2024-11-23T18:02:22.539Z"
      },
      {
        "duration": 527,
        "start_time": "2024-11-23T18:02:22.543Z"
      },
      {
        "duration": 10,
        "start_time": "2024-11-23T18:02:23.072Z"
      },
      {
        "duration": 376,
        "start_time": "2024-11-23T18:02:23.084Z"
      },
      {
        "duration": 3,
        "start_time": "2024-11-23T18:02:23.462Z"
      },
      {
        "duration": 1218,
        "start_time": "2024-11-23T18:02:23.467Z"
      },
      {
        "duration": 13,
        "start_time": "2024-11-23T18:02:24.687Z"
      },
      {
        "duration": 7,
        "start_time": "2024-11-23T18:02:24.701Z"
      },
      {
        "duration": 136,
        "start_time": "2024-11-23T18:02:24.718Z"
      },
      {
        "duration": 189,
        "start_time": "2024-11-23T18:02:24.856Z"
      },
      {
        "duration": 147,
        "start_time": "2024-11-23T18:02:25.047Z"
      },
      {
        "duration": 518,
        "start_time": "2024-11-23T18:02:25.196Z"
      },
      {
        "duration": 2480,
        "start_time": "2024-11-23T18:03:52.992Z"
      },
      {
        "duration": 1535,
        "start_time": "2024-11-23T18:03:55.475Z"
      },
      {
        "duration": 3,
        "start_time": "2024-11-23T18:03:57.012Z"
      },
      {
        "duration": 7,
        "start_time": "2024-11-23T18:03:57.017Z"
      },
      {
        "duration": 7595,
        "start_time": "2024-11-23T18:03:57.026Z"
      },
      {
        "duration": 4,
        "start_time": "2024-11-23T18:04:04.623Z"
      },
      {
        "duration": 17505,
        "start_time": "2024-11-23T18:04:04.629Z"
      },
      {
        "duration": 11928,
        "start_time": "2024-11-23T18:04:22.136Z"
      },
      {
        "duration": 3059,
        "start_time": "2024-11-23T18:04:34.066Z"
      },
      {
        "duration": 3,
        "start_time": "2024-11-23T18:04:37.127Z"
      },
      {
        "duration": 278,
        "start_time": "2024-11-23T18:04:37.131Z"
      },
      {
        "duration": 7,
        "start_time": "2024-11-23T18:04:37.411Z"
      },
      {
        "duration": 189,
        "start_time": "2024-11-23T18:04:37.419Z"
      },
      {
        "duration": 8,
        "start_time": "2024-11-23T18:04:37.610Z"
      },
      {
        "duration": 7101,
        "start_time": "2024-11-23T18:04:37.619Z"
      },
      {
        "duration": 11,
        "start_time": "2024-11-23T18:04:44.722Z"
      },
      {
        "duration": 362,
        "start_time": "2024-11-23T18:04:44.735Z"
      },
      {
        "duration": 3,
        "start_time": "2024-11-23T18:04:45.099Z"
      },
      {
        "duration": 2955,
        "start_time": "2024-11-23T18:04:45.117Z"
      },
      {
        "duration": 7,
        "start_time": "2024-11-23T18:04:48.074Z"
      },
      {
        "duration": 400,
        "start_time": "2024-11-23T18:04:48.082Z"
      },
      {
        "duration": 3,
        "start_time": "2024-11-23T18:04:48.484Z"
      },
      {
        "duration": 1212,
        "start_time": "2024-11-23T18:04:48.488Z"
      },
      {
        "duration": 22,
        "start_time": "2024-11-23T18:04:49.703Z"
      },
      {
        "duration": 5,
        "start_time": "2024-11-23T18:04:49.727Z"
      },
      {
        "duration": 161,
        "start_time": "2024-11-23T18:04:49.733Z"
      },
      {
        "duration": 196,
        "start_time": "2024-11-23T18:04:49.896Z"
      },
      {
        "duration": 134,
        "start_time": "2024-11-23T18:04:50.095Z"
      },
      {
        "duration": 476,
        "start_time": "2024-11-23T18:04:50.231Z"
      },
      {
        "duration": 84165,
        "start_time": "2024-11-23T18:04:56.638Z"
      },
      {
        "duration": 127,
        "start_time": "2024-11-23T18:06:50.199Z"
      },
      {
        "duration": 1742,
        "start_time": "2024-11-23T18:15:50.464Z"
      },
      {
        "duration": 16,
        "start_time": "2024-11-23T18:16:38.499Z"
      },
      {
        "duration": 1645,
        "start_time": "2024-11-23T18:19:07.961Z"
      },
      {
        "duration": 1675,
        "start_time": "2024-11-23T18:19:20.120Z"
      },
      {
        "duration": 1040,
        "start_time": "2024-11-23T18:22:51.768Z"
      },
      {
        "duration": 12,
        "start_time": "2024-11-23T18:23:18.331Z"
      },
      {
        "duration": 10,
        "start_time": "2024-11-23T18:23:36.868Z"
      },
      {
        "duration": 12,
        "start_time": "2024-11-23T18:23:51.386Z"
      },
      {
        "duration": 4667,
        "start_time": "2024-11-23T18:24:06.349Z"
      },
      {
        "duration": 397,
        "start_time": "2024-11-23T18:24:12.915Z"
      },
      {
        "duration": 44,
        "start_time": "2024-11-23T18:24:18.131Z"
      },
      {
        "duration": 1109,
        "start_time": "2024-11-23T18:24:23.366Z"
      },
      {
        "duration": 11,
        "start_time": "2024-11-23T18:27:32.757Z"
      },
      {
        "duration": 3,
        "start_time": "2024-11-23T18:27:51.459Z"
      },
      {
        "duration": 4,
        "start_time": "2024-11-23T18:27:54.724Z"
      },
      {
        "duration": 18,
        "start_time": "2024-11-23T18:28:14.283Z"
      },
      {
        "duration": 4,
        "start_time": "2024-11-23T18:28:45.212Z"
      },
      {
        "duration": 16,
        "start_time": "2024-11-23T18:28:50.012Z"
      },
      {
        "duration": 15,
        "start_time": "2024-11-23T18:29:04.349Z"
      },
      {
        "duration": 2533,
        "start_time": "2024-11-23T18:55:56.169Z"
      },
      {
        "duration": 2519,
        "start_time": "2024-11-23T18:55:58.705Z"
      },
      {
        "duration": 2209,
        "start_time": "2024-11-23T18:56:01.226Z"
      },
      {
        "duration": 3,
        "start_time": "2024-11-23T18:56:03.437Z"
      },
      {
        "duration": 15,
        "start_time": "2024-11-23T18:56:03.441Z"
      },
      {
        "duration": 7234,
        "start_time": "2024-11-23T18:56:03.458Z"
      },
      {
        "duration": 4,
        "start_time": "2024-11-23T18:56:10.694Z"
      },
      {
        "duration": 18271,
        "start_time": "2024-11-23T18:56:10.700Z"
      },
      {
        "duration": 12241,
        "start_time": "2024-11-23T18:56:28.972Z"
      },
      {
        "duration": 3039,
        "start_time": "2024-11-23T18:56:41.219Z"
      },
      {
        "duration": 2,
        "start_time": "2024-11-23T18:56:44.260Z"
      },
      {
        "duration": 277,
        "start_time": "2024-11-23T18:56:44.263Z"
      },
      {
        "duration": 7,
        "start_time": "2024-11-23T18:56:44.541Z"
      },
      {
        "duration": 191,
        "start_time": "2024-11-23T18:56:44.550Z"
      },
      {
        "duration": 3,
        "start_time": "2024-11-23T18:56:44.743Z"
      },
      {
        "duration": 6430,
        "start_time": "2024-11-23T18:56:44.747Z"
      },
      {
        "duration": 7,
        "start_time": "2024-11-23T18:56:51.179Z"
      },
      {
        "duration": 320,
        "start_time": "2024-11-23T18:56:51.188Z"
      },
      {
        "duration": 2,
        "start_time": "2024-11-23T18:56:51.518Z"
      },
      {
        "duration": 509,
        "start_time": "2024-11-23T18:56:51.521Z"
      },
      {
        "duration": 7,
        "start_time": "2024-11-23T18:56:52.032Z"
      },
      {
        "duration": 325,
        "start_time": "2024-11-23T18:56:52.040Z"
      },
      {
        "duration": 2,
        "start_time": "2024-11-23T18:56:52.367Z"
      },
      {
        "duration": 1376,
        "start_time": "2024-11-23T18:56:52.371Z"
      },
      {
        "duration": 14,
        "start_time": "2024-11-23T18:56:53.749Z"
      },
      {
        "duration": 54,
        "start_time": "2024-11-23T18:56:53.764Z"
      },
      {
        "duration": 232,
        "start_time": "2024-11-23T18:56:53.820Z"
      },
      {
        "duration": 375,
        "start_time": "2024-11-23T18:56:54.055Z"
      },
      {
        "duration": 230,
        "start_time": "2024-11-23T18:56:54.432Z"
      },
      {
        "duration": 729,
        "start_time": "2024-11-23T18:56:54.664Z"
      },
      {
        "duration": 125980,
        "start_time": "2024-11-23T18:57:31.359Z"
      },
      {
        "duration": 1445,
        "start_time": "2024-11-23T19:00:00.408Z"
      },
      {
        "duration": 160,
        "start_time": "2024-11-23T19:10:11.384Z"
      },
      {
        "duration": 9,
        "start_time": "2024-11-23T19:11:41.982Z"
      },
      {
        "duration": 13,
        "start_time": "2024-11-23T19:13:39.512Z"
      },
      {
        "duration": 10,
        "start_time": "2024-11-23T19:14:12.992Z"
      },
      {
        "duration": 3,
        "start_time": "2024-11-23T19:14:22.320Z"
      },
      {
        "duration": 14,
        "start_time": "2024-11-23T19:14:46.883Z"
      },
      {
        "duration": 5,
        "start_time": "2024-11-23T19:15:09.320Z"
      },
      {
        "duration": 13,
        "start_time": "2024-11-23T19:16:20.779Z"
      },
      {
        "duration": 5,
        "start_time": "2024-11-23T19:16:35.993Z"
      },
      {
        "duration": 11,
        "start_time": "2024-11-23T19:17:02.560Z"
      },
      {
        "duration": 6,
        "start_time": "2024-11-23T19:17:14.089Z"
      },
      {
        "duration": 5,
        "start_time": "2024-11-23T19:17:17.081Z"
      },
      {
        "duration": 12,
        "start_time": "2024-11-23T19:18:33.633Z"
      },
      {
        "duration": 13,
        "start_time": "2024-11-23T19:18:40.357Z"
      },
      {
        "duration": 10,
        "start_time": "2024-11-23T19:18:47.153Z"
      },
      {
        "duration": 12,
        "start_time": "2024-11-23T19:18:51.818Z"
      },
      {
        "duration": 9,
        "start_time": "2024-11-23T19:19:13.609Z"
      },
      {
        "duration": 12,
        "start_time": "2024-11-23T19:19:21.673Z"
      },
      {
        "duration": 5,
        "start_time": "2024-11-23T19:19:27.146Z"
      },
      {
        "duration": 11,
        "start_time": "2024-11-23T19:20:07.720Z"
      },
      {
        "duration": 10,
        "start_time": "2024-11-23T19:20:31.050Z"
      },
      {
        "duration": 873,
        "start_time": "2024-11-23T19:22:35.857Z"
      },
      {
        "duration": 673,
        "start_time": "2024-11-23T19:23:06.019Z"
      },
      {
        "duration": 17,
        "start_time": "2024-11-23T19:23:14.186Z"
      },
      {
        "duration": 4,
        "start_time": "2024-11-23T19:25:01.186Z"
      },
      {
        "duration": 13,
        "start_time": "2024-11-23T19:27:27.930Z"
      },
      {
        "duration": 990,
        "start_time": "2024-11-23T19:27:41.165Z"
      },
      {
        "duration": 5,
        "start_time": "2024-11-23T19:27:45.084Z"
      },
      {
        "duration": 900,
        "start_time": "2024-11-23T19:28:05.148Z"
      },
      {
        "duration": 1692,
        "start_time": "2024-11-23T19:31:33.724Z"
      },
      {
        "duration": 10,
        "start_time": "2024-11-23T19:31:53.724Z"
      },
      {
        "duration": 11,
        "start_time": "2024-11-23T19:33:46.132Z"
      },
      {
        "duration": 134,
        "start_time": "2024-11-23T19:33:52.723Z"
      },
      {
        "duration": 1671,
        "start_time": "2024-11-23T19:35:43.324Z"
      },
      {
        "duration": 6833,
        "start_time": "2024-11-23T19:36:16.988Z"
      },
      {
        "duration": 1703,
        "start_time": "2024-11-23T19:36:47.741Z"
      },
      {
        "duration": 3209,
        "start_time": "2024-11-23T19:37:07.283Z"
      },
      {
        "duration": 2516,
        "start_time": "2024-11-23T19:37:10.495Z"
      },
      {
        "duration": 2508,
        "start_time": "2024-11-23T19:37:13.014Z"
      },
      {
        "duration": 1979,
        "start_time": "2024-11-23T19:37:15.524Z"
      },
      {
        "duration": 4,
        "start_time": "2024-11-23T19:37:17.505Z"
      },
      {
        "duration": 9,
        "start_time": "2024-11-23T19:37:17.510Z"
      },
      {
        "duration": 7285,
        "start_time": "2024-11-23T19:37:17.520Z"
      },
      {
        "duration": 3,
        "start_time": "2024-11-23T19:37:24.807Z"
      },
      {
        "duration": 17429,
        "start_time": "2024-11-23T19:37:24.811Z"
      },
      {
        "duration": 11857,
        "start_time": "2024-11-23T19:37:42.242Z"
      },
      {
        "duration": 3577,
        "start_time": "2024-11-23T19:37:54.100Z"
      },
      {
        "duration": 3,
        "start_time": "2024-11-23T19:37:57.678Z"
      },
      {
        "duration": 276,
        "start_time": "2024-11-23T19:37:57.682Z"
      },
      {
        "duration": 7,
        "start_time": "2024-11-23T19:37:57.961Z"
      },
      {
        "duration": 194,
        "start_time": "2024-11-23T19:37:57.970Z"
      },
      {
        "duration": 2,
        "start_time": "2024-11-23T19:37:58.166Z"
      },
      {
        "duration": 6536,
        "start_time": "2024-11-23T19:37:58.170Z"
      },
      {
        "duration": 8,
        "start_time": "2024-11-23T19:38:04.708Z"
      },
      {
        "duration": 346,
        "start_time": "2024-11-23T19:38:04.718Z"
      },
      {
        "duration": 3,
        "start_time": "2024-11-23T19:38:05.066Z"
      },
      {
        "duration": 531,
        "start_time": "2024-11-23T19:38:05.071Z"
      },
      {
        "duration": 8,
        "start_time": "2024-11-23T19:38:05.604Z"
      },
      {
        "duration": 370,
        "start_time": "2024-11-23T19:38:05.613Z"
      },
      {
        "duration": 3,
        "start_time": "2024-11-23T19:38:05.984Z"
      },
      {
        "duration": 1209,
        "start_time": "2024-11-23T19:38:05.989Z"
      },
      {
        "duration": 19,
        "start_time": "2024-11-23T19:38:07.200Z"
      },
      {
        "duration": 10,
        "start_time": "2024-11-23T19:38:07.221Z"
      },
      {
        "duration": 151,
        "start_time": "2024-11-23T19:38:07.233Z"
      },
      {
        "duration": 182,
        "start_time": "2024-11-23T19:38:07.385Z"
      },
      {
        "duration": 145,
        "start_time": "2024-11-23T19:38:07.570Z"
      },
      {
        "duration": 509,
        "start_time": "2024-11-23T19:38:07.717Z"
      },
      {
        "duration": 140,
        "start_time": "2024-11-23T19:47:07.469Z"
      },
      {
        "duration": 3068,
        "start_time": "2024-11-23T19:50:16.284Z"
      },
      {
        "duration": 2558,
        "start_time": "2024-11-23T19:50:19.355Z"
      },
      {
        "duration": 2585,
        "start_time": "2024-11-23T19:50:21.915Z"
      },
      {
        "duration": 2725,
        "start_time": "2024-11-23T19:50:24.502Z"
      },
      {
        "duration": 3,
        "start_time": "2024-11-23T19:50:27.229Z"
      },
      {
        "duration": 9,
        "start_time": "2024-11-23T19:50:27.234Z"
      },
      {
        "duration": 7643,
        "start_time": "2024-11-23T19:50:27.244Z"
      },
      {
        "duration": 4,
        "start_time": "2024-11-23T19:50:34.889Z"
      },
      {
        "duration": 17839,
        "start_time": "2024-11-23T19:50:34.894Z"
      },
      {
        "duration": 11685,
        "start_time": "2024-11-23T19:50:52.735Z"
      },
      {
        "duration": 3647,
        "start_time": "2024-11-23T19:51:04.422Z"
      },
      {
        "duration": 3,
        "start_time": "2024-11-23T19:51:08.071Z"
      },
      {
        "duration": 282,
        "start_time": "2024-11-23T19:51:08.075Z"
      },
      {
        "duration": 9,
        "start_time": "2024-11-23T19:51:08.360Z"
      },
      {
        "duration": 194,
        "start_time": "2024-11-23T19:51:08.370Z"
      },
      {
        "duration": 2,
        "start_time": "2024-11-23T19:51:08.566Z"
      },
      {
        "duration": 6465,
        "start_time": "2024-11-23T19:51:08.570Z"
      },
      {
        "duration": 8,
        "start_time": "2024-11-23T19:51:15.036Z"
      },
      {
        "duration": 393,
        "start_time": "2024-11-23T19:51:15.045Z"
      },
      {
        "duration": 3,
        "start_time": "2024-11-23T19:51:15.440Z"
      },
      {
        "duration": 508,
        "start_time": "2024-11-23T19:51:15.444Z"
      },
      {
        "duration": 10,
        "start_time": "2024-11-23T19:51:15.954Z"
      },
      {
        "duration": 326,
        "start_time": "2024-11-23T19:51:15.966Z"
      },
      {
        "duration": 2,
        "start_time": "2024-11-23T19:51:16.294Z"
      },
      {
        "duration": 1236,
        "start_time": "2024-11-23T19:51:16.298Z"
      },
      {
        "duration": 14,
        "start_time": "2024-11-23T19:51:17.535Z"
      },
      {
        "duration": 11,
        "start_time": "2024-11-23T19:51:17.551Z"
      },
      {
        "duration": 147,
        "start_time": "2024-11-23T19:51:17.564Z"
      },
      {
        "duration": 176,
        "start_time": "2024-11-23T19:51:17.712Z"
      },
      {
        "duration": 135,
        "start_time": "2024-11-23T19:51:17.890Z"
      },
      {
        "duration": 480,
        "start_time": "2024-11-23T19:51:18.027Z"
      },
      {
        "duration": 3071,
        "start_time": "2024-11-23T19:52:42.757Z"
      },
      {
        "duration": 2462,
        "start_time": "2024-11-23T19:52:45.830Z"
      },
      {
        "duration": 2545,
        "start_time": "2024-11-23T19:52:48.295Z"
      },
      {
        "duration": 2596,
        "start_time": "2024-11-23T19:52:50.842Z"
      },
      {
        "duration": 3,
        "start_time": "2024-11-23T19:52:53.440Z"
      },
      {
        "duration": 14,
        "start_time": "2024-11-23T19:52:53.445Z"
      },
      {
        "duration": 7068,
        "start_time": "2024-11-23T19:52:53.460Z"
      },
      {
        "duration": 3,
        "start_time": "2024-11-23T19:53:00.530Z"
      },
      {
        "duration": 17377,
        "start_time": "2024-11-23T19:53:00.535Z"
      },
      {
        "duration": 11678,
        "start_time": "2024-11-23T19:53:17.917Z"
      },
      {
        "duration": 3692,
        "start_time": "2024-11-23T19:53:29.597Z"
      },
      {
        "duration": 2,
        "start_time": "2024-11-23T19:53:33.291Z"
      },
      {
        "duration": 275,
        "start_time": "2024-11-23T19:53:33.295Z"
      },
      {
        "duration": 7,
        "start_time": "2024-11-23T19:53:33.573Z"
      },
      {
        "duration": 191,
        "start_time": "2024-11-23T19:53:33.581Z"
      },
      {
        "duration": 3,
        "start_time": "2024-11-23T19:53:33.773Z"
      },
      {
        "duration": 6552,
        "start_time": "2024-11-23T19:53:33.777Z"
      },
      {
        "duration": 7,
        "start_time": "2024-11-23T19:53:40.331Z"
      },
      {
        "duration": 331,
        "start_time": "2024-11-23T19:53:40.340Z"
      },
      {
        "duration": 3,
        "start_time": "2024-11-23T19:53:40.673Z"
      },
      {
        "duration": 544,
        "start_time": "2024-11-23T19:53:40.677Z"
      },
      {
        "duration": 6,
        "start_time": "2024-11-23T19:53:41.223Z"
      },
      {
        "duration": 322,
        "start_time": "2024-11-23T19:53:41.231Z"
      },
      {
        "duration": 3,
        "start_time": "2024-11-23T19:53:41.554Z"
      },
      {
        "duration": 1170,
        "start_time": "2024-11-23T19:53:41.558Z"
      },
      {
        "duration": 12,
        "start_time": "2024-11-23T19:53:42.730Z"
      },
      {
        "duration": 10,
        "start_time": "2024-11-23T19:53:42.744Z"
      },
      {
        "duration": 148,
        "start_time": "2024-11-23T19:53:42.756Z"
      },
      {
        "duration": 197,
        "start_time": "2024-11-23T19:53:42.905Z"
      },
      {
        "duration": 130,
        "start_time": "2024-11-23T19:53:43.104Z"
      },
      {
        "duration": 468,
        "start_time": "2024-11-23T19:53:43.236Z"
      },
      {
        "duration": 2914,
        "start_time": "2024-11-23T19:54:34.060Z"
      },
      {
        "duration": 3118,
        "start_time": "2024-11-23T19:54:38.268Z"
      },
      {
        "duration": 2472,
        "start_time": "2024-11-23T19:54:41.388Z"
      },
      {
        "duration": 3530,
        "start_time": "2024-11-23T19:54:43.862Z"
      },
      {
        "duration": 5,
        "start_time": "2024-11-23T19:54:47.395Z"
      },
      {
        "duration": 2,
        "start_time": "2024-11-23T19:54:49.259Z"
      },
      {
        "duration": 2,
        "start_time": "2024-11-23T19:54:49.413Z"
      },
      {
        "duration": 7276,
        "start_time": "2024-11-23T19:54:49.565Z"
      },
      {
        "duration": 3,
        "start_time": "2024-11-23T19:54:56.844Z"
      },
      {
        "duration": 17550,
        "start_time": "2024-11-23T19:54:56.849Z"
      },
      {
        "duration": 11913,
        "start_time": "2024-11-23T19:55:14.401Z"
      },
      {
        "duration": 3771,
        "start_time": "2024-11-23T19:55:26.318Z"
      },
      {
        "duration": 2,
        "start_time": "2024-11-23T19:55:30.091Z"
      },
      {
        "duration": 293,
        "start_time": "2024-11-23T19:55:30.095Z"
      },
      {
        "duration": 7,
        "start_time": "2024-11-23T19:55:30.390Z"
      },
      {
        "duration": 189,
        "start_time": "2024-11-23T19:55:30.398Z"
      },
      {
        "duration": 2,
        "start_time": "2024-11-23T19:55:30.591Z"
      },
      {
        "duration": 6986,
        "start_time": "2024-11-23T19:55:30.595Z"
      },
      {
        "duration": 7,
        "start_time": "2024-11-23T19:55:37.583Z"
      },
      {
        "duration": 346,
        "start_time": "2024-11-23T19:55:37.592Z"
      },
      {
        "duration": 3,
        "start_time": "2024-11-23T19:55:37.940Z"
      },
      {
        "duration": 519,
        "start_time": "2024-11-23T19:55:37.945Z"
      },
      {
        "duration": 7,
        "start_time": "2024-11-23T19:55:38.466Z"
      },
      {
        "duration": 321,
        "start_time": "2024-11-23T19:55:38.475Z"
      },
      {
        "duration": 3,
        "start_time": "2024-11-23T19:55:38.798Z"
      },
      {
        "duration": 1210,
        "start_time": "2024-11-23T19:55:38.803Z"
      },
      {
        "duration": 14,
        "start_time": "2024-11-23T19:55:40.018Z"
      },
      {
        "duration": 8,
        "start_time": "2024-11-23T19:55:40.033Z"
      },
      {
        "duration": 145,
        "start_time": "2024-11-23T19:55:40.042Z"
      },
      {
        "duration": 167,
        "start_time": "2024-11-23T19:55:40.189Z"
      },
      {
        "duration": 133,
        "start_time": "2024-11-23T19:55:40.358Z"
      },
      {
        "duration": 489,
        "start_time": "2024-11-23T19:55:40.492Z"
      },
      {
        "duration": 2627,
        "start_time": "2024-11-23T19:57:57.129Z"
      },
      {
        "duration": 3,
        "start_time": "2024-11-23T19:57:59.758Z"
      },
      {
        "duration": 14,
        "start_time": "2024-11-23T19:57:59.762Z"
      },
      {
        "duration": 7608,
        "start_time": "2024-11-23T19:57:59.778Z"
      },
      {
        "duration": 3,
        "start_time": "2024-11-23T19:58:07.388Z"
      },
      {
        "duration": 10408,
        "start_time": "2024-11-23T19:58:07.393Z"
      },
      {
        "duration": 0,
        "start_time": "2024-11-23T19:58:17.805Z"
      },
      {
        "duration": 0,
        "start_time": "2024-11-23T19:58:17.818Z"
      },
      {
        "duration": 0,
        "start_time": "2024-11-23T19:58:17.820Z"
      },
      {
        "duration": 0,
        "start_time": "2024-11-23T19:58:17.822Z"
      },
      {
        "duration": 0,
        "start_time": "2024-11-23T19:58:17.823Z"
      },
      {
        "duration": 0,
        "start_time": "2024-11-23T19:58:17.825Z"
      },
      {
        "duration": 0,
        "start_time": "2024-11-23T19:58:17.827Z"
      },
      {
        "duration": 0,
        "start_time": "2024-11-23T19:58:17.828Z"
      },
      {
        "duration": 0,
        "start_time": "2024-11-23T19:58:17.830Z"
      },
      {
        "duration": 0,
        "start_time": "2024-11-23T19:58:17.831Z"
      },
      {
        "duration": 0,
        "start_time": "2024-11-23T19:58:17.833Z"
      },
      {
        "duration": 0,
        "start_time": "2024-11-23T19:58:17.834Z"
      },
      {
        "duration": 0,
        "start_time": "2024-11-23T19:58:17.836Z"
      },
      {
        "duration": 0,
        "start_time": "2024-11-23T19:58:17.838Z"
      },
      {
        "duration": 0,
        "start_time": "2024-11-23T19:58:17.839Z"
      },
      {
        "duration": 0,
        "start_time": "2024-11-23T19:58:17.841Z"
      },
      {
        "duration": 0,
        "start_time": "2024-11-23T19:58:17.842Z"
      },
      {
        "duration": 0,
        "start_time": "2024-11-23T19:58:17.844Z"
      },
      {
        "duration": 0,
        "start_time": "2024-11-23T19:58:17.845Z"
      },
      {
        "duration": 0,
        "start_time": "2024-11-23T19:58:17.848Z"
      },
      {
        "duration": 0,
        "start_time": "2024-11-23T19:58:17.849Z"
      },
      {
        "duration": 0,
        "start_time": "2024-11-23T19:58:17.851Z"
      },
      {
        "duration": 0,
        "start_time": "2024-11-23T19:58:17.852Z"
      },
      {
        "duration": 0,
        "start_time": "2024-11-23T19:58:17.854Z"
      },
      {
        "duration": 0,
        "start_time": "2024-11-23T19:58:17.855Z"
      },
      {
        "duration": 5,
        "start_time": "2024-11-23T19:58:25.706Z"
      },
      {
        "duration": 2,
        "start_time": "2024-11-23T19:58:25.855Z"
      },
      {
        "duration": 3,
        "start_time": "2024-11-23T19:58:26.017Z"
      },
      {
        "duration": 4,
        "start_time": "2024-11-23T19:58:26.158Z"
      },
      {
        "duration": 3,
        "start_time": "2024-11-23T19:58:26.505Z"
      },
      {
        "duration": 49,
        "start_time": "2024-11-23T19:58:32.705Z"
      },
      {
        "duration": 0,
        "start_time": "2024-11-23T19:58:32.756Z"
      },
      {
        "duration": 0,
        "start_time": "2024-11-23T19:58:32.757Z"
      },
      {
        "duration": 0,
        "start_time": "2024-11-23T19:58:32.758Z"
      },
      {
        "duration": 2877,
        "start_time": "2024-11-23T20:01:30.198Z"
      },
      {
        "duration": 4,
        "start_time": "2024-11-23T20:01:33.078Z"
      },
      {
        "duration": 10,
        "start_time": "2024-11-23T20:01:33.083Z"
      },
      {
        "duration": 7356,
        "start_time": "2024-11-23T20:01:33.095Z"
      },
      {
        "duration": 3,
        "start_time": "2024-11-23T20:01:40.453Z"
      },
      {
        "duration": 18435,
        "start_time": "2024-11-23T20:01:40.458Z"
      },
      {
        "duration": 11966,
        "start_time": "2024-11-23T20:01:58.895Z"
      },
      {
        "duration": 3596,
        "start_time": "2024-11-23T20:02:10.863Z"
      },
      {
        "duration": 3,
        "start_time": "2024-11-23T20:02:14.460Z"
      },
      {
        "duration": 277,
        "start_time": "2024-11-23T20:02:14.465Z"
      },
      {
        "duration": 7,
        "start_time": "2024-11-23T20:02:14.743Z"
      },
      {
        "duration": 217,
        "start_time": "2024-11-23T20:02:14.752Z"
      },
      {
        "duration": 3,
        "start_time": "2024-11-23T20:02:14.970Z"
      },
      {
        "duration": 6484,
        "start_time": "2024-11-23T20:02:14.974Z"
      },
      {
        "duration": 7,
        "start_time": "2024-11-23T20:02:21.461Z"
      },
      {
        "duration": 353,
        "start_time": "2024-11-23T20:02:21.470Z"
      },
      {
        "duration": 2,
        "start_time": "2024-11-23T20:02:21.825Z"
      },
      {
        "duration": 508,
        "start_time": "2024-11-23T20:02:21.829Z"
      },
      {
        "duration": 7,
        "start_time": "2024-11-23T20:02:22.339Z"
      },
      {
        "duration": 336,
        "start_time": "2024-11-23T20:02:22.347Z"
      },
      {
        "duration": 3,
        "start_time": "2024-11-23T20:02:22.685Z"
      },
      {
        "duration": 1249,
        "start_time": "2024-11-23T20:02:22.689Z"
      },
      {
        "duration": 20,
        "start_time": "2024-11-23T20:02:23.940Z"
      },
      {
        "duration": 5,
        "start_time": "2024-11-23T20:02:23.962Z"
      },
      {
        "duration": 158,
        "start_time": "2024-11-23T20:02:23.969Z"
      },
      {
        "duration": 177,
        "start_time": "2024-11-23T20:02:24.129Z"
      },
      {
        "duration": 139,
        "start_time": "2024-11-23T20:02:24.307Z"
      },
      {
        "duration": 452,
        "start_time": "2024-11-23T20:02:24.448Z"
      },
      {
        "duration": 77274,
        "start_time": "2024-11-23T20:02:24.903Z"
      },
      {
        "duration": 1282,
        "start_time": "2024-11-23T20:08:09.199Z"
      },
      {
        "duration": 5801,
        "start_time": "2024-11-23T20:08:13.552Z"
      },
      {
        "duration": 5695,
        "start_time": "2024-11-23T20:08:33.195Z"
      },
      {
        "duration": 11,
        "start_time": "2024-11-23T20:09:05.223Z"
      },
      {
        "duration": 4,
        "start_time": "2024-11-23T20:10:16.980Z"
      },
      {
        "duration": 658,
        "start_time": "2024-11-23T20:10:50.283Z"
      },
      {
        "duration": 5818,
        "start_time": "2024-11-23T20:11:05.491Z"
      },
      {
        "duration": 4421,
        "start_time": "2024-11-23T20:14:10.770Z"
      },
      {
        "duration": 5682,
        "start_time": "2024-11-23T20:17:56.403Z"
      },
      {
        "duration": 12,
        "start_time": "2024-11-23T20:18:15.674Z"
      },
      {
        "duration": 5767,
        "start_time": "2024-11-23T20:18:17.687Z"
      },
      {
        "duration": 137,
        "start_time": "2024-11-23T20:18:56.570Z"
      },
      {
        "duration": 1698,
        "start_time": "2024-11-23T20:19:13.772Z"
      },
      {
        "duration": 1697,
        "start_time": "2024-11-23T20:19:30.657Z"
      },
      {
        "duration": 647,
        "start_time": "2024-11-23T20:19:48.514Z"
      },
      {
        "duration": 1745,
        "start_time": "2024-11-23T20:20:04.459Z"
      },
      {
        "duration": 4049,
        "start_time": "2024-11-23T20:20:09.434Z"
      },
      {
        "duration": 218,
        "start_time": "2024-11-23T20:22:52.394Z"
      },
      {
        "duration": 187,
        "start_time": "2024-11-23T20:23:16.723Z"
      },
      {
        "duration": 5,
        "start_time": "2024-11-23T20:23:29.157Z"
      },
      {
        "duration": 20,
        "start_time": "2024-11-23T20:23:40.955Z"
      },
      {
        "duration": 211,
        "start_time": "2024-11-23T20:24:23.916Z"
      },
      {
        "duration": 235,
        "start_time": "2024-11-23T20:25:15.218Z"
      },
      {
        "duration": 251,
        "start_time": "2024-11-23T20:25:23.075Z"
      },
      {
        "duration": 5820,
        "start_time": "2024-11-23T20:26:03.483Z"
      },
      {
        "duration": 637,
        "start_time": "2024-11-23T20:26:34.005Z"
      },
      {
        "duration": 678,
        "start_time": "2024-11-23T20:27:23.133Z"
      },
      {
        "duration": 690,
        "start_time": "2024-11-23T20:27:41.125Z"
      },
      {
        "duration": 11,
        "start_time": "2024-11-23T20:29:45.883Z"
      },
      {
        "duration": 12,
        "start_time": "2024-11-23T20:30:04.896Z"
      },
      {
        "duration": 11,
        "start_time": "2024-11-23T20:30:16.316Z"
      },
      {
        "duration": 57,
        "start_time": "2024-11-23T20:30:27.420Z"
      },
      {
        "duration": 20,
        "start_time": "2024-11-23T20:34:35.910Z"
      },
      {
        "duration": 19,
        "start_time": "2024-11-23T20:37:00.077Z"
      },
      {
        "duration": 26,
        "start_time": "2024-11-23T20:37:17.389Z"
      },
      {
        "duration": 7,
        "start_time": "2024-11-23T20:37:33.815Z"
      },
      {
        "duration": 5754,
        "start_time": "2024-11-23T20:39:58.087Z"
      },
      {
        "duration": 646,
        "start_time": "2024-11-23T20:41:52.791Z"
      },
      {
        "duration": 57,
        "start_time": "2024-11-23T20:46:33.631Z"
      },
      {
        "duration": 3148,
        "start_time": "2024-11-23T20:46:39.138Z"
      },
      {
        "duration": 2521,
        "start_time": "2024-11-23T20:46:42.289Z"
      },
      {
        "duration": 2512,
        "start_time": "2024-11-23T20:46:44.812Z"
      },
      {
        "duration": 2593,
        "start_time": "2024-11-23T20:46:47.326Z"
      },
      {
        "duration": 3,
        "start_time": "2024-11-23T20:46:49.922Z"
      },
      {
        "duration": 5,
        "start_time": "2024-11-23T20:46:49.926Z"
      },
      {
        "duration": 7335,
        "start_time": "2024-11-23T20:46:49.933Z"
      },
      {
        "duration": 4,
        "start_time": "2024-11-23T20:46:57.271Z"
      },
      {
        "duration": 18167,
        "start_time": "2024-11-23T20:46:57.277Z"
      },
      {
        "duration": 11834,
        "start_time": "2024-11-23T20:47:15.446Z"
      },
      {
        "duration": 3652,
        "start_time": "2024-11-23T20:47:27.282Z"
      },
      {
        "duration": 2,
        "start_time": "2024-11-23T20:47:30.936Z"
      },
      {
        "duration": 297,
        "start_time": "2024-11-23T20:47:30.940Z"
      },
      {
        "duration": 7,
        "start_time": "2024-11-23T20:47:31.240Z"
      },
      {
        "duration": 184,
        "start_time": "2024-11-23T20:47:31.249Z"
      },
      {
        "duration": 3,
        "start_time": "2024-11-23T20:47:31.435Z"
      },
      {
        "duration": 5892,
        "start_time": "2024-11-23T20:47:31.440Z"
      },
      {
        "duration": 7,
        "start_time": "2024-11-23T20:47:37.334Z"
      },
      {
        "duration": 369,
        "start_time": "2024-11-23T20:47:37.342Z"
      },
      {
        "duration": 4,
        "start_time": "2024-11-23T20:47:37.714Z"
      },
      {
        "duration": 508,
        "start_time": "2024-11-23T20:47:37.720Z"
      },
      {
        "duration": 9,
        "start_time": "2024-11-23T20:47:38.230Z"
      },
      {
        "duration": 358,
        "start_time": "2024-11-23T20:47:38.244Z"
      },
      {
        "duration": 3,
        "start_time": "2024-11-23T20:47:38.603Z"
      },
      {
        "duration": 1215,
        "start_time": "2024-11-23T20:47:38.608Z"
      },
      {
        "duration": 15,
        "start_time": "2024-11-23T20:47:39.824Z"
      },
      {
        "duration": 17,
        "start_time": "2024-11-23T20:47:39.841Z"
      },
      {
        "duration": 159,
        "start_time": "2024-11-23T20:47:39.859Z"
      },
      {
        "duration": 192,
        "start_time": "2024-11-23T20:47:40.020Z"
      },
      {
        "duration": 141,
        "start_time": "2024-11-23T20:47:40.213Z"
      },
      {
        "duration": 499,
        "start_time": "2024-11-23T20:47:40.356Z"
      },
      {
        "duration": 2544,
        "start_time": "2024-11-23T20:48:39.361Z"
      },
      {
        "duration": 2,
        "start_time": "2024-11-23T20:48:41.907Z"
      },
      {
        "duration": 14,
        "start_time": "2024-11-23T20:48:41.911Z"
      },
      {
        "duration": 7323,
        "start_time": "2024-11-23T20:48:41.927Z"
      },
      {
        "duration": 4,
        "start_time": "2024-11-23T20:48:49.251Z"
      },
      {
        "duration": 17599,
        "start_time": "2024-11-23T20:48:49.256Z"
      },
      {
        "duration": 11700,
        "start_time": "2024-11-23T20:49:06.857Z"
      },
      {
        "duration": 3642,
        "start_time": "2024-11-23T20:49:18.559Z"
      },
      {
        "duration": 3,
        "start_time": "2024-11-23T20:49:22.203Z"
      },
      {
        "duration": 282,
        "start_time": "2024-11-23T20:49:22.217Z"
      },
      {
        "duration": 7,
        "start_time": "2024-11-23T20:49:22.500Z"
      },
      {
        "duration": 181,
        "start_time": "2024-11-23T20:49:22.509Z"
      },
      {
        "duration": 2,
        "start_time": "2024-11-23T20:49:22.692Z"
      },
      {
        "duration": 7070,
        "start_time": "2024-11-23T20:49:22.695Z"
      },
      {
        "duration": 11,
        "start_time": "2024-11-23T20:49:29.768Z"
      },
      {
        "duration": 378,
        "start_time": "2024-11-23T20:49:29.781Z"
      },
      {
        "duration": 3,
        "start_time": "2024-11-23T20:49:30.161Z"
      },
      {
        "duration": 522,
        "start_time": "2024-11-23T20:49:30.166Z"
      },
      {
        "duration": 8,
        "start_time": "2024-11-23T20:49:30.689Z"
      },
      {
        "duration": 332,
        "start_time": "2024-11-23T20:49:30.698Z"
      },
      {
        "duration": 2,
        "start_time": "2024-11-23T20:49:31.032Z"
      },
      {
        "duration": 1208,
        "start_time": "2024-11-23T20:49:31.036Z"
      },
      {
        "duration": 14,
        "start_time": "2024-11-23T20:49:32.246Z"
      },
      {
        "duration": 4,
        "start_time": "2024-11-23T20:49:32.261Z"
      },
      {
        "duration": 154,
        "start_time": "2024-11-23T20:49:32.266Z"
      },
      {
        "duration": 172,
        "start_time": "2024-11-23T20:49:32.422Z"
      },
      {
        "duration": 136,
        "start_time": "2024-11-23T20:49:32.596Z"
      },
      {
        "duration": 3183,
        "start_time": "2024-11-23T20:50:45.076Z"
      },
      {
        "duration": 2501,
        "start_time": "2024-11-23T20:50:48.262Z"
      },
      {
        "duration": 2565,
        "start_time": "2024-11-23T20:50:50.765Z"
      },
      {
        "duration": 2775,
        "start_time": "2024-11-23T20:50:53.333Z"
      },
      {
        "duration": 3,
        "start_time": "2024-11-23T20:50:56.110Z"
      },
      {
        "duration": 6,
        "start_time": "2024-11-23T20:50:56.114Z"
      },
      {
        "duration": 9154,
        "start_time": "2024-11-23T20:50:56.121Z"
      },
      {
        "duration": 4,
        "start_time": "2024-11-23T20:51:05.277Z"
      },
      {
        "duration": 17841,
        "start_time": "2024-11-23T20:51:05.283Z"
      },
      {
        "duration": 11718,
        "start_time": "2024-11-23T20:51:23.127Z"
      },
      {
        "duration": 3644,
        "start_time": "2024-11-23T20:51:34.847Z"
      },
      {
        "duration": 3,
        "start_time": "2024-11-23T20:51:38.492Z"
      },
      {
        "duration": 271,
        "start_time": "2024-11-23T20:51:38.496Z"
      },
      {
        "duration": 8,
        "start_time": "2024-11-23T20:51:38.768Z"
      },
      {
        "duration": 216,
        "start_time": "2024-11-23T20:51:38.777Z"
      },
      {
        "duration": 3,
        "start_time": "2024-11-23T20:51:38.994Z"
      },
      {
        "duration": 6572,
        "start_time": "2024-11-23T20:51:38.999Z"
      },
      {
        "duration": 8,
        "start_time": "2024-11-23T20:51:45.573Z"
      },
      {
        "duration": 370,
        "start_time": "2024-11-23T20:51:45.582Z"
      },
      {
        "duration": 3,
        "start_time": "2024-11-23T20:51:45.953Z"
      },
      {
        "duration": 504,
        "start_time": "2024-11-23T20:51:45.958Z"
      },
      {
        "duration": 7,
        "start_time": "2024-11-23T20:51:46.464Z"
      },
      {
        "duration": 318,
        "start_time": "2024-11-23T20:51:46.472Z"
      },
      {
        "duration": 3,
        "start_time": "2024-11-23T20:51:46.792Z"
      },
      {
        "duration": 1202,
        "start_time": "2024-11-23T20:51:46.797Z"
      },
      {
        "duration": 18,
        "start_time": "2024-11-23T20:51:48.000Z"
      },
      {
        "duration": 18,
        "start_time": "2024-11-23T20:51:48.020Z"
      },
      {
        "duration": 139,
        "start_time": "2024-11-23T20:51:48.041Z"
      },
      {
        "duration": 162,
        "start_time": "2024-11-23T20:51:48.182Z"
      },
      {
        "duration": 132,
        "start_time": "2024-11-23T20:51:48.346Z"
      },
      {
        "duration": 448,
        "start_time": "2024-11-23T20:51:48.480Z"
      },
      {
        "duration": 455,
        "start_time": "2024-11-23T20:51:52.169Z"
      },
      {
        "duration": 3129,
        "start_time": "2024-11-23T20:56:05.404Z"
      },
      {
        "duration": 2577,
        "start_time": "2024-11-23T20:56:08.536Z"
      },
      {
        "duration": 2493,
        "start_time": "2024-11-23T20:56:11.115Z"
      },
      {
        "duration": 2771,
        "start_time": "2024-11-23T20:56:13.610Z"
      },
      {
        "duration": 3,
        "start_time": "2024-11-23T20:56:16.382Z"
      },
      {
        "duration": 5,
        "start_time": "2024-11-23T20:56:16.386Z"
      },
      {
        "duration": 7138,
        "start_time": "2024-11-23T20:56:16.392Z"
      },
      {
        "duration": 4,
        "start_time": "2024-11-23T20:56:23.531Z"
      },
      {
        "duration": 17788,
        "start_time": "2024-11-23T20:56:23.536Z"
      },
      {
        "duration": 11868,
        "start_time": "2024-11-23T20:56:41.326Z"
      },
      {
        "duration": 3640,
        "start_time": "2024-11-23T20:56:53.195Z"
      },
      {
        "duration": 3,
        "start_time": "2024-11-23T20:56:56.836Z"
      },
      {
        "duration": 275,
        "start_time": "2024-11-23T20:56:56.840Z"
      },
      {
        "duration": 6,
        "start_time": "2024-11-23T20:56:57.117Z"
      },
      {
        "duration": 191,
        "start_time": "2024-11-23T20:56:57.125Z"
      },
      {
        "duration": 2,
        "start_time": "2024-11-23T20:56:57.317Z"
      },
      {
        "duration": 6290,
        "start_time": "2024-11-23T20:56:57.321Z"
      },
      {
        "duration": 7,
        "start_time": "2024-11-23T20:57:03.613Z"
      },
      {
        "duration": 341,
        "start_time": "2024-11-23T20:57:03.622Z"
      },
      {
        "duration": 3,
        "start_time": "2024-11-23T20:57:03.965Z"
      },
      {
        "duration": 535,
        "start_time": "2024-11-23T20:57:03.970Z"
      },
      {
        "duration": 7,
        "start_time": "2024-11-23T20:57:04.507Z"
      },
      {
        "duration": 328,
        "start_time": "2024-11-23T20:57:04.515Z"
      },
      {
        "duration": 3,
        "start_time": "2024-11-23T20:57:04.844Z"
      },
      {
        "duration": 1221,
        "start_time": "2024-11-23T20:57:04.849Z"
      },
      {
        "duration": 18,
        "start_time": "2024-11-23T20:57:06.072Z"
      },
      {
        "duration": 23,
        "start_time": "2024-11-23T20:57:06.091Z"
      },
      {
        "duration": 162,
        "start_time": "2024-11-23T20:57:06.117Z"
      },
      {
        "duration": 178,
        "start_time": "2024-11-23T20:57:06.280Z"
      },
      {
        "duration": 136,
        "start_time": "2024-11-23T20:57:06.460Z"
      },
      {
        "duration": 477,
        "start_time": "2024-11-23T20:57:06.598Z"
      },
      {
        "duration": 2489,
        "start_time": "2024-11-23T20:57:48.172Z"
      },
      {
        "duration": 3,
        "start_time": "2024-11-23T20:57:50.663Z"
      },
      {
        "duration": 9,
        "start_time": "2024-11-23T20:57:50.667Z"
      },
      {
        "duration": 7806,
        "start_time": "2024-11-23T20:57:50.677Z"
      },
      {
        "duration": 3,
        "start_time": "2024-11-23T20:57:58.485Z"
      },
      {
        "duration": 17573,
        "start_time": "2024-11-23T20:57:58.490Z"
      },
      {
        "duration": 11651,
        "start_time": "2024-11-23T20:58:16.065Z"
      },
      {
        "duration": 3650,
        "start_time": "2024-11-23T20:58:27.717Z"
      },
      {
        "duration": 2,
        "start_time": "2024-11-23T20:58:31.369Z"
      },
      {
        "duration": 277,
        "start_time": "2024-11-23T20:58:31.373Z"
      },
      {
        "duration": 9,
        "start_time": "2024-11-23T20:58:31.652Z"
      },
      {
        "duration": 192,
        "start_time": "2024-11-23T20:58:31.663Z"
      },
      {
        "duration": 3,
        "start_time": "2024-11-23T20:58:31.856Z"
      },
      {
        "duration": 7087,
        "start_time": "2024-11-23T20:58:31.862Z"
      },
      {
        "duration": 7,
        "start_time": "2024-11-23T20:58:38.951Z"
      },
      {
        "duration": 335,
        "start_time": "2024-11-23T20:58:38.959Z"
      },
      {
        "duration": 2,
        "start_time": "2024-11-23T20:58:39.296Z"
      },
      {
        "duration": 507,
        "start_time": "2024-11-23T20:58:39.300Z"
      },
      {
        "duration": 8,
        "start_time": "2024-11-23T20:58:39.808Z"
      },
      {
        "duration": 369,
        "start_time": "2024-11-23T20:58:39.817Z"
      },
      {
        "duration": 3,
        "start_time": "2024-11-23T20:58:40.188Z"
      },
      {
        "duration": 1144,
        "start_time": "2024-11-23T20:58:40.193Z"
      },
      {
        "duration": 13,
        "start_time": "2024-11-23T20:58:41.339Z"
      },
      {
        "duration": 4,
        "start_time": "2024-11-23T20:58:41.354Z"
      },
      {
        "duration": 148,
        "start_time": "2024-11-23T20:58:41.359Z"
      },
      {
        "duration": 176,
        "start_time": "2024-11-23T20:58:41.509Z"
      },
      {
        "duration": 139,
        "start_time": "2024-11-23T20:58:41.687Z"
      },
      {
        "duration": 476,
        "start_time": "2024-11-23T20:58:41.828Z"
      },
      {
        "duration": 55,
        "start_time": "2024-11-23T20:59:51.845Z"
      },
      {
        "duration": 0,
        "start_time": "2024-11-23T20:59:51.901Z"
      },
      {
        "duration": 0,
        "start_time": "2024-11-23T20:59:51.903Z"
      },
      {
        "duration": 0,
        "start_time": "2024-11-23T20:59:51.905Z"
      },
      {
        "duration": 2550,
        "start_time": "2024-11-23T20:59:57.378Z"
      },
      {
        "duration": 4,
        "start_time": "2024-11-23T20:59:59.930Z"
      },
      {
        "duration": 4,
        "start_time": "2024-11-23T20:59:59.936Z"
      },
      {
        "duration": 14123,
        "start_time": "2024-11-23T20:59:59.942Z"
      },
      {
        "duration": 3,
        "start_time": "2024-11-23T21:00:14.067Z"
      },
      {
        "duration": 17609,
        "start_time": "2024-11-23T21:00:14.072Z"
      },
      {
        "duration": 12061,
        "start_time": "2024-11-23T21:00:31.683Z"
      },
      {
        "duration": 3678,
        "start_time": "2024-11-23T21:00:43.746Z"
      },
      {
        "duration": 2,
        "start_time": "2024-11-23T21:00:47.425Z"
      },
      {
        "duration": 273,
        "start_time": "2024-11-23T21:00:47.429Z"
      },
      {
        "duration": 6,
        "start_time": "2024-11-23T21:00:47.704Z"
      },
      {
        "duration": 186,
        "start_time": "2024-11-23T21:00:47.712Z"
      },
      {
        "duration": 3,
        "start_time": "2024-11-23T21:00:47.899Z"
      },
      {
        "duration": 6372,
        "start_time": "2024-11-23T21:00:47.904Z"
      },
      {
        "duration": 8,
        "start_time": "2024-11-23T21:00:54.277Z"
      },
      {
        "duration": 319,
        "start_time": "2024-11-23T21:00:54.286Z"
      },
      {
        "duration": 12,
        "start_time": "2024-11-23T21:00:54.606Z"
      },
      {
        "duration": 520,
        "start_time": "2024-11-23T21:00:54.620Z"
      },
      {
        "duration": 8,
        "start_time": "2024-11-23T21:00:55.143Z"
      },
      {
        "duration": 364,
        "start_time": "2024-11-23T21:00:55.153Z"
      },
      {
        "duration": 3,
        "start_time": "2024-11-23T21:00:55.518Z"
      },
      {
        "duration": 1231,
        "start_time": "2024-11-23T21:00:55.523Z"
      },
      {
        "duration": 18,
        "start_time": "2024-11-23T21:00:56.757Z"
      },
      {
        "duration": 4,
        "start_time": "2024-11-23T21:00:56.777Z"
      },
      {
        "duration": 162,
        "start_time": "2024-11-23T21:00:56.783Z"
      },
      {
        "duration": 179,
        "start_time": "2024-11-23T21:00:56.948Z"
      },
      {
        "duration": 131,
        "start_time": "2024-11-23T21:00:57.129Z"
      },
      {
        "duration": 491,
        "start_time": "2024-11-23T21:00:57.262Z"
      },
      {
        "duration": 2787,
        "start_time": "2024-11-23T21:01:56.138Z"
      },
      {
        "duration": 3,
        "start_time": "2024-11-23T21:01:58.927Z"
      },
      {
        "duration": 4,
        "start_time": "2024-11-23T21:01:58.931Z"
      },
      {
        "duration": 7432,
        "start_time": "2024-11-23T21:01:58.936Z"
      },
      {
        "duration": 4,
        "start_time": "2024-11-23T21:02:06.370Z"
      },
      {
        "duration": 18000,
        "start_time": "2024-11-23T21:02:06.376Z"
      },
      {
        "duration": 12070,
        "start_time": "2024-11-23T21:02:24.377Z"
      },
      {
        "duration": 3686,
        "start_time": "2024-11-23T21:02:36.448Z"
      },
      {
        "duration": 3,
        "start_time": "2024-11-23T21:02:40.135Z"
      },
      {
        "duration": 294,
        "start_time": "2024-11-23T21:02:40.139Z"
      },
      {
        "duration": 7,
        "start_time": "2024-11-23T21:02:40.434Z"
      },
      {
        "duration": 181,
        "start_time": "2024-11-23T21:02:40.443Z"
      },
      {
        "duration": 2,
        "start_time": "2024-11-23T21:02:40.626Z"
      },
      {
        "duration": 6688,
        "start_time": "2024-11-23T21:02:40.631Z"
      },
      {
        "duration": 7,
        "start_time": "2024-11-23T21:02:47.321Z"
      },
      {
        "duration": 359,
        "start_time": "2024-11-23T21:02:47.330Z"
      },
      {
        "duration": 2,
        "start_time": "2024-11-23T21:02:47.691Z"
      },
      {
        "duration": 513,
        "start_time": "2024-11-23T21:02:47.695Z"
      },
      {
        "duration": 7,
        "start_time": "2024-11-23T21:02:48.210Z"
      },
      {
        "duration": 323,
        "start_time": "2024-11-23T21:02:48.219Z"
      },
      {
        "duration": 3,
        "start_time": "2024-11-23T21:02:48.543Z"
      },
      {
        "duration": 1258,
        "start_time": "2024-11-23T21:02:48.547Z"
      },
      {
        "duration": 17,
        "start_time": "2024-11-23T21:02:49.807Z"
      },
      {
        "duration": 5,
        "start_time": "2024-11-23T21:02:49.826Z"
      },
      {
        "duration": 148,
        "start_time": "2024-11-23T21:02:49.832Z"
      },
      {
        "duration": 171,
        "start_time": "2024-11-23T21:02:49.982Z"
      },
      {
        "duration": 125,
        "start_time": "2024-11-23T21:02:50.155Z"
      },
      {
        "duration": 479,
        "start_time": "2024-11-23T21:02:50.282Z"
      },
      {
        "duration": 3007,
        "start_time": "2024-11-23T21:12:34.892Z"
      },
      {
        "duration": 3,
        "start_time": "2024-11-23T21:12:37.901Z"
      },
      {
        "duration": 9,
        "start_time": "2024-11-23T21:12:37.905Z"
      },
      {
        "duration": 7287,
        "start_time": "2024-11-23T21:12:37.916Z"
      },
      {
        "duration": 3,
        "start_time": "2024-11-23T21:12:45.205Z"
      },
      {
        "duration": 17714,
        "start_time": "2024-11-23T21:12:45.210Z"
      },
      {
        "duration": 11868,
        "start_time": "2024-11-23T21:13:02.925Z"
      },
      {
        "duration": 3710,
        "start_time": "2024-11-23T21:13:14.795Z"
      },
      {
        "duration": 3,
        "start_time": "2024-11-23T21:13:18.506Z"
      },
      {
        "duration": 290,
        "start_time": "2024-11-23T21:13:18.510Z"
      },
      {
        "duration": 7,
        "start_time": "2024-11-23T21:13:18.802Z"
      },
      {
        "duration": 201,
        "start_time": "2024-11-23T21:13:18.810Z"
      },
      {
        "duration": 5,
        "start_time": "2024-11-23T21:13:19.012Z"
      },
      {
        "duration": 6576,
        "start_time": "2024-11-23T21:13:19.020Z"
      },
      {
        "duration": 7,
        "start_time": "2024-11-23T21:13:25.598Z"
      },
      {
        "duration": 371,
        "start_time": "2024-11-23T21:13:25.607Z"
      },
      {
        "duration": 3,
        "start_time": "2024-11-23T21:13:25.979Z"
      },
      {
        "duration": 509,
        "start_time": "2024-11-23T21:13:25.984Z"
      },
      {
        "duration": 7,
        "start_time": "2024-11-23T21:13:26.495Z"
      },
      {
        "duration": 355,
        "start_time": "2024-11-23T21:13:26.504Z"
      },
      {
        "duration": 3,
        "start_time": "2024-11-23T21:13:26.861Z"
      },
      {
        "duration": 1238,
        "start_time": "2024-11-23T21:13:26.865Z"
      },
      {
        "duration": 17,
        "start_time": "2024-11-23T21:13:28.105Z"
      },
      {
        "duration": 23,
        "start_time": "2024-11-23T21:13:28.124Z"
      },
      {
        "duration": 149,
        "start_time": "2024-11-23T21:13:28.149Z"
      },
      {
        "duration": 174,
        "start_time": "2024-11-23T21:13:28.300Z"
      },
      {
        "duration": 135,
        "start_time": "2024-11-23T21:13:28.475Z"
      },
      {
        "duration": 479,
        "start_time": "2024-11-23T21:13:28.612Z"
      },
      {
        "duration": 2960,
        "start_time": "2024-11-23T21:14:59.566Z"
      },
      {
        "duration": 3,
        "start_time": "2024-11-23T21:15:02.528Z"
      },
      {
        "duration": 64,
        "start_time": "2024-11-23T21:15:02.532Z"
      },
      {
        "duration": 8531,
        "start_time": "2024-11-23T21:15:02.598Z"
      },
      {
        "duration": 3,
        "start_time": "2024-11-23T21:15:11.130Z"
      },
      {
        "duration": 17834,
        "start_time": "2024-11-23T21:15:11.134Z"
      },
      {
        "duration": 11834,
        "start_time": "2024-11-23T21:15:28.970Z"
      },
      {
        "duration": 3692,
        "start_time": "2024-11-23T21:15:40.805Z"
      },
      {
        "duration": 2,
        "start_time": "2024-11-23T21:15:44.499Z"
      },
      {
        "duration": 295,
        "start_time": "2024-11-23T21:15:44.502Z"
      },
      {
        "duration": 7,
        "start_time": "2024-11-23T21:15:44.799Z"
      },
      {
        "duration": 189,
        "start_time": "2024-11-23T21:15:44.808Z"
      },
      {
        "duration": 3,
        "start_time": "2024-11-23T21:15:44.999Z"
      },
      {
        "duration": 6924,
        "start_time": "2024-11-23T21:15:45.004Z"
      },
      {
        "duration": 8,
        "start_time": "2024-11-23T21:15:51.929Z"
      },
      {
        "duration": 367,
        "start_time": "2024-11-23T21:15:51.938Z"
      },
      {
        "duration": 11,
        "start_time": "2024-11-23T21:15:52.307Z"
      },
      {
        "duration": 538,
        "start_time": "2024-11-23T21:15:52.320Z"
      },
      {
        "duration": 7,
        "start_time": "2024-11-23T21:15:52.860Z"
      },
      {
        "duration": 351,
        "start_time": "2024-11-23T21:15:52.869Z"
      },
      {
        "duration": 3,
        "start_time": "2024-11-23T21:15:53.222Z"
      },
      {
        "duration": 1179,
        "start_time": "2024-11-23T21:15:53.226Z"
      },
      {
        "duration": 18,
        "start_time": "2024-11-23T21:15:54.408Z"
      },
      {
        "duration": 4,
        "start_time": "2024-11-23T21:15:54.428Z"
      },
      {
        "duration": 152,
        "start_time": "2024-11-23T21:15:54.433Z"
      },
      {
        "duration": 173,
        "start_time": "2024-11-23T21:15:54.587Z"
      },
      {
        "duration": 145,
        "start_time": "2024-11-23T21:15:54.761Z"
      },
      {
        "duration": 496,
        "start_time": "2024-11-23T21:15:54.908Z"
      },
      {
        "duration": 58,
        "start_time": "2024-11-24T09:04:15.116Z"
      },
      {
        "duration": 1865,
        "start_time": "2024-11-24T09:04:19.521Z"
      },
      {
        "duration": 0,
        "start_time": "2024-11-24T09:04:21.388Z"
      },
      {
        "duration": 0,
        "start_time": "2024-11-24T09:04:21.390Z"
      },
      {
        "duration": 0,
        "start_time": "2024-11-24T09:04:21.391Z"
      },
      {
        "duration": 0,
        "start_time": "2024-11-24T09:04:21.393Z"
      },
      {
        "duration": 0,
        "start_time": "2024-11-24T09:04:21.394Z"
      },
      {
        "duration": 0,
        "start_time": "2024-11-24T09:04:21.396Z"
      },
      {
        "duration": 0,
        "start_time": "2024-11-24T09:04:21.397Z"
      },
      {
        "duration": 0,
        "start_time": "2024-11-24T09:04:21.399Z"
      },
      {
        "duration": 0,
        "start_time": "2024-11-24T09:04:21.400Z"
      },
      {
        "duration": 0,
        "start_time": "2024-11-24T09:04:21.402Z"
      },
      {
        "duration": 0,
        "start_time": "2024-11-24T09:04:21.403Z"
      },
      {
        "duration": 0,
        "start_time": "2024-11-24T09:04:21.405Z"
      },
      {
        "duration": 0,
        "start_time": "2024-11-24T09:04:21.406Z"
      },
      {
        "duration": 0,
        "start_time": "2024-11-24T09:04:21.408Z"
      },
      {
        "duration": 0,
        "start_time": "2024-11-24T09:04:21.409Z"
      },
      {
        "duration": 0,
        "start_time": "2024-11-24T09:04:21.411Z"
      },
      {
        "duration": 0,
        "start_time": "2024-11-24T09:04:21.413Z"
      },
      {
        "duration": 0,
        "start_time": "2024-11-24T09:04:21.451Z"
      },
      {
        "duration": 0,
        "start_time": "2024-11-24T09:04:21.453Z"
      },
      {
        "duration": 0,
        "start_time": "2024-11-24T09:04:21.455Z"
      },
      {
        "duration": 0,
        "start_time": "2024-11-24T09:04:21.456Z"
      },
      {
        "duration": 0,
        "start_time": "2024-11-24T09:04:21.457Z"
      },
      {
        "duration": 0,
        "start_time": "2024-11-24T09:04:21.459Z"
      },
      {
        "duration": 0,
        "start_time": "2024-11-24T09:04:21.461Z"
      },
      {
        "duration": 0,
        "start_time": "2024-11-24T09:04:21.462Z"
      },
      {
        "duration": 0,
        "start_time": "2024-11-24T09:04:21.464Z"
      },
      {
        "duration": 0,
        "start_time": "2024-11-24T09:04:21.465Z"
      },
      {
        "duration": 7514,
        "start_time": "2024-11-24T09:05:03.951Z"
      },
      {
        "duration": 2439,
        "start_time": "2024-11-24T09:05:11.468Z"
      },
      {
        "duration": 4104,
        "start_time": "2024-11-24T09:05:13.910Z"
      },
      {
        "duration": 396,
        "start_time": "2024-11-24T09:05:18.017Z"
      },
      {
        "duration": 0,
        "start_time": "2024-11-24T09:05:18.415Z"
      },
      {
        "duration": 0,
        "start_time": "2024-11-24T09:05:18.417Z"
      },
      {
        "duration": 0,
        "start_time": "2024-11-24T09:05:18.418Z"
      },
      {
        "duration": 0,
        "start_time": "2024-11-24T09:05:18.419Z"
      },
      {
        "duration": 0,
        "start_time": "2024-11-24T09:05:18.420Z"
      },
      {
        "duration": 0,
        "start_time": "2024-11-24T09:05:18.421Z"
      },
      {
        "duration": 0,
        "start_time": "2024-11-24T09:05:18.422Z"
      },
      {
        "duration": 0,
        "start_time": "2024-11-24T09:05:18.423Z"
      },
      {
        "duration": 0,
        "start_time": "2024-11-24T09:05:18.424Z"
      },
      {
        "duration": 0,
        "start_time": "2024-11-24T09:05:18.425Z"
      },
      {
        "duration": 0,
        "start_time": "2024-11-24T09:05:18.427Z"
      },
      {
        "duration": 0,
        "start_time": "2024-11-24T09:05:18.451Z"
      },
      {
        "duration": 0,
        "start_time": "2024-11-24T09:05:18.453Z"
      },
      {
        "duration": 0,
        "start_time": "2024-11-24T09:05:18.454Z"
      },
      {
        "duration": 0,
        "start_time": "2024-11-24T09:05:18.455Z"
      },
      {
        "duration": 0,
        "start_time": "2024-11-24T09:05:18.456Z"
      },
      {
        "duration": 0,
        "start_time": "2024-11-24T09:05:18.458Z"
      },
      {
        "duration": 0,
        "start_time": "2024-11-24T09:05:18.458Z"
      },
      {
        "duration": 0,
        "start_time": "2024-11-24T09:05:18.460Z"
      },
      {
        "duration": 0,
        "start_time": "2024-11-24T09:05:18.461Z"
      },
      {
        "duration": 0,
        "start_time": "2024-11-24T09:05:18.462Z"
      },
      {
        "duration": 0,
        "start_time": "2024-11-24T09:05:18.463Z"
      },
      {
        "duration": 0,
        "start_time": "2024-11-24T09:05:18.464Z"
      },
      {
        "duration": 0,
        "start_time": "2024-11-24T09:05:18.465Z"
      },
      {
        "duration": 0,
        "start_time": "2024-11-24T09:05:18.466Z"
      },
      {
        "duration": 0,
        "start_time": "2024-11-24T09:05:18.467Z"
      },
      {
        "duration": 0,
        "start_time": "2024-11-24T09:05:18.468Z"
      },
      {
        "duration": 20,
        "start_time": "2024-11-24T09:05:37.031Z"
      },
      {
        "duration": 1932,
        "start_time": "2024-11-24T09:05:44.822Z"
      },
      {
        "duration": 3,
        "start_time": "2024-11-24T09:05:49.929Z"
      },
      {
        "duration": 3,
        "start_time": "2024-11-24T09:05:50.219Z"
      },
      {
        "duration": 4839,
        "start_time": "2024-11-24T09:05:50.372Z"
      },
      {
        "duration": 3,
        "start_time": "2024-11-24T09:05:55.215Z"
      },
      {
        "duration": 17264,
        "start_time": "2024-11-24T09:05:55.220Z"
      },
      {
        "duration": 11697,
        "start_time": "2024-11-24T09:06:12.486Z"
      },
      {
        "duration": 3518,
        "start_time": "2024-11-24T09:06:24.185Z"
      },
      {
        "duration": 3,
        "start_time": "2024-11-24T09:06:27.704Z"
      },
      {
        "duration": 246,
        "start_time": "2024-11-24T09:06:27.708Z"
      },
      {
        "duration": 7,
        "start_time": "2024-11-24T09:06:27.956Z"
      },
      {
        "duration": 209,
        "start_time": "2024-11-24T09:06:27.964Z"
      },
      {
        "duration": 2,
        "start_time": "2024-11-24T09:06:28.176Z"
      },
      {
        "duration": 8203,
        "start_time": "2024-11-24T09:06:28.180Z"
      },
      {
        "duration": 8,
        "start_time": "2024-11-24T09:06:36.384Z"
      },
      {
        "duration": 375,
        "start_time": "2024-11-24T09:06:36.394Z"
      },
      {
        "duration": 3,
        "start_time": "2024-11-24T09:06:36.771Z"
      },
      {
        "duration": 491,
        "start_time": "2024-11-24T09:06:36.776Z"
      },
      {
        "duration": 8,
        "start_time": "2024-11-24T09:06:37.269Z"
      },
      {
        "duration": 372,
        "start_time": "2024-11-24T09:06:37.280Z"
      },
      {
        "duration": 3,
        "start_time": "2024-11-24T09:06:37.654Z"
      },
      {
        "duration": 1166,
        "start_time": "2024-11-24T09:06:37.659Z"
      },
      {
        "duration": 30,
        "start_time": "2024-11-24T09:06:38.827Z"
      },
      {
        "duration": 11,
        "start_time": "2024-11-24T09:06:38.858Z"
      },
      {
        "duration": 155,
        "start_time": "2024-11-24T09:06:38.871Z"
      },
      {
        "duration": 195,
        "start_time": "2024-11-24T09:06:39.028Z"
      },
      {
        "duration": 147,
        "start_time": "2024-11-24T09:06:39.224Z"
      },
      {
        "duration": 516,
        "start_time": "2024-11-24T09:06:39.373Z"
      },
      {
        "duration": 6169,
        "start_time": "2024-11-25T21:07:10.580Z"
      },
      {
        "duration": 2251,
        "start_time": "2024-11-25T21:07:16.752Z"
      },
      {
        "duration": 3830,
        "start_time": "2024-11-25T21:07:19.005Z"
      },
      {
        "duration": 1805,
        "start_time": "2024-11-25T21:07:22.837Z"
      },
      {
        "duration": 3,
        "start_time": "2024-11-25T21:07:24.644Z"
      },
      {
        "duration": 26,
        "start_time": "2024-11-25T21:07:24.648Z"
      },
      {
        "duration": 4595,
        "start_time": "2024-11-25T21:07:24.675Z"
      },
      {
        "duration": 4,
        "start_time": "2024-11-25T21:07:29.271Z"
      },
      {
        "duration": 16385,
        "start_time": "2024-11-25T21:07:29.277Z"
      },
      {
        "duration": 10887,
        "start_time": "2024-11-25T21:07:58.914Z"
      },
      {
        "duration": 3256,
        "start_time": "2024-11-25T21:08:20.995Z"
      },
      {
        "duration": 2,
        "start_time": "2024-11-25T21:08:27.352Z"
      },
      {
        "duration": 236,
        "start_time": "2024-11-25T21:08:27.513Z"
      },
      {
        "duration": 7,
        "start_time": "2024-11-25T21:08:27.750Z"
      },
      {
        "duration": 167,
        "start_time": "2024-11-25T21:08:27.842Z"
      },
      {
        "duration": 2,
        "start_time": "2024-11-25T21:08:35.617Z"
      },
      {
        "duration": 6905,
        "start_time": "2024-11-25T21:08:35.775Z"
      },
      {
        "duration": 7,
        "start_time": "2024-11-25T21:08:42.682Z"
      },
      {
        "duration": 286,
        "start_time": "2024-11-25T21:08:46.560Z"
      },
      {
        "duration": 2,
        "start_time": "2024-11-25T21:08:47.401Z"
      },
      {
        "duration": 4683,
        "start_time": "2024-11-25T21:08:48.360Z"
      },
      {
        "duration": 7,
        "start_time": "2024-11-25T21:08:53.044Z"
      },
      {
        "duration": 294,
        "start_time": "2024-11-25T21:08:53.052Z"
      },
      {
        "duration": 2,
        "start_time": "2024-11-25T21:08:53.348Z"
      },
      {
        "duration": 1101,
        "start_time": "2024-11-25T21:08:53.351Z"
      },
      {
        "duration": 12,
        "start_time": "2024-11-25T21:08:54.453Z"
      },
      {
        "duration": 4,
        "start_time": "2024-11-25T21:08:54.466Z"
      },
      {
        "duration": 134,
        "start_time": "2024-11-25T21:08:54.471Z"
      },
      {
        "duration": 144,
        "start_time": "2024-11-25T21:08:54.606Z"
      },
      {
        "duration": 106,
        "start_time": "2024-11-25T21:08:54.752Z"
      },
      {
        "duration": 395,
        "start_time": "2024-11-25T21:08:54.860Z"
      },
      {
        "duration": 8,
        "start_time": "2024-11-25T21:10:56.450Z"
      },
      {
        "duration": 3,
        "start_time": "2024-11-25T21:11:25.549Z"
      },
      {
        "duration": 40,
        "start_time": "2024-11-25T21:11:32.705Z"
      },
      {
        "duration": 2821,
        "start_time": "2024-11-25T21:11:36.243Z"
      },
      {
        "duration": 2206,
        "start_time": "2024-11-25T21:11:39.066Z"
      },
      {
        "duration": 2278,
        "start_time": "2024-11-25T21:11:41.274Z"
      },
      {
        "duration": 2517,
        "start_time": "2024-11-25T21:11:43.553Z"
      },
      {
        "duration": 2,
        "start_time": "2024-11-25T21:11:46.072Z"
      },
      {
        "duration": 35,
        "start_time": "2024-11-25T21:11:46.076Z"
      },
      {
        "duration": 5413,
        "start_time": "2024-11-25T21:11:46.112Z"
      },
      {
        "duration": 3,
        "start_time": "2024-11-25T21:11:51.527Z"
      },
      {
        "duration": 16224,
        "start_time": "2024-11-25T21:11:51.531Z"
      },
      {
        "duration": 2,
        "start_time": "2024-11-25T21:12:12.618Z"
      },
      {
        "duration": 6,
        "start_time": "2024-11-25T21:12:13.362Z"
      },
      {
        "duration": 13,
        "start_time": "2024-11-25T21:12:19.131Z"
      },
      {
        "duration": 13,
        "start_time": "2024-11-25T21:12:30.393Z"
      },
      {
        "duration": 3325,
        "start_time": "2024-11-25T21:12:37.330Z"
      },
      {
        "duration": 2,
        "start_time": "2024-11-25T21:12:43.626Z"
      },
      {
        "duration": 240,
        "start_time": "2024-11-25T21:12:44.338Z"
      },
      {
        "duration": 8,
        "start_time": "2024-11-25T21:12:45.132Z"
      },
      {
        "duration": 162,
        "start_time": "2024-11-25T21:12:46.091Z"
      },
      {
        "duration": 3,
        "start_time": "2024-11-25T21:12:58.593Z"
      },
      {
        "duration": 2847,
        "start_time": "2024-11-25T21:12:58.769Z"
      },
      {
        "duration": 6,
        "start_time": "2024-11-25T21:13:01.617Z"
      },
      {
        "duration": 287,
        "start_time": "2024-11-25T21:13:11.762Z"
      },
      {
        "duration": 3,
        "start_time": "2024-11-25T21:13:15.026Z"
      },
      {
        "duration": 479,
        "start_time": "2024-11-25T21:13:15.548Z"
      },
      {
        "duration": 5,
        "start_time": "2024-11-25T21:13:16.029Z"
      },
      {
        "duration": 295,
        "start_time": "2024-11-25T21:13:18.002Z"
      },
      {
        "duration": 3,
        "start_time": "2024-11-25T21:13:20.466Z"
      },
      {
        "duration": 3515,
        "start_time": "2024-11-25T21:13:21.050Z"
      },
      {
        "duration": 12,
        "start_time": "2024-11-25T21:13:27.634Z"
      },
      {
        "duration": 4,
        "start_time": "2024-11-25T21:13:28.330Z"
      },
      {
        "duration": 133,
        "start_time": "2024-11-25T21:13:29.266Z"
      },
      {
        "duration": 151,
        "start_time": "2024-11-25T21:13:31.067Z"
      },
      {
        "duration": 128,
        "start_time": "2024-11-25T21:13:31.650Z"
      },
      {
        "duration": 452,
        "start_time": "2024-11-25T21:13:32.602Z"
      },
      {
        "duration": 2321,
        "start_time": "2024-11-25T21:16:10.330Z"
      },
      {
        "duration": 3,
        "start_time": "2024-11-25T21:16:12.652Z"
      },
      {
        "duration": 3,
        "start_time": "2024-11-25T21:16:14.498Z"
      },
      {
        "duration": 4601,
        "start_time": "2024-11-25T21:16:14.682Z"
      },
      {
        "duration": 2,
        "start_time": "2024-11-25T21:16:19.285Z"
      },
      {
        "duration": 65,
        "start_time": "2024-11-25T21:16:19.289Z"
      },
      {
        "duration": 20,
        "start_time": "2024-11-25T21:16:21.634Z"
      },
      {
        "duration": 13,
        "start_time": "2024-11-25T21:16:23.831Z"
      },
      {
        "duration": 11,
        "start_time": "2024-11-25T21:16:30.529Z"
      },
      {
        "duration": 2,
        "start_time": "2024-11-25T21:16:33.570Z"
      },
      {
        "duration": 246,
        "start_time": "2024-11-25T21:16:33.817Z"
      },
      {
        "duration": 166,
        "start_time": "2024-11-25T21:16:34.699Z"
      },
      {
        "duration": 2,
        "start_time": "2024-11-25T21:16:37.137Z"
      },
      {
        "duration": 6489,
        "start_time": "2024-11-25T21:16:37.522Z"
      },
      {
        "duration": 370,
        "start_time": "2024-11-25T21:16:44.013Z"
      },
      {
        "duration": 2,
        "start_time": "2024-11-25T21:17:00.258Z"
      },
      {
        "duration": 478,
        "start_time": "2024-11-25T21:17:00.434Z"
      },
      {
        "duration": 283,
        "start_time": "2024-11-25T21:17:01.506Z"
      },
      {
        "duration": 3,
        "start_time": "2024-11-25T21:17:02.730Z"
      },
      {
        "duration": 3544,
        "start_time": "2024-11-25T21:17:03.346Z"
      },
      {
        "duration": 3,
        "start_time": "2024-11-25T21:17:10.196Z"
      },
      {
        "duration": 117,
        "start_time": "2024-11-25T21:17:11.330Z"
      },
      {
        "duration": 134,
        "start_time": "2024-11-25T21:17:13.225Z"
      },
      {
        "duration": 115,
        "start_time": "2024-11-25T21:17:13.898Z"
      },
      {
        "duration": 395,
        "start_time": "2024-11-25T21:17:15.259Z"
      },
      {
        "duration": 1649,
        "start_time": "2024-11-25T21:17:46.458Z"
      },
      {
        "duration": 3,
        "start_time": "2024-11-25T21:17:49.626Z"
      },
      {
        "duration": 3,
        "start_time": "2024-11-25T21:17:49.771Z"
      },
      {
        "duration": 4581,
        "start_time": "2024-11-25T21:17:50.667Z"
      },
      {
        "duration": 3,
        "start_time": "2024-11-25T21:17:55.249Z"
      },
      {
        "duration": 64,
        "start_time": "2024-11-25T21:17:55.254Z"
      },
      {
        "duration": 13,
        "start_time": "2024-11-25T21:17:55.320Z"
      },
      {
        "duration": 10,
        "start_time": "2024-11-25T21:17:55.334Z"
      },
      {
        "duration": 2,
        "start_time": "2024-11-25T21:17:55.345Z"
      },
      {
        "duration": 244,
        "start_time": "2024-11-25T21:17:55.348Z"
      },
      {
        "duration": 162,
        "start_time": "2024-11-25T21:17:55.594Z"
      },
      {
        "duration": 2,
        "start_time": "2024-11-25T21:17:55.758Z"
      },
      {
        "duration": 6303,
        "start_time": "2024-11-25T21:17:55.762Z"
      },
      {
        "duration": 413,
        "start_time": "2024-11-25T21:18:02.066Z"
      },
      {
        "duration": 3,
        "start_time": "2024-11-25T21:18:02.481Z"
      },
      {
        "duration": 485,
        "start_time": "2024-11-25T21:18:02.486Z"
      },
      {
        "duration": 294,
        "start_time": "2024-11-25T21:18:02.973Z"
      },
      {
        "duration": 3,
        "start_time": "2024-11-25T21:18:03.268Z"
      },
      {
        "duration": 1384,
        "start_time": "2024-11-25T21:18:03.272Z"
      },
      {
        "duration": 3,
        "start_time": "2024-11-25T21:18:04.657Z"
      },
      {
        "duration": 125,
        "start_time": "2024-11-25T21:18:04.661Z"
      },
      {
        "duration": 149,
        "start_time": "2024-11-25T21:18:04.787Z"
      },
      {
        "duration": 113,
        "start_time": "2024-11-25T21:18:04.937Z"
      },
      {
        "duration": 403,
        "start_time": "2024-11-25T21:18:05.051Z"
      },
      {
        "duration": 798284,
        "start_time": "2024-11-25T21:18:05.456Z"
      },
      {
        "duration": 4600,
        "start_time": "2024-11-25T21:31:35.825Z"
      },
      {
        "duration": 2458,
        "start_time": "2024-11-25T21:32:26.365Z"
      },
      {
        "duration": 3,
        "start_time": "2024-11-25T21:32:28.824Z"
      },
      {
        "duration": 17,
        "start_time": "2024-11-25T21:32:28.828Z"
      },
      {
        "duration": 5665,
        "start_time": "2024-11-25T21:32:28.847Z"
      },
      {
        "duration": 3,
        "start_time": "2024-11-25T21:32:34.514Z"
      },
      {
        "duration": 73,
        "start_time": "2024-11-25T21:32:34.518Z"
      },
      {
        "duration": 12,
        "start_time": "2024-11-25T21:32:34.593Z"
      },
      {
        "duration": 9,
        "start_time": "2024-11-25T21:32:34.606Z"
      },
      {
        "duration": 9,
        "start_time": "2024-11-25T21:32:34.616Z"
      },
      {
        "duration": 270,
        "start_time": "2024-11-25T21:32:34.627Z"
      },
      {
        "duration": 163,
        "start_time": "2024-11-25T21:32:34.899Z"
      },
      {
        "duration": 2,
        "start_time": "2024-11-25T21:32:35.063Z"
      },
      {
        "duration": 6428,
        "start_time": "2024-11-25T21:32:35.067Z"
      },
      {
        "duration": 366,
        "start_time": "2024-11-25T21:32:41.497Z"
      },
      {
        "duration": 3,
        "start_time": "2024-11-25T21:32:41.864Z"
      },
      {
        "duration": 543,
        "start_time": "2024-11-25T21:32:41.868Z"
      },
      {
        "duration": 300,
        "start_time": "2024-11-25T21:32:42.413Z"
      },
      {
        "duration": 6,
        "start_time": "2024-11-25T21:32:42.715Z"
      },
      {
        "duration": 1327,
        "start_time": "2024-11-25T21:32:42.722Z"
      },
      {
        "duration": 3,
        "start_time": "2024-11-25T21:32:44.050Z"
      },
      {
        "duration": 115,
        "start_time": "2024-11-25T21:32:44.054Z"
      },
      {
        "duration": 140,
        "start_time": "2024-11-25T21:32:44.170Z"
      },
      {
        "duration": 118,
        "start_time": "2024-11-25T21:32:44.312Z"
      },
      {
        "duration": 367,
        "start_time": "2024-11-25T21:32:44.431Z"
      },
      {
        "duration": 362274,
        "start_time": "2024-11-25T21:33:05.734Z"
      },
      {
        "duration": 15480,
        "start_time": "2024-11-25T21:40:02.550Z"
      },
      {
        "duration": 2802,
        "start_time": "2024-11-25T21:43:15.739Z"
      },
      {
        "duration": 2204,
        "start_time": "2024-11-25T21:43:18.543Z"
      },
      {
        "duration": 2267,
        "start_time": "2024-11-25T21:43:20.749Z"
      },
      {
        "duration": 2475,
        "start_time": "2024-11-25T21:43:23.018Z"
      },
      {
        "duration": 2,
        "start_time": "2024-11-25T21:43:25.495Z"
      },
      {
        "duration": 34,
        "start_time": "2024-11-25T21:43:25.499Z"
      },
      {
        "duration": 4632,
        "start_time": "2024-11-25T21:43:25.534Z"
      },
      {
        "duration": 4,
        "start_time": "2024-11-25T21:43:30.167Z"
      },
      {
        "duration": 118,
        "start_time": "2024-11-25T21:43:30.172Z"
      },
      {
        "duration": 11,
        "start_time": "2024-11-25T21:43:30.293Z"
      },
      {
        "duration": 16,
        "start_time": "2024-11-25T21:43:30.305Z"
      },
      {
        "duration": 3,
        "start_time": "2024-11-25T21:43:30.322Z"
      },
      {
        "duration": 264,
        "start_time": "2024-11-25T21:43:30.326Z"
      },
      {
        "duration": 173,
        "start_time": "2024-11-25T21:43:30.592Z"
      },
      {
        "duration": 2,
        "start_time": "2024-11-25T21:43:30.767Z"
      },
      {
        "duration": 6319,
        "start_time": "2024-11-25T21:43:30.770Z"
      },
      {
        "duration": 402,
        "start_time": "2024-11-25T21:43:37.091Z"
      },
      {
        "duration": 2,
        "start_time": "2024-11-25T21:43:37.495Z"
      },
      {
        "duration": 488,
        "start_time": "2024-11-25T21:43:37.498Z"
      },
      {
        "duration": 285,
        "start_time": "2024-11-25T21:43:37.987Z"
      },
      {
        "duration": 3,
        "start_time": "2024-11-25T21:43:38.273Z"
      },
      {
        "duration": 1346,
        "start_time": "2024-11-25T21:43:38.277Z"
      },
      {
        "duration": 4,
        "start_time": "2024-11-25T21:43:39.625Z"
      },
      {
        "duration": 126,
        "start_time": "2024-11-25T21:43:39.631Z"
      },
      {
        "duration": 149,
        "start_time": "2024-11-25T21:43:39.759Z"
      },
      {
        "duration": 115,
        "start_time": "2024-11-25T21:43:39.910Z"
      },
      {
        "duration": 396,
        "start_time": "2024-11-25T21:43:40.026Z"
      },
      {
        "duration": 614564,
        "start_time": "2024-11-25T21:43:43.608Z"
      },
      {
        "duration": 2176,
        "start_time": "2024-11-26T10:43:13.530Z"
      },
      {
        "duration": 0,
        "start_time": "2024-11-26T10:43:15.708Z"
      },
      {
        "duration": 2992,
        "start_time": "2024-11-26T10:43:21.378Z"
      },
      {
        "duration": 3938,
        "start_time": "2024-11-26T10:43:25.673Z"
      },
      {
        "duration": 470,
        "start_time": "2024-11-26T10:43:45.956Z"
      },
      {
        "duration": 3,
        "start_time": "2024-11-26T10:43:46.427Z"
      },
      {
        "duration": 3,
        "start_time": "2024-11-26T10:43:46.585Z"
      },
      {
        "duration": 7723,
        "start_time": "2024-11-26T10:43:46.921Z"
      },
      {
        "duration": 4,
        "start_time": "2024-11-26T10:43:54.646Z"
      },
      {
        "duration": 244,
        "start_time": "2024-11-26T10:43:54.651Z"
      },
      {
        "duration": 44,
        "start_time": "2024-11-26T10:43:54.897Z"
      },
      {
        "duration": 42,
        "start_time": "2024-11-26T10:43:54.942Z"
      },
      {
        "duration": 3,
        "start_time": "2024-11-26T10:43:54.986Z"
      },
      {
        "duration": 279,
        "start_time": "2024-11-26T10:43:54.991Z"
      },
      {
        "duration": 202,
        "start_time": "2024-11-26T10:43:55.272Z"
      },
      {
        "duration": 2,
        "start_time": "2024-11-26T10:43:55.477Z"
      },
      {
        "duration": 6475,
        "start_time": "2024-11-26T10:43:55.483Z"
      },
      {
        "duration": 0,
        "start_time": "2024-11-26T10:44:01.961Z"
      },
      {
        "duration": 0,
        "start_time": "2024-11-26T10:44:01.962Z"
      },
      {
        "duration": 0,
        "start_time": "2024-11-26T10:44:01.963Z"
      },
      {
        "duration": 0,
        "start_time": "2024-11-26T10:44:01.965Z"
      },
      {
        "duration": 0,
        "start_time": "2024-11-26T10:44:01.967Z"
      },
      {
        "duration": 0,
        "start_time": "2024-11-26T10:44:01.968Z"
      },
      {
        "duration": 0,
        "start_time": "2024-11-26T10:44:01.970Z"
      },
      {
        "duration": 0,
        "start_time": "2024-11-26T10:44:01.971Z"
      },
      {
        "duration": 0,
        "start_time": "2024-11-26T10:44:01.972Z"
      },
      {
        "duration": 0,
        "start_time": "2024-11-26T10:44:01.973Z"
      },
      {
        "duration": 0,
        "start_time": "2024-11-26T10:44:01.975Z"
      },
      {
        "duration": 0,
        "start_time": "2024-11-26T10:44:01.976Z"
      },
      {
        "duration": 0,
        "start_time": "2024-11-26T10:44:01.977Z"
      },
      {
        "duration": 0,
        "start_time": "2024-11-26T10:44:01.979Z"
      },
      {
        "duration": 0,
        "start_time": "2024-11-26T10:44:01.980Z"
      },
      {
        "duration": 5,
        "start_time": "2024-11-26T10:44:11.369Z"
      },
      {
        "duration": 3,
        "start_time": "2024-11-26T10:44:11.613Z"
      },
      {
        "duration": 2,
        "start_time": "2024-11-26T10:44:11.826Z"
      },
      {
        "duration": 4,
        "start_time": "2024-11-26T10:44:12.017Z"
      },
      {
        "duration": 3,
        "start_time": "2024-11-26T10:44:12.360Z"
      },
      {
        "duration": 217,
        "start_time": "2024-11-26T10:44:12.496Z"
      },
      {
        "duration": 48,
        "start_time": "2024-11-26T10:44:12.793Z"
      },
      {
        "duration": 46,
        "start_time": "2024-11-26T10:44:13.129Z"
      },
      {
        "duration": 5,
        "start_time": "2024-11-26T10:44:13.950Z"
      },
      {
        "duration": 269,
        "start_time": "2024-11-26T10:44:14.112Z"
      },
      {
        "duration": 179,
        "start_time": "2024-11-26T10:44:14.383Z"
      },
      {
        "duration": 3,
        "start_time": "2024-11-26T10:44:15.631Z"
      },
      {
        "duration": 6505,
        "start_time": "2024-11-26T10:44:15.818Z"
      },
      {
        "duration": 450,
        "start_time": "2024-11-26T10:44:22.325Z"
      },
      {
        "duration": 3,
        "start_time": "2024-11-26T10:44:24.000Z"
      },
      {
        "duration": 519,
        "start_time": "2024-11-26T10:44:24.177Z"
      },
      {
        "duration": 378,
        "start_time": "2024-11-26T10:44:24.698Z"
      },
      {
        "duration": 4,
        "start_time": "2024-11-26T10:44:26.875Z"
      },
      {
        "duration": 1545,
        "start_time": "2024-11-26T10:44:27.113Z"
      },
      {
        "duration": 3,
        "start_time": "2024-11-26T10:44:28.661Z"
      },
      {
        "duration": 138,
        "start_time": "2024-11-26T10:44:28.666Z"
      },
      {
        "duration": 153,
        "start_time": "2024-11-26T10:44:29.177Z"
      },
      {
        "duration": 120,
        "start_time": "2024-11-26T10:44:29.504Z"
      },
      {
        "duration": 468,
        "start_time": "2024-11-26T10:44:30.145Z"
      },
      {
        "duration": 702586,
        "start_time": "2024-11-26T10:44:30.654Z"
      },
      {
        "duration": 671600,
        "start_time": "2024-11-26T11:00:10.166Z"
      },
      {
        "duration": 979020,
        "start_time": "2024-11-26T12:19:09.327Z"
      },
      {
        "duration": 138547,
        "start_time": "2024-11-26T12:38:39.848Z"
      },
      {
        "duration": 23,
        "start_time": "2024-11-26T12:42:18.771Z"
      },
      {
        "duration": 359679,
        "start_time": "2024-11-26T12:43:08.705Z"
      },
      {
        "duration": 6485,
        "start_time": "2024-11-26T15:35:17.834Z"
      },
      {
        "duration": 2382,
        "start_time": "2024-11-26T15:35:24.321Z"
      },
      {
        "duration": 3650,
        "start_time": "2024-11-26T15:35:26.705Z"
      },
      {
        "duration": 1918,
        "start_time": "2024-11-26T15:35:30.357Z"
      },
      {
        "duration": 3,
        "start_time": "2024-11-26T15:35:32.277Z"
      },
      {
        "duration": 12,
        "start_time": "2024-11-26T15:35:32.282Z"
      },
      {
        "duration": 4946,
        "start_time": "2024-11-26T15:35:32.295Z"
      },
      {
        "duration": 3,
        "start_time": "2024-11-26T15:35:37.243Z"
      },
      {
        "duration": 86,
        "start_time": "2024-11-26T15:35:37.248Z"
      },
      {
        "duration": 15,
        "start_time": "2024-11-26T15:35:37.335Z"
      },
      {
        "duration": 20,
        "start_time": "2024-11-26T15:35:37.352Z"
      },
      {
        "duration": 3,
        "start_time": "2024-11-26T15:35:37.375Z"
      },
      {
        "duration": 256,
        "start_time": "2024-11-26T15:35:37.379Z"
      },
      {
        "duration": 174,
        "start_time": "2024-11-26T15:35:37.637Z"
      },
      {
        "duration": 9,
        "start_time": "2024-11-26T15:35:37.813Z"
      },
      {
        "duration": 6559,
        "start_time": "2024-11-26T15:35:37.824Z"
      },
      {
        "duration": 400,
        "start_time": "2024-11-26T15:35:44.385Z"
      },
      {
        "duration": 3,
        "start_time": "2024-11-26T15:35:44.786Z"
      },
      {
        "duration": 532,
        "start_time": "2024-11-26T15:35:44.790Z"
      },
      {
        "duration": 299,
        "start_time": "2024-11-26T15:35:45.324Z"
      },
      {
        "duration": 3,
        "start_time": "2024-11-26T15:35:45.625Z"
      },
      {
        "duration": 1400,
        "start_time": "2024-11-26T15:35:45.629Z"
      },
      {
        "duration": 4,
        "start_time": "2024-11-26T15:35:47.031Z"
      },
      {
        "duration": 124,
        "start_time": "2024-11-26T15:35:47.036Z"
      },
      {
        "duration": 159,
        "start_time": "2024-11-26T15:35:47.162Z"
      },
      {
        "duration": 123,
        "start_time": "2024-11-26T15:35:47.323Z"
      },
      {
        "duration": 402,
        "start_time": "2024-11-26T15:35:47.448Z"
      },
      {
        "duration": 859737,
        "start_time": "2024-11-26T15:35:47.852Z"
      },
      {
        "duration": 124324,
        "start_time": "2024-11-26T16:12:33.871Z"
      },
      {
        "duration": 14,
        "start_time": "2024-11-26T16:49:14.604Z"
      },
      {
        "duration": 43,
        "start_time": "2024-11-26T16:49:25.879Z"
      },
      {
        "duration": 6508,
        "start_time": "2024-11-26T20:19:22.264Z"
      },
      {
        "duration": 2325,
        "start_time": "2024-11-26T20:19:28.774Z"
      },
      {
        "duration": 3855,
        "start_time": "2024-11-26T20:19:31.101Z"
      },
      {
        "duration": 1763,
        "start_time": "2024-11-26T20:19:34.958Z"
      },
      {
        "duration": 3,
        "start_time": "2024-11-26T20:19:36.723Z"
      },
      {
        "duration": 13,
        "start_time": "2024-11-26T20:19:36.727Z"
      },
      {
        "duration": 4848,
        "start_time": "2024-11-26T20:19:36.741Z"
      },
      {
        "duration": 3,
        "start_time": "2024-11-26T20:19:41.591Z"
      },
      {
        "duration": 85,
        "start_time": "2024-11-26T20:19:41.595Z"
      },
      {
        "duration": 12,
        "start_time": "2024-11-26T20:19:41.681Z"
      },
      {
        "duration": 9,
        "start_time": "2024-11-26T20:19:41.694Z"
      },
      {
        "duration": 7,
        "start_time": "2024-11-26T20:19:41.705Z"
      },
      {
        "duration": 281,
        "start_time": "2024-11-26T20:19:41.713Z"
      },
      {
        "duration": 174,
        "start_time": "2024-11-26T20:19:41.997Z"
      },
      {
        "duration": 3,
        "start_time": "2024-11-26T20:19:42.172Z"
      },
      {
        "duration": 6431,
        "start_time": "2024-11-26T20:19:42.176Z"
      },
      {
        "duration": 394,
        "start_time": "2024-11-26T20:19:48.609Z"
      },
      {
        "duration": 2,
        "start_time": "2024-11-26T20:19:49.005Z"
      },
      {
        "duration": 503,
        "start_time": "2024-11-26T20:19:49.008Z"
      },
      {
        "duration": 300,
        "start_time": "2024-11-26T20:19:49.513Z"
      },
      {
        "duration": 7,
        "start_time": "2024-11-26T20:19:49.814Z"
      },
      {
        "duration": 1413,
        "start_time": "2024-11-26T20:19:49.822Z"
      },
      {
        "duration": 3,
        "start_time": "2024-11-26T20:19:51.236Z"
      },
      {
        "duration": 132,
        "start_time": "2024-11-26T20:19:51.240Z"
      },
      {
        "duration": 148,
        "start_time": "2024-11-26T20:19:51.373Z"
      },
      {
        "duration": 113,
        "start_time": "2024-11-26T20:19:51.523Z"
      },
      {
        "duration": 397,
        "start_time": "2024-11-26T20:19:51.637Z"
      },
      {
        "duration": 608664,
        "start_time": "2024-11-26T20:19:52.035Z"
      },
      {
        "duration": 118884,
        "start_time": "2024-11-26T20:38:59.905Z"
      },
      {
        "duration": 7571,
        "start_time": "2024-11-27T19:46:43.649Z"
      },
      {
        "duration": 2586,
        "start_time": "2024-11-27T19:46:51.223Z"
      },
      {
        "duration": 4299,
        "start_time": "2024-11-27T19:46:53.811Z"
      },
      {
        "duration": 3334,
        "start_time": "2024-11-27T19:47:23.309Z"
      },
      {
        "duration": 2646,
        "start_time": "2024-11-27T19:47:26.645Z"
      },
      {
        "duration": 1921,
        "start_time": "2024-11-27T19:47:46.976Z"
      },
      {
        "duration": 3,
        "start_time": "2024-11-27T19:47:58.028Z"
      },
      {
        "duration": 3,
        "start_time": "2024-11-27T19:47:58.206Z"
      },
      {
        "duration": 10076,
        "start_time": "2024-11-27T19:47:58.373Z"
      },
      {
        "duration": 4,
        "start_time": "2024-11-27T19:48:08.451Z"
      },
      {
        "duration": 296,
        "start_time": "2024-11-27T19:48:08.457Z"
      },
      {
        "duration": 44,
        "start_time": "2024-11-27T19:48:08.756Z"
      },
      {
        "duration": 44,
        "start_time": "2024-11-27T19:48:08.802Z"
      },
      {
        "duration": 2,
        "start_time": "2024-11-27T19:48:08.848Z"
      },
      {
        "duration": 282,
        "start_time": "2024-11-27T19:48:08.852Z"
      },
      {
        "duration": 207,
        "start_time": "2024-11-27T19:48:09.136Z"
      },
      {
        "duration": 3,
        "start_time": "2024-11-27T19:48:09.345Z"
      },
      {
        "duration": 6218,
        "start_time": "2024-11-27T19:48:09.350Z"
      },
      {
        "duration": 459,
        "start_time": "2024-11-27T19:48:15.570Z"
      },
      {
        "duration": 3,
        "start_time": "2024-11-27T19:48:16.031Z"
      },
      {
        "duration": 527,
        "start_time": "2024-11-27T19:48:16.036Z"
      },
      {
        "duration": 385,
        "start_time": "2024-11-27T19:48:16.565Z"
      },
      {
        "duration": 3,
        "start_time": "2024-11-27T19:48:16.953Z"
      },
      {
        "duration": 1541,
        "start_time": "2024-11-27T19:48:16.958Z"
      },
      {
        "duration": 4,
        "start_time": "2024-11-27T19:48:18.501Z"
      },
      {
        "duration": 128,
        "start_time": "2024-11-27T19:48:18.506Z"
      },
      {
        "duration": 156,
        "start_time": "2024-11-27T19:48:18.636Z"
      },
      {
        "duration": 126,
        "start_time": "2024-11-27T19:48:18.794Z"
      },
      {
        "duration": 445,
        "start_time": "2024-11-27T19:48:18.922Z"
      },
      {
        "duration": 962811,
        "start_time": "2024-11-27T19:48:19.368Z"
      },
      {
        "duration": 132314,
        "start_time": "2024-11-27T20:04:51.337Z"
      },
      {
        "duration": 13,
        "start_time": "2024-11-27T20:09:59.578Z"
      },
      {
        "duration": 20,
        "start_time": "2024-11-27T20:10:58.419Z"
      },
      {
        "duration": 14,
        "start_time": "2024-11-27T20:11:07.122Z"
      },
      {
        "duration": 9,
        "start_time": "2024-11-27T20:26:31.746Z"
      },
      {
        "duration": 28,
        "start_time": "2024-11-27T20:26:43.953Z"
      },
      {
        "duration": 40,
        "start_time": "2024-11-27T20:28:52.624Z"
      },
      {
        "duration": 168,
        "start_time": "2024-11-27T20:31:45.079Z"
      },
      {
        "duration": 9,
        "start_time": "2024-11-27T20:31:57.112Z"
      },
      {
        "duration": 80,
        "start_time": "2024-11-27T20:31:57.943Z"
      },
      {
        "duration": 219,
        "start_time": "2024-11-27T20:34:08.368Z"
      },
      {
        "duration": 4,
        "start_time": "2024-11-27T20:39:41.142Z"
      },
      {
        "duration": 6,
        "start_time": "2024-11-27T20:39:57.294Z"
      },
      {
        "duration": 4,
        "start_time": "2024-11-27T20:40:08.327Z"
      },
      {
        "duration": 133300,
        "start_time": "2024-11-27T20:49:44.319Z"
      },
      {
        "duration": 6,
        "start_time": "2024-11-27T20:53:31.592Z"
      },
      {
        "duration": 134122,
        "start_time": "2024-11-27T20:53:41.135Z"
      },
      {
        "duration": 210,
        "start_time": "2024-11-27T20:55:59.241Z"
      },
      {
        "duration": 229,
        "start_time": "2024-11-27T20:56:07.631Z"
      },
      {
        "duration": 225,
        "start_time": "2024-11-27T20:56:12.313Z"
      },
      {
        "duration": 216,
        "start_time": "2024-11-27T20:56:16.040Z"
      },
      {
        "duration": 225,
        "start_time": "2024-11-27T20:56:31.520Z"
      },
      {
        "duration": 442,
        "start_time": "2024-11-27T20:56:46.673Z"
      },
      {
        "duration": 209,
        "start_time": "2024-11-27T20:56:58.376Z"
      },
      {
        "duration": 222,
        "start_time": "2024-11-27T20:57:05.817Z"
      },
      {
        "duration": 230,
        "start_time": "2024-11-27T20:57:45.569Z"
      },
      {
        "duration": 227,
        "start_time": "2024-11-27T21:00:34.795Z"
      },
      {
        "duration": 143,
        "start_time": "2024-11-27T21:02:11.891Z"
      },
      {
        "duration": 13,
        "start_time": "2024-11-27T21:02:49.526Z"
      },
      {
        "duration": 242,
        "start_time": "2024-11-27T21:03:52.777Z"
      },
      {
        "duration": 442,
        "start_time": "2024-11-27T21:03:57.310Z"
      },
      {
        "duration": 231,
        "start_time": "2024-11-27T21:04:09.117Z"
      },
      {
        "duration": 244,
        "start_time": "2024-11-27T21:04:14.381Z"
      },
      {
        "duration": 6,
        "start_time": "2024-11-27T21:10:00.154Z"
      },
      {
        "duration": 5,
        "start_time": "2024-11-27T21:10:16.190Z"
      },
      {
        "duration": 21,
        "start_time": "2024-11-27T21:11:27.287Z"
      },
      {
        "duration": 16,
        "start_time": "2024-11-27T21:12:21.657Z"
      },
      {
        "duration": 20,
        "start_time": "2024-11-27T21:12:32.128Z"
      },
      {
        "duration": 71,
        "start_time": "2024-11-27T21:12:49.174Z"
      },
      {
        "duration": 18,
        "start_time": "2024-11-27T21:13:49.999Z"
      },
      {
        "duration": 5,
        "start_time": "2024-11-27T21:13:54.631Z"
      },
      {
        "duration": 4,
        "start_time": "2024-11-27T21:14:06.364Z"
      },
      {
        "duration": 5,
        "start_time": "2024-11-27T21:14:36.602Z"
      },
      {
        "duration": 4,
        "start_time": "2024-11-27T21:14:42.209Z"
      },
      {
        "duration": 4,
        "start_time": "2024-11-27T21:14:46.936Z"
      },
      {
        "duration": 80,
        "start_time": "2024-11-27T21:15:10.344Z"
      },
      {
        "duration": 91,
        "start_time": "2024-11-27T21:16:32.267Z"
      },
      {
        "duration": 18,
        "start_time": "2024-11-27T21:16:53.457Z"
      },
      {
        "duration": 78,
        "start_time": "2024-11-27T21:17:10.369Z"
      },
      {
        "duration": 202,
        "start_time": "2024-11-27T21:17:18.610Z"
      },
      {
        "duration": 17,
        "start_time": "2024-11-27T21:19:24.176Z"
      },
      {
        "duration": 3,
        "start_time": "2024-11-27T21:21:56.387Z"
      },
      {
        "duration": 3,
        "start_time": "2024-11-27T21:22:30.619Z"
      },
      {
        "duration": 129,
        "start_time": "2024-11-27T21:22:31.458Z"
      },
      {
        "duration": 56,
        "start_time": "2024-11-27T21:23:30.011Z"
      },
      {
        "duration": 62,
        "start_time": "2024-11-27T21:24:00.722Z"
      },
      {
        "duration": 52,
        "start_time": "2024-11-27T21:24:43.138Z"
      },
      {
        "duration": 17,
        "start_time": "2024-11-27T21:25:39.820Z"
      },
      {
        "duration": 307,
        "start_time": "2024-11-27T21:25:47.515Z"
      },
      {
        "duration": 286,
        "start_time": "2024-11-27T21:26:03.371Z"
      },
      {
        "duration": 7140,
        "start_time": "2024-11-28T08:53:18.423Z"
      },
      {
        "duration": 2415,
        "start_time": "2024-11-28T08:53:25.565Z"
      },
      {
        "duration": 3999,
        "start_time": "2024-11-28T08:53:27.981Z"
      },
      {
        "duration": 2088,
        "start_time": "2024-11-28T08:53:31.982Z"
      },
      {
        "duration": 3,
        "start_time": "2024-11-28T08:53:34.072Z"
      },
      {
        "duration": 27,
        "start_time": "2024-11-28T08:53:34.076Z"
      },
      {
        "duration": 8966,
        "start_time": "2024-11-28T08:53:34.104Z"
      },
      {
        "duration": 3,
        "start_time": "2024-11-28T08:53:43.072Z"
      },
      {
        "duration": 260,
        "start_time": "2024-11-28T08:53:43.078Z"
      },
      {
        "duration": 46,
        "start_time": "2024-11-28T08:53:43.341Z"
      },
      {
        "duration": 41,
        "start_time": "2024-11-28T08:53:43.389Z"
      },
      {
        "duration": 3,
        "start_time": "2024-11-28T08:53:43.431Z"
      },
      {
        "duration": 282,
        "start_time": "2024-11-28T08:53:43.436Z"
      },
      {
        "duration": 189,
        "start_time": "2024-11-28T08:53:43.720Z"
      },
      {
        "duration": 3,
        "start_time": "2024-11-28T08:58:10.983Z"
      },
      {
        "duration": 252,
        "start_time": "2024-11-28T08:58:12.281Z"
      },
      {
        "duration": 3,
        "start_time": "2024-11-28T08:58:50.945Z"
      },
      {
        "duration": 368,
        "start_time": "2024-11-28T08:58:51.855Z"
      },
      {
        "duration": 15,
        "start_time": "2024-11-28T08:58:59.222Z"
      },
      {
        "duration": 425,
        "start_time": "2024-11-28T09:06:29.618Z"
      },
      {
        "duration": 5,
        "start_time": "2024-11-28T09:20:35.312Z"
      },
      {
        "duration": 12,
        "start_time": "2024-11-28T09:20:42.227Z"
      },
      {
        "duration": 5,
        "start_time": "2024-11-28T09:21:03.031Z"
      },
      {
        "duration": 17,
        "start_time": "2024-11-28T09:21:03.525Z"
      },
      {
        "duration": 376,
        "start_time": "2024-11-28T09:21:37.926Z"
      },
      {
        "duration": 277,
        "start_time": "2024-11-28T09:22:00.124Z"
      },
      {
        "duration": 3,
        "start_time": "2024-11-28T09:24:12.252Z"
      },
      {
        "duration": 6572,
        "start_time": "2024-11-28T09:24:12.567Z"
      },
      {
        "duration": 355,
        "start_time": "2024-11-28T09:24:19.141Z"
      },
      {
        "duration": 3,
        "start_time": "2024-11-28T09:24:19.498Z"
      },
      {
        "duration": 523,
        "start_time": "2024-11-28T09:24:19.503Z"
      },
      {
        "duration": 354,
        "start_time": "2024-11-28T09:24:20.028Z"
      },
      {
        "duration": 3,
        "start_time": "2024-11-28T09:26:17.100Z"
      },
      {
        "duration": 1064,
        "start_time": "2024-11-28T09:26:21.041Z"
      },
      {
        "duration": 13,
        "start_time": "2024-11-28T09:26:54.533Z"
      },
      {
        "duration": 3,
        "start_time": "2024-11-28T09:49:47.688Z"
      },
      {
        "duration": 3,
        "start_time": "2024-11-28T09:53:11.844Z"
      },
      {
        "duration": 139,
        "start_time": "2024-11-28T09:53:13.267Z"
      },
      {
        "duration": 3,
        "start_time": "2024-11-28T09:53:35.481Z"
      },
      {
        "duration": 123,
        "start_time": "2024-11-28T09:53:36.341Z"
      },
      {
        "duration": 4,
        "start_time": "2024-11-28T09:53:44.863Z"
      },
      {
        "duration": 146,
        "start_time": "2024-11-28T09:53:45.709Z"
      },
      {
        "duration": 4,
        "start_time": "2024-11-28T10:01:13.496Z"
      },
      {
        "duration": 143,
        "start_time": "2024-11-28T10:01:14.282Z"
      },
      {
        "duration": 4,
        "start_time": "2024-11-28T10:02:28.904Z"
      },
      {
        "duration": 144,
        "start_time": "2024-11-28T10:02:29.648Z"
      },
      {
        "duration": 7,
        "start_time": "2024-11-28T10:03:41.369Z"
      },
      {
        "duration": 138,
        "start_time": "2024-11-28T10:03:42.069Z"
      },
      {
        "duration": 6,
        "start_time": "2024-11-28T10:04:17.085Z"
      },
      {
        "duration": 9734,
        "start_time": "2024-11-28T10:04:18.028Z"
      },
      {
        "duration": 4,
        "start_time": "2024-11-28T10:04:46.368Z"
      },
      {
        "duration": 118,
        "start_time": "2024-11-28T10:04:55.773Z"
      },
      {
        "duration": 4,
        "start_time": "2024-11-28T10:05:31.772Z"
      },
      {
        "duration": 10194,
        "start_time": "2024-11-28T10:05:32.625Z"
      },
      {
        "duration": 4,
        "start_time": "2024-11-28T10:05:45.225Z"
      },
      {
        "duration": 109,
        "start_time": "2024-11-28T10:05:46.207Z"
      },
      {
        "duration": 7376,
        "start_time": "2024-11-28T17:19:59.728Z"
      },
      {
        "duration": 2568,
        "start_time": "2024-11-28T17:20:07.106Z"
      },
      {
        "duration": 4262,
        "start_time": "2024-11-28T17:20:09.676Z"
      },
      {
        "duration": 2012,
        "start_time": "2024-11-28T17:20:13.940Z"
      },
      {
        "duration": 3,
        "start_time": "2024-11-28T17:20:15.954Z"
      },
      {
        "duration": 39,
        "start_time": "2024-11-28T17:20:15.958Z"
      },
      {
        "duration": 5508,
        "start_time": "2024-11-28T17:20:15.998Z"
      },
      {
        "duration": 4,
        "start_time": "2024-11-28T17:20:21.507Z"
      },
      {
        "duration": 86,
        "start_time": "2024-11-28T17:20:21.512Z"
      },
      {
        "duration": 14,
        "start_time": "2024-11-28T17:20:21.600Z"
      },
      {
        "duration": 78,
        "start_time": "2024-11-28T17:20:21.615Z"
      },
      {
        "duration": 15,
        "start_time": "2024-11-28T17:20:21.694Z"
      },
      {
        "duration": 357,
        "start_time": "2024-11-28T17:20:21.710Z"
      },
      {
        "duration": 15,
        "start_time": "2024-11-28T17:20:22.070Z"
      },
      {
        "duration": 6,
        "start_time": "2024-11-28T17:26:49.141Z"
      },
      {
        "duration": 291,
        "start_time": "2024-11-28T17:26:49.646Z"
      },
      {
        "duration": 3,
        "start_time": "2024-11-28T17:29:15.622Z"
      },
      {
        "duration": 6501,
        "start_time": "2024-11-28T17:29:16.335Z"
      },
      {
        "duration": 434,
        "start_time": "2024-11-28T17:29:22.838Z"
      },
      {
        "duration": 2,
        "start_time": "2024-11-28T17:29:24.060Z"
      },
      {
        "duration": 478,
        "start_time": "2024-11-28T17:29:25.029Z"
      },
      {
        "duration": 332,
        "start_time": "2024-11-28T17:29:26.215Z"
      },
      {
        "duration": 58,
        "start_time": "2024-11-28T17:43:08.636Z"
      },
      {
        "duration": 3,
        "start_time": "2024-11-28T17:46:33.559Z"
      },
      {
        "duration": 4,
        "start_time": "2024-11-28T17:51:54.456Z"
      },
      {
        "duration": 252,
        "start_time": "2024-11-28T17:51:57.501Z"
      },
      {
        "duration": 3,
        "start_time": "2024-11-28T17:52:16.982Z"
      },
      {
        "duration": 7666,
        "start_time": "2024-11-28T17:52:17.911Z"
      },
      {
        "duration": 3,
        "start_time": "2024-11-28T17:52:28.057Z"
      },
      {
        "duration": 79,
        "start_time": "2024-11-28T17:52:29.998Z"
      },
      {
        "duration": 2,
        "start_time": "2024-11-28T17:52:47.612Z"
      },
      {
        "duration": 9409,
        "start_time": "2024-11-28T17:52:48.377Z"
      },
      {
        "duration": 3,
        "start_time": "2024-11-28T17:52:59.888Z"
      },
      {
        "duration": 72,
        "start_time": "2024-11-28T17:53:41.176Z"
      },
      {
        "duration": 14,
        "start_time": "2024-11-28T17:55:28.114Z"
      },
      {
        "duration": 14,
        "start_time": "2024-11-28T17:55:56.362Z"
      },
      {
        "duration": 77,
        "start_time": "2024-11-28T17:56:17.891Z"
      },
      {
        "duration": 211,
        "start_time": "2024-11-28T17:56:23.898Z"
      },
      {
        "duration": 267,
        "start_time": "2024-11-28T17:58:44.586Z"
      },
      {
        "duration": 29,
        "start_time": "2024-11-28T18:00:35.844Z"
      },
      {
        "duration": 25,
        "start_time": "2024-11-28T18:00:44.501Z"
      },
      {
        "duration": 25,
        "start_time": "2024-11-28T18:00:49.164Z"
      },
      {
        "duration": 29,
        "start_time": "2024-11-28T18:00:52.629Z"
      },
      {
        "duration": 30,
        "start_time": "2024-11-28T18:01:09.889Z"
      },
      {
        "duration": 7,
        "start_time": "2024-11-28T18:01:30.877Z"
      },
      {
        "duration": 5,
        "start_time": "2024-11-28T18:02:39.101Z"
      },
      {
        "duration": 1050,
        "start_time": "2024-11-28T18:03:28.717Z"
      },
      {
        "duration": 6,
        "start_time": "2024-11-28T18:03:37.663Z"
      },
      {
        "duration": 10,
        "start_time": "2024-11-28T18:04:16.413Z"
      },
      {
        "duration": 6,
        "start_time": "2024-11-28T18:04:26.038Z"
      },
      {
        "duration": 77,
        "start_time": "2024-11-28T18:04:35.550Z"
      },
      {
        "duration": 5,
        "start_time": "2024-11-28T18:04:42.014Z"
      },
      {
        "duration": 236,
        "start_time": "2024-11-28T18:05:17.950Z"
      },
      {
        "duration": 268,
        "start_time": "2024-11-28T18:05:21.825Z"
      },
      {
        "duration": 3310,
        "start_time": "2024-11-28T18:05:43.780Z"
      },
      {
        "duration": 2584,
        "start_time": "2024-11-28T18:05:47.092Z"
      },
      {
        "duration": 2617,
        "start_time": "2024-11-28T18:05:49.678Z"
      },
      {
        "duration": 5,
        "start_time": "2024-11-28T18:05:52.297Z"
      },
      {
        "duration": 36,
        "start_time": "2024-11-28T18:05:52.304Z"
      },
      {
        "duration": 29,
        "start_time": "2024-11-28T18:05:52.341Z"
      },
      {
        "duration": 21,
        "start_time": "2024-11-28T18:05:52.372Z"
      },
      {
        "duration": 28,
        "start_time": "2024-11-28T18:05:52.395Z"
      },
      {
        "duration": 105,
        "start_time": "2024-11-28T18:05:52.424Z"
      },
      {
        "duration": 13,
        "start_time": "2024-11-28T18:05:52.530Z"
      },
      {
        "duration": 11,
        "start_time": "2024-11-28T18:05:52.544Z"
      },
      {
        "duration": 3,
        "start_time": "2024-11-28T18:05:52.556Z"
      },
      {
        "duration": 349,
        "start_time": "2024-11-28T18:05:52.560Z"
      },
      {
        "duration": 15,
        "start_time": "2024-11-28T18:05:52.912Z"
      },
      {
        "duration": 21,
        "start_time": "2024-11-28T18:05:52.929Z"
      },
      {
        "duration": 302,
        "start_time": "2024-11-28T18:05:52.952Z"
      },
      {
        "duration": 2,
        "start_time": "2024-11-28T18:05:53.256Z"
      },
      {
        "duration": 6330,
        "start_time": "2024-11-28T18:05:53.259Z"
      },
      {
        "duration": 332,
        "start_time": "2024-11-28T18:05:59.590Z"
      },
      {
        "duration": 3,
        "start_time": "2024-11-28T18:05:59.924Z"
      },
      {
        "duration": 508,
        "start_time": "2024-11-28T18:05:59.928Z"
      },
      {
        "duration": 341,
        "start_time": "2024-11-28T18:06:00.438Z"
      },
      {
        "duration": 4,
        "start_time": "2024-11-28T18:06:00.780Z"
      },
      {
        "duration": 9822,
        "start_time": "2024-11-28T18:06:00.785Z"
      },
      {
        "duration": 3,
        "start_time": "2024-11-28T18:06:10.609Z"
      },
      {
        "duration": 99,
        "start_time": "2024-11-28T18:06:10.614Z"
      },
      {
        "duration": 8,
        "start_time": "2024-11-28T18:06:10.715Z"
      },
      {
        "duration": 213,
        "start_time": "2024-11-28T18:06:10.724Z"
      },
      {
        "duration": 28,
        "start_time": "2024-11-28T18:07:14.978Z"
      },
      {
        "duration": 26,
        "start_time": "2024-11-28T18:11:05.338Z"
      },
      {
        "duration": 6,
        "start_time": "2024-11-28T18:11:09.290Z"
      },
      {
        "duration": 196,
        "start_time": "2024-11-28T18:11:16.625Z"
      },
      {
        "duration": 293,
        "start_time": "2024-11-28T18:11:18.977Z"
      },
      {
        "duration": 10,
        "start_time": "2024-11-28T18:12:09.273Z"
      },
      {
        "duration": 193,
        "start_time": "2024-11-28T18:12:13.225Z"
      },
      {
        "duration": 279,
        "start_time": "2024-11-28T18:12:16.008Z"
      },
      {
        "duration": 22,
        "start_time": "2024-11-28T18:12:37.306Z"
      },
      {
        "duration": 220,
        "start_time": "2024-11-28T18:12:38.153Z"
      },
      {
        "duration": 289,
        "start_time": "2024-11-28T18:12:56.700Z"
      },
      {
        "duration": 81,
        "start_time": "2024-11-28T18:13:00.530Z"
      },
      {
        "duration": 7,
        "start_time": "2024-11-28T18:16:33.179Z"
      },
      {
        "duration": 5,
        "start_time": "2024-11-28T18:16:57.039Z"
      },
      {
        "duration": 4,
        "start_time": "2024-11-28T18:16:57.046Z"
      },
      {
        "duration": 17,
        "start_time": "2024-11-28T18:16:57.052Z"
      },
      {
        "duration": 4,
        "start_time": "2024-11-28T18:16:57.070Z"
      },
      {
        "duration": 3,
        "start_time": "2024-11-28T18:16:57.076Z"
      },
      {
        "duration": 73,
        "start_time": "2024-11-28T18:16:57.080Z"
      },
      {
        "duration": 13,
        "start_time": "2024-11-28T18:16:57.154Z"
      },
      {
        "duration": 10,
        "start_time": "2024-11-28T18:16:57.169Z"
      },
      {
        "duration": 3,
        "start_time": "2024-11-28T18:16:57.181Z"
      },
      {
        "duration": 347,
        "start_time": "2024-11-28T18:16:57.185Z"
      },
      {
        "duration": 15,
        "start_time": "2024-11-28T18:16:57.534Z"
      },
      {
        "duration": 26,
        "start_time": "2024-11-28T18:16:57.551Z"
      },
      {
        "duration": 279,
        "start_time": "2024-11-28T18:16:57.579Z"
      },
      {
        "duration": 2,
        "start_time": "2024-11-28T18:16:57.861Z"
      },
      {
        "duration": 6524,
        "start_time": "2024-11-28T18:16:57.865Z"
      },
      {
        "duration": 344,
        "start_time": "2024-11-28T18:17:04.390Z"
      },
      {
        "duration": 2,
        "start_time": "2024-11-28T18:17:04.736Z"
      },
      {
        "duration": 496,
        "start_time": "2024-11-28T18:17:04.751Z"
      },
      {
        "duration": 332,
        "start_time": "2024-11-28T18:17:05.249Z"
      },
      {
        "duration": 3,
        "start_time": "2024-11-28T18:17:05.582Z"
      },
      {
        "duration": 10496,
        "start_time": "2024-11-28T18:17:05.587Z"
      },
      {
        "duration": 4,
        "start_time": "2024-11-28T18:17:16.085Z"
      },
      {
        "duration": 85,
        "start_time": "2024-11-28T18:17:16.091Z"
      },
      {
        "duration": 58,
        "start_time": "2024-11-28T18:17:16.178Z"
      },
      {
        "duration": 22,
        "start_time": "2024-11-28T18:17:16.237Z"
      },
      {
        "duration": 14,
        "start_time": "2024-11-28T18:17:23.229Z"
      },
      {
        "duration": 8,
        "start_time": "2024-11-28T18:17:23.587Z"
      },
      {
        "duration": 8,
        "start_time": "2024-11-28T18:17:28.827Z"
      },
      {
        "duration": 83,
        "start_time": "2024-11-28T18:17:39.026Z"
      },
      {
        "duration": 5,
        "start_time": "2024-11-28T18:18:00.239Z"
      },
      {
        "duration": 22,
        "start_time": "2024-11-28T18:18:00.246Z"
      },
      {
        "duration": 43,
        "start_time": "2024-11-28T18:18:00.269Z"
      },
      {
        "duration": 27,
        "start_time": "2024-11-28T18:18:00.314Z"
      },
      {
        "duration": 17,
        "start_time": "2024-11-28T18:18:00.343Z"
      },
      {
        "duration": 77,
        "start_time": "2024-11-28T18:18:00.361Z"
      },
      {
        "duration": 13,
        "start_time": "2024-11-28T18:18:00.440Z"
      },
      {
        "duration": 14,
        "start_time": "2024-11-28T18:18:00.455Z"
      },
      {
        "duration": 6,
        "start_time": "2024-11-28T18:18:00.470Z"
      },
      {
        "duration": 374,
        "start_time": "2024-11-28T18:18:00.478Z"
      },
      {
        "duration": 14,
        "start_time": "2024-11-28T18:18:00.854Z"
      },
      {
        "duration": 4,
        "start_time": "2024-11-28T18:18:00.870Z"
      },
      {
        "duration": 295,
        "start_time": "2024-11-28T18:18:00.875Z"
      },
      {
        "duration": 2,
        "start_time": "2024-11-28T18:18:01.173Z"
      },
      {
        "duration": 6387,
        "start_time": "2024-11-28T18:18:01.177Z"
      },
      {
        "duration": 440,
        "start_time": "2024-11-28T18:18:07.566Z"
      },
      {
        "duration": 2,
        "start_time": "2024-11-28T18:18:08.008Z"
      },
      {
        "duration": 1972,
        "start_time": "2024-11-28T18:18:08.012Z"
      },
      {
        "duration": 339,
        "start_time": "2024-11-28T18:18:09.985Z"
      },
      {
        "duration": 3,
        "start_time": "2024-11-28T18:18:10.325Z"
      },
      {
        "duration": 7078,
        "start_time": "2024-11-28T18:18:10.330Z"
      },
      {
        "duration": 3,
        "start_time": "2024-11-28T18:18:17.410Z"
      },
      {
        "duration": 105,
        "start_time": "2024-11-28T18:18:17.414Z"
      },
      {
        "duration": 4,
        "start_time": "2024-11-28T18:18:47.020Z"
      },
      {
        "duration": 56,
        "start_time": "2024-11-28T18:18:55.459Z"
      },
      {
        "duration": 8,
        "start_time": "2024-11-28T18:19:07.115Z"
      },
      {
        "duration": 89,
        "start_time": "2024-11-28T18:19:39.394Z"
      },
      {
        "duration": 6,
        "start_time": "2024-11-28T18:19:47.562Z"
      },
      {
        "duration": 59,
        "start_time": "2024-11-28T18:20:05.233Z"
      },
      {
        "duration": 14,
        "start_time": "2024-11-28T18:20:08.802Z"
      },
      {
        "duration": 5,
        "start_time": "2024-11-28T18:20:16.125Z"
      },
      {
        "duration": 9,
        "start_time": "2024-11-28T18:20:16.132Z"
      },
      {
        "duration": 6,
        "start_time": "2024-11-28T18:20:16.143Z"
      },
      {
        "duration": 7,
        "start_time": "2024-11-28T18:20:16.150Z"
      },
      {
        "duration": 3,
        "start_time": "2024-11-28T18:20:16.161Z"
      },
      {
        "duration": 60,
        "start_time": "2024-11-28T18:20:16.166Z"
      },
      {
        "duration": 17,
        "start_time": "2024-11-28T18:20:16.228Z"
      },
      {
        "duration": 11,
        "start_time": "2024-11-28T18:20:16.246Z"
      },
      {
        "duration": 2,
        "start_time": "2024-11-28T18:20:16.258Z"
      },
      {
        "duration": 349,
        "start_time": "2024-11-28T18:20:16.262Z"
      },
      {
        "duration": 15,
        "start_time": "2024-11-28T18:20:16.613Z"
      },
      {
        "duration": 5,
        "start_time": "2024-11-28T18:20:16.629Z"
      },
      {
        "duration": 266,
        "start_time": "2024-11-28T18:20:16.636Z"
      },
      {
        "duration": 2,
        "start_time": "2024-11-28T18:20:16.905Z"
      },
      {
        "duration": 6299,
        "start_time": "2024-11-28T18:20:16.908Z"
      },
      {
        "duration": 347,
        "start_time": "2024-11-28T18:20:23.208Z"
      },
      {
        "duration": 3,
        "start_time": "2024-11-28T18:20:23.556Z"
      },
      {
        "duration": 507,
        "start_time": "2024-11-28T18:20:23.561Z"
      },
      {
        "duration": 331,
        "start_time": "2024-11-28T18:20:24.070Z"
      },
      {
        "duration": 3,
        "start_time": "2024-11-28T18:20:24.403Z"
      },
      {
        "duration": 9626,
        "start_time": "2024-11-28T18:20:24.407Z"
      },
      {
        "duration": 3,
        "start_time": "2024-11-28T18:20:34.035Z"
      },
      {
        "duration": 100,
        "start_time": "2024-11-28T18:20:34.052Z"
      },
      {
        "duration": 22,
        "start_time": "2024-11-28T18:22:13.640Z"
      },
      {
        "duration": 5,
        "start_time": "2024-11-28T18:22:25.727Z"
      },
      {
        "duration": 18,
        "start_time": "2024-11-28T18:22:36.799Z"
      },
      {
        "duration": 6,
        "start_time": "2024-11-28T18:22:43.418Z"
      },
      {
        "duration": 11,
        "start_time": "2024-11-28T18:22:43.426Z"
      },
      {
        "duration": 3,
        "start_time": "2024-11-28T18:22:43.439Z"
      },
      {
        "duration": 5,
        "start_time": "2024-11-28T18:22:43.444Z"
      },
      {
        "duration": 7,
        "start_time": "2024-11-28T18:22:43.451Z"
      },
      {
        "duration": 53,
        "start_time": "2024-11-28T18:22:43.460Z"
      },
      {
        "duration": 14,
        "start_time": "2024-11-28T18:22:43.515Z"
      },
      {
        "duration": 36,
        "start_time": "2024-11-28T18:22:43.531Z"
      },
      {
        "duration": 3,
        "start_time": "2024-11-28T18:22:43.569Z"
      },
      {
        "duration": 346,
        "start_time": "2024-11-28T18:22:43.574Z"
      },
      {
        "duration": 25,
        "start_time": "2024-11-28T18:22:43.922Z"
      },
      {
        "duration": 5,
        "start_time": "2024-11-28T18:22:43.948Z"
      },
      {
        "duration": 284,
        "start_time": "2024-11-28T18:22:43.955Z"
      },
      {
        "duration": 2,
        "start_time": "2024-11-28T18:22:44.242Z"
      },
      {
        "duration": 6946,
        "start_time": "2024-11-28T18:22:44.252Z"
      },
      {
        "duration": 336,
        "start_time": "2024-11-28T18:22:51.200Z"
      },
      {
        "duration": 3,
        "start_time": "2024-11-28T18:22:51.537Z"
      },
      {
        "duration": 516,
        "start_time": "2024-11-28T18:22:51.541Z"
      },
      {
        "duration": 337,
        "start_time": "2024-11-28T18:22:52.058Z"
      },
      {
        "duration": 3,
        "start_time": "2024-11-28T18:22:52.397Z"
      },
      {
        "duration": 10804,
        "start_time": "2024-11-28T18:22:52.401Z"
      },
      {
        "duration": 3,
        "start_time": "2024-11-28T18:23:03.206Z"
      },
      {
        "duration": 109,
        "start_time": "2024-11-28T18:23:03.211Z"
      },
      {
        "duration": 80,
        "start_time": "2024-11-28T18:23:07.829Z"
      },
      {
        "duration": 13,
        "start_time": "2024-11-28T18:23:12.550Z"
      },
      {
        "duration": 3210,
        "start_time": "2024-11-28T18:23:39.814Z"
      },
      {
        "duration": 2606,
        "start_time": "2024-11-28T18:23:43.027Z"
      },
      {
        "duration": 2566,
        "start_time": "2024-11-28T18:23:45.635Z"
      },
      {
        "duration": 1843,
        "start_time": "2024-11-28T18:23:48.204Z"
      },
      {
        "duration": 3,
        "start_time": "2024-11-28T18:23:50.051Z"
      },
      {
        "duration": 29,
        "start_time": "2024-11-28T18:23:50.056Z"
      },
      {
        "duration": 6598,
        "start_time": "2024-11-28T18:23:50.087Z"
      },
      {
        "duration": 4,
        "start_time": "2024-11-28T18:23:56.686Z"
      },
      {
        "duration": 57,
        "start_time": "2024-11-28T18:23:56.691Z"
      },
      {
        "duration": 14,
        "start_time": "2024-11-28T18:23:56.750Z"
      },
      {
        "duration": 11,
        "start_time": "2024-11-28T18:23:56.766Z"
      },
      {
        "duration": 2,
        "start_time": "2024-11-28T18:23:56.779Z"
      },
      {
        "duration": 347,
        "start_time": "2024-11-28T18:23:56.782Z"
      },
      {
        "duration": 15,
        "start_time": "2024-11-28T18:23:57.131Z"
      },
      {
        "duration": 14,
        "start_time": "2024-11-28T18:23:57.147Z"
      },
      {
        "duration": 289,
        "start_time": "2024-11-28T18:23:57.163Z"
      },
      {
        "duration": 3,
        "start_time": "2024-11-28T18:23:57.453Z"
      },
      {
        "duration": 6162,
        "start_time": "2024-11-28T18:23:57.458Z"
      },
      {
        "duration": 499,
        "start_time": "2024-11-28T18:24:03.622Z"
      },
      {
        "duration": 3,
        "start_time": "2024-11-28T18:24:04.123Z"
      },
      {
        "duration": 516,
        "start_time": "2024-11-28T18:24:04.127Z"
      },
      {
        "duration": 341,
        "start_time": "2024-11-28T18:24:04.645Z"
      },
      {
        "duration": 3,
        "start_time": "2024-11-28T18:24:09.837Z"
      },
      {
        "duration": 10720,
        "start_time": "2024-11-28T18:24:11.469Z"
      },
      {
        "duration": 3,
        "start_time": "2024-11-28T18:24:22.191Z"
      },
      {
        "duration": 88,
        "start_time": "2024-11-28T18:24:22.195Z"
      },
      {
        "duration": 22,
        "start_time": "2024-11-28T18:24:36.677Z"
      },
      {
        "duration": 66,
        "start_time": "2024-11-28T18:24:49.136Z"
      },
      {
        "duration": 57,
        "start_time": "2024-11-28T18:25:26.189Z"
      },
      {
        "duration": 69,
        "start_time": "2024-11-28T18:25:45.428Z"
      },
      {
        "duration": 67,
        "start_time": "2024-11-28T18:26:04.325Z"
      },
      {
        "duration": 5,
        "start_time": "2024-11-28T18:26:27.012Z"
      },
      {
        "duration": 18,
        "start_time": "2024-11-28T18:26:27.018Z"
      },
      {
        "duration": 3,
        "start_time": "2024-11-28T18:26:27.038Z"
      },
      {
        "duration": 27,
        "start_time": "2024-11-28T18:26:27.043Z"
      },
      {
        "duration": 6,
        "start_time": "2024-11-28T18:26:27.072Z"
      },
      {
        "duration": 57,
        "start_time": "2024-11-28T18:26:27.079Z"
      },
      {
        "duration": 13,
        "start_time": "2024-11-28T18:26:27.137Z"
      },
      {
        "duration": 16,
        "start_time": "2024-11-28T18:26:27.151Z"
      },
      {
        "duration": 3,
        "start_time": "2024-11-28T18:26:27.168Z"
      },
      {
        "duration": 345,
        "start_time": "2024-11-28T18:26:27.172Z"
      },
      {
        "duration": 15,
        "start_time": "2024-11-28T18:26:27.518Z"
      },
      {
        "duration": 48,
        "start_time": "2024-11-28T18:26:27.534Z"
      },
      {
        "duration": 296,
        "start_time": "2024-11-28T18:26:27.583Z"
      },
      {
        "duration": 2,
        "start_time": "2024-11-28T18:26:27.882Z"
      },
      {
        "duration": 6507,
        "start_time": "2024-11-28T18:26:27.885Z"
      },
      {
        "duration": 467,
        "start_time": "2024-11-28T18:26:34.394Z"
      },
      {
        "duration": 3,
        "start_time": "2024-11-28T18:26:34.862Z"
      },
      {
        "duration": 507,
        "start_time": "2024-11-28T18:26:34.867Z"
      },
      {
        "duration": 337,
        "start_time": "2024-11-28T18:26:35.376Z"
      },
      {
        "duration": 3,
        "start_time": "2024-11-28T18:26:35.714Z"
      },
      {
        "duration": 9678,
        "start_time": "2024-11-28T18:26:35.718Z"
      },
      {
        "duration": 3,
        "start_time": "2024-11-28T18:26:45.397Z"
      },
      {
        "duration": 86,
        "start_time": "2024-11-28T18:26:45.402Z"
      },
      {
        "duration": 77,
        "start_time": "2024-11-28T18:26:45.490Z"
      },
      {
        "duration": 2650,
        "start_time": "2024-11-28T18:27:04.188Z"
      },
      {
        "duration": 1914,
        "start_time": "2024-11-28T18:27:06.840Z"
      },
      {
        "duration": 3,
        "start_time": "2024-11-28T18:27:08.756Z"
      },
      {
        "duration": 3097,
        "start_time": "2024-11-28T18:27:10.884Z"
      },
      {
        "duration": 2514,
        "start_time": "2024-11-28T18:27:13.984Z"
      },
      {
        "duration": 2597,
        "start_time": "2024-11-28T18:27:16.500Z"
      },
      {
        "duration": 6,
        "start_time": "2024-11-28T18:27:19.099Z"
      },
      {
        "duration": 14,
        "start_time": "2024-11-28T18:27:19.107Z"
      },
      {
        "duration": 11,
        "start_time": "2024-11-28T18:27:19.123Z"
      },
      {
        "duration": 5985,
        "start_time": "2024-11-28T18:27:19.135Z"
      },
      {
        "duration": 4,
        "start_time": "2024-11-28T18:27:25.122Z"
      },
      {
        "duration": 87,
        "start_time": "2024-11-28T18:27:25.127Z"
      },
      {
        "duration": 13,
        "start_time": "2024-11-28T18:27:25.215Z"
      },
      {
        "duration": 33,
        "start_time": "2024-11-28T18:27:25.230Z"
      },
      {
        "duration": 3,
        "start_time": "2024-11-28T18:27:25.265Z"
      },
      {
        "duration": 355,
        "start_time": "2024-11-28T18:27:25.270Z"
      },
      {
        "duration": 18,
        "start_time": "2024-11-28T18:27:25.626Z"
      },
      {
        "duration": 11,
        "start_time": "2024-11-28T18:27:25.646Z"
      },
      {
        "duration": 298,
        "start_time": "2024-11-28T18:27:25.660Z"
      },
      {
        "duration": 2,
        "start_time": "2024-11-28T18:27:25.960Z"
      },
      {
        "duration": 6624,
        "start_time": "2024-11-28T18:27:25.964Z"
      },
      {
        "duration": 457,
        "start_time": "2024-11-28T18:27:32.590Z"
      },
      {
        "duration": 3,
        "start_time": "2024-11-28T18:27:33.052Z"
      },
      {
        "duration": 505,
        "start_time": "2024-11-28T18:27:33.057Z"
      },
      {
        "duration": 348,
        "start_time": "2024-11-28T18:27:33.564Z"
      },
      {
        "duration": 4,
        "start_time": "2024-11-28T18:27:33.915Z"
      },
      {
        "duration": 9410,
        "start_time": "2024-11-28T18:27:33.921Z"
      },
      {
        "duration": 4,
        "start_time": "2024-11-28T18:27:43.332Z"
      },
      {
        "duration": 103,
        "start_time": "2024-11-28T18:27:43.337Z"
      },
      {
        "duration": 147,
        "start_time": "2024-11-28T18:27:43.441Z"
      },
      {
        "duration": 68,
        "start_time": "2024-11-28T18:27:50.869Z"
      },
      {
        "duration": 20,
        "start_time": "2024-11-28T18:28:12.846Z"
      },
      {
        "duration": 57,
        "start_time": "2024-11-28T18:29:31.553Z"
      },
      {
        "duration": 195,
        "start_time": "2024-11-28T18:29:33.194Z"
      },
      {
        "duration": 183,
        "start_time": "2024-11-28T18:29:42.858Z"
      },
      {
        "duration": 4,
        "start_time": "2024-11-28T18:30:06.249Z"
      },
      {
        "duration": 85,
        "start_time": "2024-11-28T18:30:37.569Z"
      },
      {
        "duration": 3433,
        "start_time": "2024-11-28T18:31:05.140Z"
      },
      {
        "duration": 2721,
        "start_time": "2024-11-28T18:31:08.576Z"
      },
      {
        "duration": 2610,
        "start_time": "2024-11-28T18:31:11.299Z"
      },
      {
        "duration": 10,
        "start_time": "2024-11-28T18:31:13.911Z"
      },
      {
        "duration": 50,
        "start_time": "2024-11-28T18:31:13.924Z"
      },
      {
        "duration": 5,
        "start_time": "2024-11-28T18:31:13.976Z"
      },
      {
        "duration": 6,
        "start_time": "2024-11-28T18:31:13.983Z"
      },
      {
        "duration": 6,
        "start_time": "2024-11-28T18:31:13.990Z"
      },
      {
        "duration": 65,
        "start_time": "2024-11-28T18:31:13.998Z"
      },
      {
        "duration": 14,
        "start_time": "2024-11-28T18:31:14.065Z"
      },
      {
        "duration": 12,
        "start_time": "2024-11-28T18:31:14.081Z"
      },
      {
        "duration": 3,
        "start_time": "2024-11-28T18:31:14.095Z"
      },
      {
        "duration": 351,
        "start_time": "2024-11-28T18:31:14.099Z"
      },
      {
        "duration": 16,
        "start_time": "2024-11-28T18:31:14.453Z"
      },
      {
        "duration": 4,
        "start_time": "2024-11-28T18:31:14.470Z"
      },
      {
        "duration": 293,
        "start_time": "2024-11-28T18:31:14.476Z"
      },
      {
        "duration": 3,
        "start_time": "2024-11-28T18:31:14.770Z"
      },
      {
        "duration": 6132,
        "start_time": "2024-11-28T18:31:14.774Z"
      },
      {
        "duration": 346,
        "start_time": "2024-11-28T18:31:20.908Z"
      },
      {
        "duration": 3,
        "start_time": "2024-11-28T18:31:21.255Z"
      },
      {
        "duration": 486,
        "start_time": "2024-11-28T18:31:21.260Z"
      },
      {
        "duration": 347,
        "start_time": "2024-11-28T18:31:21.748Z"
      },
      {
        "duration": 3,
        "start_time": "2024-11-28T18:31:22.097Z"
      },
      {
        "duration": 9553,
        "start_time": "2024-11-28T18:31:22.102Z"
      },
      {
        "duration": 4,
        "start_time": "2024-11-28T18:31:31.656Z"
      },
      {
        "duration": 91,
        "start_time": "2024-11-28T18:31:31.662Z"
      },
      {
        "duration": 67,
        "start_time": "2024-11-28T18:31:31.755Z"
      },
      {
        "duration": 52,
        "start_time": "2024-11-28T18:31:31.824Z"
      },
      {
        "duration": 4,
        "start_time": "2024-11-28T18:31:56.561Z"
      },
      {
        "duration": 3352,
        "start_time": "2024-11-28T18:32:05.581Z"
      },
      {
        "duration": 2502,
        "start_time": "2024-11-28T18:32:08.936Z"
      },
      {
        "duration": 2576,
        "start_time": "2024-11-28T18:32:11.440Z"
      },
      {
        "duration": 1844,
        "start_time": "2024-11-28T18:32:14.018Z"
      },
      {
        "duration": 3,
        "start_time": "2024-11-28T18:32:15.865Z"
      },
      {
        "duration": 9,
        "start_time": "2024-11-28T18:32:15.870Z"
      },
      {
        "duration": 5587,
        "start_time": "2024-11-28T18:32:15.881Z"
      },
      {
        "duration": 3,
        "start_time": "2024-11-28T18:32:21.470Z"
      },
      {
        "duration": 88,
        "start_time": "2024-11-28T18:32:21.475Z"
      },
      {
        "duration": 12,
        "start_time": "2024-11-28T18:32:21.565Z"
      },
      {
        "duration": 50,
        "start_time": "2024-11-28T18:32:21.579Z"
      },
      {
        "duration": 3,
        "start_time": "2024-11-28T18:32:21.630Z"
      },
      {
        "duration": 347,
        "start_time": "2024-11-28T18:32:21.634Z"
      },
      {
        "duration": 17,
        "start_time": "2024-11-28T18:32:21.984Z"
      },
      {
        "duration": 15,
        "start_time": "2024-11-28T18:32:22.003Z"
      },
      {
        "duration": 299,
        "start_time": "2024-11-28T18:32:22.020Z"
      },
      {
        "duration": 2,
        "start_time": "2024-11-28T18:32:22.321Z"
      },
      {
        "duration": 3214,
        "start_time": "2024-11-28T18:32:22.324Z"
      },
      {
        "duration": 442,
        "start_time": "2024-11-28T18:32:25.540Z"
      },
      {
        "duration": 2,
        "start_time": "2024-11-28T18:32:25.984Z"
      },
      {
        "duration": 490,
        "start_time": "2024-11-28T18:32:25.988Z"
      },
      {
        "duration": 330,
        "start_time": "2024-11-28T18:32:26.480Z"
      },
      {
        "duration": 3,
        "start_time": "2024-11-28T18:32:26.811Z"
      },
      {
        "duration": 11562,
        "start_time": "2024-11-28T18:32:26.815Z"
      },
      {
        "duration": 3,
        "start_time": "2024-11-28T18:32:38.380Z"
      },
      {
        "duration": 86,
        "start_time": "2024-11-28T18:32:38.384Z"
      },
      {
        "duration": 66,
        "start_time": "2024-11-28T18:32:38.471Z"
      },
      {
        "duration": 23,
        "start_time": "2024-11-28T18:32:38.539Z"
      },
      {
        "duration": 4,
        "start_time": "2024-11-28T18:32:56.971Z"
      },
      {
        "duration": 57,
        "start_time": "2024-11-28T18:33:27.034Z"
      },
      {
        "duration": 189,
        "start_time": "2024-11-28T18:33:27.867Z"
      },
      {
        "duration": 4,
        "start_time": "2024-11-28T18:37:07.050Z"
      },
      {
        "duration": 3453,
        "start_time": "2024-11-28T18:37:33.062Z"
      },
      {
        "duration": 2663,
        "start_time": "2024-11-28T18:37:36.517Z"
      },
      {
        "duration": 2653,
        "start_time": "2024-11-28T18:37:39.182Z"
      },
      {
        "duration": 6,
        "start_time": "2024-11-28T18:37:41.837Z"
      },
      {
        "duration": 4,
        "start_time": "2024-11-28T18:37:41.845Z"
      },
      {
        "duration": 4,
        "start_time": "2024-11-28T18:37:41.850Z"
      },
      {
        "duration": 4,
        "start_time": "2024-11-28T18:37:41.856Z"
      },
      {
        "duration": 10,
        "start_time": "2024-11-28T18:37:41.861Z"
      },
      {
        "duration": 75,
        "start_time": "2024-11-28T18:37:41.873Z"
      },
      {
        "duration": 15,
        "start_time": "2024-11-28T18:37:41.949Z"
      },
      {
        "duration": 38,
        "start_time": "2024-11-28T18:37:41.966Z"
      },
      {
        "duration": 3,
        "start_time": "2024-11-28T18:37:42.005Z"
      },
      {
        "duration": 352,
        "start_time": "2024-11-28T18:37:42.009Z"
      },
      {
        "duration": 15,
        "start_time": "2024-11-28T18:37:42.364Z"
      },
      {
        "duration": 17,
        "start_time": "2024-11-28T18:37:42.381Z"
      },
      {
        "duration": 283,
        "start_time": "2024-11-28T18:37:42.400Z"
      },
      {
        "duration": 2,
        "start_time": "2024-11-28T18:37:42.685Z"
      },
      {
        "duration": 6360,
        "start_time": "2024-11-28T18:37:42.689Z"
      },
      {
        "duration": 383,
        "start_time": "2024-11-28T18:37:49.052Z"
      },
      {
        "duration": 3,
        "start_time": "2024-11-28T18:37:49.436Z"
      },
      {
        "duration": 514,
        "start_time": "2024-11-28T18:37:49.440Z"
      },
      {
        "duration": 387,
        "start_time": "2024-11-28T18:37:49.956Z"
      },
      {
        "duration": 7,
        "start_time": "2024-11-28T18:37:50.345Z"
      },
      {
        "duration": 9000,
        "start_time": "2024-11-28T18:37:50.354Z"
      },
      {
        "duration": 3,
        "start_time": "2024-11-28T18:37:59.356Z"
      },
      {
        "duration": 108,
        "start_time": "2024-11-28T18:37:59.361Z"
      },
      {
        "duration": 66,
        "start_time": "2024-11-28T18:37:59.471Z"
      },
      {
        "duration": 69,
        "start_time": "2024-11-28T18:37:59.539Z"
      },
      {
        "duration": 446,
        "start_time": "2024-11-28T18:38:59.026Z"
      },
      {
        "duration": 294,
        "start_time": "2024-11-28T18:39:22.825Z"
      },
      {
        "duration": 3163,
        "start_time": "2024-11-28T18:43:17.334Z"
      },
      {
        "duration": 2597,
        "start_time": "2024-11-28T18:43:20.500Z"
      },
      {
        "duration": 2608,
        "start_time": "2024-11-28T18:43:23.099Z"
      },
      {
        "duration": 6,
        "start_time": "2024-11-28T18:43:25.710Z"
      },
      {
        "duration": 5,
        "start_time": "2024-11-28T18:43:25.717Z"
      },
      {
        "duration": 6,
        "start_time": "2024-11-28T18:43:25.723Z"
      },
      {
        "duration": 5,
        "start_time": "2024-11-28T18:43:25.731Z"
      },
      {
        "duration": 3,
        "start_time": "2024-11-28T18:43:25.738Z"
      },
      {
        "duration": 73,
        "start_time": "2024-11-28T18:43:25.742Z"
      },
      {
        "duration": 14,
        "start_time": "2024-11-28T18:43:25.819Z"
      },
      {
        "duration": 12,
        "start_time": "2024-11-28T18:43:25.834Z"
      },
      {
        "duration": 3,
        "start_time": "2024-11-28T18:43:25.848Z"
      },
      {
        "duration": 344,
        "start_time": "2024-11-28T18:43:25.852Z"
      },
      {
        "duration": 15,
        "start_time": "2024-11-28T18:43:26.198Z"
      },
      {
        "duration": 8,
        "start_time": "2024-11-28T18:43:26.214Z"
      },
      {
        "duration": 287,
        "start_time": "2024-11-28T18:43:26.223Z"
      },
      {
        "duration": 3,
        "start_time": "2024-11-28T18:43:26.511Z"
      },
      {
        "duration": 6470,
        "start_time": "2024-11-28T18:43:26.516Z"
      },
      {
        "duration": 480,
        "start_time": "2024-11-28T18:43:32.989Z"
      },
      {
        "duration": 2,
        "start_time": "2024-11-28T18:43:33.471Z"
      },
      {
        "duration": 501,
        "start_time": "2024-11-28T18:43:33.475Z"
      },
      {
        "duration": 345,
        "start_time": "2024-11-28T18:43:33.981Z"
      },
      {
        "duration": 3,
        "start_time": "2024-11-28T18:43:34.328Z"
      },
      {
        "duration": 9304,
        "start_time": "2024-11-28T18:43:34.333Z"
      },
      {
        "duration": 3,
        "start_time": "2024-11-28T18:43:43.639Z"
      },
      {
        "duration": 76,
        "start_time": "2024-11-28T18:43:43.652Z"
      },
      {
        "duration": 83,
        "start_time": "2024-11-28T18:43:43.730Z"
      },
      {
        "duration": 47,
        "start_time": "2024-11-28T18:43:46.618Z"
      },
      {
        "duration": 61,
        "start_time": "2024-11-28T18:43:47.274Z"
      },
      {
        "duration": 269,
        "start_time": "2024-11-28T18:43:48.730Z"
      },
      {
        "duration": 6,
        "start_time": "2024-11-28T18:44:06.825Z"
      },
      {
        "duration": 3250,
        "start_time": "2024-11-28T18:45:01.046Z"
      },
      {
        "duration": 2573,
        "start_time": "2024-11-28T18:45:04.299Z"
      },
      {
        "duration": 2638,
        "start_time": "2024-11-28T18:45:06.874Z"
      },
      {
        "duration": 1832,
        "start_time": "2024-11-28T18:45:09.514Z"
      },
      {
        "duration": 4,
        "start_time": "2024-11-28T18:45:11.348Z"
      },
      {
        "duration": 37,
        "start_time": "2024-11-28T18:45:11.354Z"
      },
      {
        "duration": 5847,
        "start_time": "2024-11-28T18:45:11.393Z"
      },
      {
        "duration": 3,
        "start_time": "2024-11-28T18:45:17.242Z"
      },
      {
        "duration": 102,
        "start_time": "2024-11-28T18:45:17.247Z"
      },
      {
        "duration": 14,
        "start_time": "2024-11-28T18:45:17.351Z"
      },
      {
        "duration": 12,
        "start_time": "2024-11-28T18:45:17.366Z"
      },
      {
        "duration": 3,
        "start_time": "2024-11-28T18:45:17.380Z"
      },
      {
        "duration": 349,
        "start_time": "2024-11-28T18:45:17.385Z"
      },
      {
        "duration": 15,
        "start_time": "2024-11-28T18:45:17.738Z"
      },
      {
        "duration": 7,
        "start_time": "2024-11-28T18:45:17.755Z"
      },
      {
        "duration": 290,
        "start_time": "2024-11-28T18:45:17.764Z"
      },
      {
        "duration": 3,
        "start_time": "2024-11-28T18:45:18.056Z"
      },
      {
        "duration": 6784,
        "start_time": "2024-11-28T18:45:18.060Z"
      },
      {
        "duration": 441,
        "start_time": "2024-11-28T18:45:24.845Z"
      },
      {
        "duration": 2,
        "start_time": "2024-11-28T18:45:25.288Z"
      },
      {
        "duration": 538,
        "start_time": "2024-11-28T18:45:25.292Z"
      },
      {
        "duration": 346,
        "start_time": "2024-11-28T18:45:25.833Z"
      },
      {
        "duration": 3,
        "start_time": "2024-11-28T18:45:26.181Z"
      },
      {
        "duration": 10934,
        "start_time": "2024-11-28T18:45:26.185Z"
      },
      {
        "duration": 3,
        "start_time": "2024-11-28T18:45:37.121Z"
      },
      {
        "duration": 105,
        "start_time": "2024-11-28T18:45:37.126Z"
      },
      {
        "duration": 79,
        "start_time": "2024-11-28T18:45:37.232Z"
      },
      {
        "duration": 21,
        "start_time": "2024-11-28T18:45:49.156Z"
      },
      {
        "duration": 56,
        "start_time": "2024-11-28T18:45:49.684Z"
      },
      {
        "duration": 7,
        "start_time": "2024-11-28T18:45:57.251Z"
      },
      {
        "duration": 196,
        "start_time": "2024-11-28T18:46:29.908Z"
      },
      {
        "duration": 290,
        "start_time": "2024-11-28T18:47:40.500Z"
      },
      {
        "duration": 82,
        "start_time": "2024-11-28T18:48:05.189Z"
      },
      {
        "duration": 6,
        "start_time": "2024-11-28T18:48:29.035Z"
      },
      {
        "duration": 5936,
        "start_time": "2024-11-28T18:59:49.128Z"
      },
      {
        "duration": 5306,
        "start_time": "2024-11-28T19:01:06.056Z"
      },
      {
        "duration": 5415,
        "start_time": "2024-11-28T19:01:33.603Z"
      },
      {
        "duration": 5119,
        "start_time": "2024-11-28T19:01:57.052Z"
      },
      {
        "duration": 6328,
        "start_time": "2024-11-28T19:02:41.149Z"
      },
      {
        "duration": 19723,
        "start_time": "2024-11-28T19:02:56.796Z"
      },
      {
        "duration": 12325,
        "start_time": "2024-11-28T19:03:53.947Z"
      },
      {
        "duration": 3,
        "start_time": "2024-11-28T19:04:36.371Z"
      },
      {
        "duration": 10784,
        "start_time": "2024-11-28T19:04:37.711Z"
      },
      {
        "duration": 3,
        "start_time": "2024-11-28T19:04:49.511Z"
      },
      {
        "duration": 11834,
        "start_time": "2024-11-28T19:04:50.268Z"
      },
      {
        "duration": 6,
        "start_time": "2024-11-28T19:05:03.920Z"
      },
      {
        "duration": 77,
        "start_time": "2024-11-28T19:05:04.797Z"
      },
      {
        "duration": 71,
        "start_time": "2024-11-28T19:05:05.566Z"
      },
      {
        "duration": 32,
        "start_time": "2024-11-28T19:05:07.077Z"
      },
      {
        "duration": 57,
        "start_time": "2024-11-28T19:05:07.437Z"
      },
      {
        "duration": 192,
        "start_time": "2024-11-28T19:05:07.678Z"
      },
      {
        "duration": 287,
        "start_time": "2024-11-28T19:05:08.356Z"
      },
      {
        "duration": 18476,
        "start_time": "2024-11-28T19:05:26.005Z"
      },
      {
        "duration": 6,
        "start_time": "2024-11-28T19:09:51.807Z"
      },
      {
        "duration": 277,
        "start_time": "2024-11-28T19:10:01.871Z"
      },
      {
        "duration": 6,
        "start_time": "2024-11-28T19:10:04.302Z"
      },
      {
        "duration": 6032,
        "start_time": "2024-11-28T19:10:30.232Z"
      },
      {
        "duration": 18,
        "start_time": "2024-11-28T19:11:53.069Z"
      },
      {
        "duration": 151647,
        "start_time": "2024-11-28T19:15:43.529Z"
      },
      {
        "duration": 6,
        "start_time": "2024-11-28T19:20:23.665Z"
      },
      {
        "duration": 11571,
        "start_time": "2024-11-28T19:20:29.020Z"
      },
      {
        "duration": 3727,
        "start_time": "2024-11-28T19:20:41.067Z"
      },
      {
        "duration": 19,
        "start_time": "2024-11-28T19:22:18.943Z"
      },
      {
        "duration": 43,
        "start_time": "2024-11-28T19:25:10.875Z"
      },
      {
        "duration": 180,
        "start_time": "2024-11-28T19:25:16.363Z"
      },
      {
        "duration": 18,
        "start_time": "2024-11-28T19:25:18.738Z"
      },
      {
        "duration": 267,
        "start_time": "2024-11-28T19:25:21.314Z"
      },
      {
        "duration": 79,
        "start_time": "2024-11-28T19:25:55.754Z"
      },
      {
        "duration": 10576,
        "start_time": "2024-11-28T19:26:11.757Z"
      },
      {
        "duration": 84393,
        "start_time": "2024-11-28T19:27:04.723Z"
      },
      {
        "duration": 438,
        "start_time": "2024-11-28T19:30:56.479Z"
      },
      {
        "duration": 296,
        "start_time": "2024-11-28T19:31:04.663Z"
      },
      {
        "duration": 14,
        "start_time": "2024-11-28T19:31:09.852Z"
      },
      {
        "duration": 294,
        "start_time": "2024-11-28T19:31:40.784Z"
      },
      {
        "duration": 252,
        "start_time": "2024-11-28T19:32:26.425Z"
      },
      {
        "duration": 260,
        "start_time": "2024-11-28T19:32:43.401Z"
      },
      {
        "duration": 4,
        "start_time": "2024-11-28T19:32:57.664Z"
      },
      {
        "duration": 2896,
        "start_time": "2024-11-28T19:46:47.002Z"
      },
      {
        "duration": 2001,
        "start_time": "2024-11-28T19:49:34.892Z"
      },
      {
        "duration": 60,
        "start_time": "2024-11-28T19:50:31.019Z"
      },
      {
        "duration": 5,
        "start_time": "2024-11-28T19:50:42.940Z"
      },
      {
        "duration": 9,
        "start_time": "2024-11-28T19:50:58.514Z"
      },
      {
        "duration": 12,
        "start_time": "2024-11-28T19:51:59.027Z"
      },
      {
        "duration": 7,
        "start_time": "2024-11-28T19:52:06.076Z"
      },
      {
        "duration": 78,
        "start_time": "2024-11-28T19:52:06.360Z"
      },
      {
        "duration": 72,
        "start_time": "2024-11-28T19:52:25.962Z"
      },
      {
        "duration": 71,
        "start_time": "2024-11-28T19:52:31.076Z"
      },
      {
        "duration": 15,
        "start_time": "2024-11-28T19:52:51.563Z"
      },
      {
        "duration": 5,
        "start_time": "2024-11-28T19:53:24.716Z"
      },
      {
        "duration": 5,
        "start_time": "2024-11-28T19:53:30.235Z"
      },
      {
        "duration": 2056,
        "start_time": "2024-11-28T19:54:18.259Z"
      },
      {
        "duration": 2102,
        "start_time": "2024-11-28T19:54:38.444Z"
      },
      {
        "duration": 6,
        "start_time": "2024-11-28T19:55:22.475Z"
      },
      {
        "duration": 9,
        "start_time": "2024-11-28T19:55:28.765Z"
      },
      {
        "duration": 5,
        "start_time": "2024-11-28T19:55:34.644Z"
      },
      {
        "duration": 2115,
        "start_time": "2024-11-28T19:56:22.772Z"
      },
      {
        "duration": 48,
        "start_time": "2024-11-28T19:58:08.884Z"
      },
      {
        "duration": 12,
        "start_time": "2024-11-28T19:58:19.871Z"
      },
      {
        "duration": 12,
        "start_time": "2024-11-28T19:59:16.543Z"
      },
      {
        "duration": 23,
        "start_time": "2024-11-28T19:59:23.877Z"
      },
      {
        "duration": 7,
        "start_time": "2024-11-28T19:59:32.742Z"
      },
      {
        "duration": 8,
        "start_time": "2024-11-28T19:59:37.157Z"
      },
      {
        "duration": 55,
        "start_time": "2024-11-28T20:01:17.989Z"
      },
      {
        "duration": 11,
        "start_time": "2024-11-28T20:01:27.525Z"
      },
      {
        "duration": 8,
        "start_time": "2024-11-28T20:05:14.022Z"
      },
      {
        "duration": 3,
        "start_time": "2024-11-28T20:05:56.374Z"
      },
      {
        "duration": 5,
        "start_time": "2024-11-28T20:05:56.958Z"
      },
      {
        "duration": 4,
        "start_time": "2024-11-28T20:06:00.927Z"
      },
      {
        "duration": 13,
        "start_time": "2024-11-28T20:06:46.071Z"
      },
      {
        "duration": 4,
        "start_time": "2024-11-28T20:07:01.910Z"
      },
      {
        "duration": 18,
        "start_time": "2024-11-28T20:07:20.632Z"
      },
      {
        "duration": 4,
        "start_time": "2024-11-28T20:07:45.582Z"
      },
      {
        "duration": 824,
        "start_time": "2024-11-28T20:09:10.719Z"
      },
      {
        "duration": 64,
        "start_time": "2024-11-28T20:13:43.073Z"
      },
      {
        "duration": 804,
        "start_time": "2024-11-28T20:13:55.342Z"
      },
      {
        "duration": 527,
        "start_time": "2024-11-28T20:14:40.496Z"
      },
      {
        "duration": 529,
        "start_time": "2024-11-28T20:15:25.704Z"
      },
      {
        "duration": 555,
        "start_time": "2024-11-28T20:16:01.943Z"
      },
      {
        "duration": 531,
        "start_time": "2024-11-28T20:16:51.376Z"
      },
      {
        "duration": 541,
        "start_time": "2024-11-28T20:16:58.721Z"
      },
      {
        "duration": 515,
        "start_time": "2024-11-28T20:17:47.016Z"
      },
      {
        "duration": 529,
        "start_time": "2024-11-28T20:18:46.345Z"
      },
      {
        "duration": 533,
        "start_time": "2024-11-28T20:19:24.528Z"
      },
      {
        "duration": 530,
        "start_time": "2024-11-28T20:19:47.635Z"
      },
      {
        "duration": 542,
        "start_time": "2024-11-28T20:20:07.334Z"
      },
      {
        "duration": 553,
        "start_time": "2024-11-28T20:21:05.342Z"
      },
      {
        "duration": 549,
        "start_time": "2024-11-28T20:22:10.948Z"
      },
      {
        "duration": 548,
        "start_time": "2024-11-28T20:23:06.818Z"
      },
      {
        "duration": 13,
        "start_time": "2024-11-28T20:24:11.082Z"
      },
      {
        "duration": 27,
        "start_time": "2024-11-28T20:25:03.603Z"
      },
      {
        "duration": 229,
        "start_time": "2024-11-28T20:25:19.313Z"
      },
      {
        "duration": 37,
        "start_time": "2024-11-28T20:25:49.356Z"
      },
      {
        "duration": 246,
        "start_time": "2024-11-28T20:25:49.835Z"
      },
      {
        "duration": 24,
        "start_time": "2024-11-28T20:26:13.363Z"
      },
      {
        "duration": 959,
        "start_time": "2024-11-28T20:26:14.235Z"
      },
      {
        "duration": 21,
        "start_time": "2024-11-28T20:26:28.554Z"
      },
      {
        "duration": 2056,
        "start_time": "2024-11-28T20:26:28.795Z"
      },
      {
        "duration": 305,
        "start_time": "2024-11-28T20:26:35.683Z"
      },
      {
        "duration": 15,
        "start_time": "2024-11-28T20:28:44.269Z"
      },
      {
        "duration": 16,
        "start_time": "2024-11-28T20:29:09.728Z"
      },
      {
        "duration": 873,
        "start_time": "2024-11-28T20:29:10.149Z"
      },
      {
        "duration": 24,
        "start_time": "2024-11-28T20:29:38.750Z"
      },
      {
        "duration": 1131,
        "start_time": "2024-11-28T20:29:39.118Z"
      },
      {
        "duration": 22,
        "start_time": "2024-11-28T20:31:40.012Z"
      },
      {
        "duration": 221,
        "start_time": "2024-11-28T20:31:40.421Z"
      }
    ],
    "kernelspec": {
      "display_name": "Python 3 (ipykernel)",
      "language": "python",
      "name": "python3"
    },
    "language_info": {
      "codemirror_mode": {
        "name": "ipython",
        "version": 3
      },
      "file_extension": ".py",
      "mimetype": "text/x-python",
      "name": "python",
      "nbconvert_exporter": "python",
      "pygments_lexer": "ipython3",
      "version": "3.9.5"
    },
    "toc": {
      "base_numbering": 1,
      "nav_menu": {
        "height": "254px",
        "width": "260px"
      },
      "number_sections": false,
      "sideBar": true,
      "skip_h1_title": false,
      "title_cell": "Table of Contents",
      "title_sidebar": "Contents",
      "toc_cell": false,
      "toc_position": {},
      "toc_section_display": true,
      "toc_window_display": false
    },
    "varInspector": {
      "cols": {
        "lenName": 16,
        "lenType": 16,
        "lenVar": 40
      },
      "kernels_config": {
        "python": {
          "delete_cmd_postfix": "",
          "delete_cmd_prefix": "del ",
          "library": "var_list.py",
          "varRefreshCmd": "print(var_dic_list())"
        },
        "r": {
          "delete_cmd_postfix": ") ",
          "delete_cmd_prefix": "rm(",
          "library": "var_list.r",
          "varRefreshCmd": "cat(var_dic_list()) "
        }
      },
      "types_to_exclude": [
        "module",
        "function",
        "builtin_function_or_method",
        "instance",
        "_Feature"
      ],
      "window_display": false
    },
    "colab": {
      "provenance": []
    }
  },
  "nbformat": 4,
  "nbformat_minor": 5
}